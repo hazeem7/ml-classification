{
  "cells": [
    {
      "cell_type": "markdown",
      "metadata": {
        "id": "eQtTOPP_W3dd"
      },
      "source": [
        "##**Exploratory Data Analysis(EDA)**\n"
      ],
      "id": "eQtTOPP_W3dd"
    },
    {
      "cell_type": "markdown",
      "metadata": {
        "id": "j_M7jRVBWoiu"
      },
      "source": [
        "**IMPORT LIBARIES**"
      ],
      "id": "j_M7jRVBWoiu"
    },
    {
      "cell_type": "code",
      "execution_count": 1,
      "id": "9178432f",
      "metadata": {
        "id": "9178432f"
      },
      "outputs": [],
      "source": [
        "#Libaries imported\n",
        "import pandas as pd \n",
        "import numpy as np\n",
        "import matplotlib.pyplot as plt\n",
        "import seaborn as sns\n",
        "import warnings\n",
        "%matplotlib inline\n",
        "warnings.filterwarnings('ignore')"
      ]
    },
    {
      "cell_type": "markdown",
      "metadata": {
        "id": "7It5wbUdXDNl"
      },
      "source": [
        "**LOAD DATASET**\n",
        "\n",
        "Loading dataset all datasets\n"
      ],
      "id": "7It5wbUdXDNl"
    },
    {
      "cell_type": "code",
      "execution_count": 2,
      "id": "48fbe611",
      "metadata": {
        "id": "48fbe611"
      },
      "outputs": [],
      "source": [
        "#Processed_Train_001,2,3,4\n",
        "train_1=pd.read_csv('Processed_Train_001.csv')\n",
        "train_2=pd.read_csv('Processed_Train_002.csv')\n",
        "train_3=pd.read_csv('Processed_Train_003.csv')\n",
        "train_4=pd.read_csv('Processed_Train_004.csv')"
      ]
    },
    {
      "cell_type": "markdown",
      "metadata": {
        "id": "x_1Gzngi6LRh"
      },
      "source": [
        "##**Number of rows and columns of loading datasets**"
      ],
      "id": "x_1Gzngi6LRh"
    },
    {
      "cell_type": "markdown",
      "metadata": {
        "id": "I5A_AMbGGF9m"
      },
      "source": [
        "**Numbers of Rows and Columns of  train dataset-1**"
      ],
      "id": "I5A_AMbGGF9m"
    },
    {
      "cell_type": "code",
      "execution_count": 3,
      "metadata": {
        "colab": {
          "base_uri": "https://localhost:8080/"
        },
        "id": "u5z87jLK1g6b",
        "outputId": "ec01bf41-7ade-4299-e85e-09940e7abc99"
      },
      "outputs": [
        {
          "output_type": "stream",
          "name": "stdout",
          "text": [
            "Number of Rows in Dataset 20631\n",
            "Number of columns in dataset 15\n"
          ]
        }
      ],
      "source": [
        "#shape \n",
        "train_1.shape\n",
        "print('Number of Rows in Dataset',train_1.shape[0])\n",
        "print('Number of columns in dataset',train_1.shape[1])"
      ],
      "id": "u5z87jLK1g6b"
    },
    {
      "cell_type": "markdown",
      "metadata": {
        "id": "KffiDsrLGRo0"
      },
      "source": [
        "**Numbers of Rows and Columns of  Train dataset-2**"
      ],
      "id": "KffiDsrLGRo0"
    },
    {
      "cell_type": "code",
      "execution_count": 4,
      "metadata": {
        "colab": {
          "base_uri": "https://localhost:8080/"
        },
        "id": "pX4DGRcD2FSL",
        "outputId": "1c41c89d-90e1-4990-a8d8-e18299d27611"
      },
      "outputs": [
        {
          "output_type": "stream",
          "name": "stdout",
          "text": [
            "Number of Rows in Dataset 53759\n",
            "Number of columns in dataset 15\n"
          ]
        }
      ],
      "source": [
        "train_2.shape\n",
        "print('Number of Rows in Dataset',train_2.shape[0])\n",
        "print('Number of columns in dataset',train_2.shape[1])"
      ],
      "id": "pX4DGRcD2FSL"
    },
    {
      "cell_type": "markdown",
      "metadata": {
        "id": "frxfnyxJGTdc"
      },
      "source": [
        "**Numbers of Rows and Columns of  train dataset-3**"
      ],
      "id": "frxfnyxJGTdc"
    },
    {
      "cell_type": "code",
      "execution_count": 5,
      "metadata": {
        "colab": {
          "base_uri": "https://localhost:8080/"
        },
        "id": "MZqT3-9G2X51",
        "outputId": "dffb9e69-deea-4970-e05e-e79b08c0613c"
      },
      "outputs": [
        {
          "output_type": "stream",
          "name": "stdout",
          "text": [
            "Number of Rows in Dataset 24720\n",
            "Number of columns in dataset 15\n"
          ]
        }
      ],
      "source": [
        "train_3.shape\n",
        "print('Number of Rows in Dataset',train_3.shape[0])\n",
        "print('Number of columns in dataset',train_3.shape[1])"
      ],
      "id": "MZqT3-9G2X51"
    },
    {
      "cell_type": "markdown",
      "metadata": {
        "id": "dELw2CmiGair"
      },
      "source": [
        "**Numbers of Rows and Columns of  train dataset-4**"
      ],
      "id": "dELw2CmiGair"
    },
    {
      "cell_type": "code",
      "execution_count": 6,
      "metadata": {
        "colab": {
          "base_uri": "https://localhost:8080/"
        },
        "id": "0vTjY-_r2ipR",
        "outputId": "144116cf-0d20-46cb-f9fa-7a1be79d4c5b"
      },
      "outputs": [
        {
          "output_type": "stream",
          "name": "stdout",
          "text": [
            "Number of Rows in Dataset 61249\n",
            "Number of columns in dataset 15\n"
          ]
        }
      ],
      "source": [
        "train_4.shape\n",
        "print('Number of Rows in Dataset',train_4.shape[0])\n",
        "print('Number of columns in dataset',train_4.shape[1])"
      ],
      "id": "0vTjY-_r2ipR"
    },
    {
      "cell_type": "markdown",
      "metadata": {
        "id": "ItiMGY0B7peB"
      },
      "source": [
        "###**Combinning all the datasets**"
      ],
      "id": "ItiMGY0B7peB"
    },
    {
      "cell_type": "markdown",
      "metadata": {
        "id": "TaW1VVge9fn2"
      },
      "source": [
        "**Loading the datasets**"
      ],
      "id": "TaW1VVge9fn2"
    },
    {
      "cell_type": "code",
      "execution_count": 7,
      "id": "c3a942ae",
      "metadata": {
        "id": "c3a942ae"
      },
      "outputs": [],
      "source": [
        "df_train=pd.concat([train_1,train_2,train_3,train_4],axis=0,ignore_index=True)"
      ]
    },
    {
      "cell_type": "code",
      "source": [
        "df_train.head()"
      ],
      "metadata": {
        "colab": {
          "base_uri": "https://localhost:8080/",
          "height": 206
        },
        "id": "wE7jMoRN9fqj",
        "outputId": "c8e49a24-c5e0-489e-9ced-d3b896a4ecef"
      },
      "id": "wE7jMoRN9fqj",
      "execution_count": 8,
      "outputs": [
        {
          "output_type": "execute_result",
          "data": {
            "text/plain": [
              "   ID  Cycle  SensorMeasure2  SensorMeasure3  SensorMeasure4  SensorMeasure7  \\\n",
              "0   1      1          641.82         1589.70         1400.60          554.36   \n",
              "1   1      2          642.15         1591.82         1403.14          553.75   \n",
              "2   1      3          642.35         1587.99         1404.20          554.26   \n",
              "3   1      4          642.35         1582.79         1401.87          554.45   \n",
              "4   1      5          642.37         1582.85         1406.22          554.00   \n",
              "\n",
              "   SensorMeasure8  SensorMeasure11  SensorMeasure12  SensorMeasure13  \\\n",
              "0         2388.06            47.47           521.66          2388.02   \n",
              "1         2388.04            47.49           522.28          2388.07   \n",
              "2         2388.08            47.27           522.42          2388.03   \n",
              "3         2388.11            47.13           522.86          2388.08   \n",
              "4         2388.06            47.28           522.19          2388.04   \n",
              "\n",
              "   SensorMeasure15  SensorMeasure17  SensorMeasure20  SensorMeasure21  RUL  \n",
              "0           8.4195              392            39.06          23.4190  191  \n",
              "1           8.4318              392            39.00          23.4236  190  \n",
              "2           8.4178              390            38.95          23.3442  189  \n",
              "3           8.3682              392            38.88          23.3739  188  \n",
              "4           8.4294              393            38.90          23.4044  187  "
            ],
            "text/html": [
              "\n",
              "  <div id=\"df-c87a0d1b-dcdc-44d6-b2d9-6892903bd37e\">\n",
              "    <div class=\"colab-df-container\">\n",
              "      <div>\n",
              "<style scoped>\n",
              "    .dataframe tbody tr th:only-of-type {\n",
              "        vertical-align: middle;\n",
              "    }\n",
              "\n",
              "    .dataframe tbody tr th {\n",
              "        vertical-align: top;\n",
              "    }\n",
              "\n",
              "    .dataframe thead th {\n",
              "        text-align: right;\n",
              "    }\n",
              "</style>\n",
              "<table border=\"1\" class=\"dataframe\">\n",
              "  <thead>\n",
              "    <tr style=\"text-align: right;\">\n",
              "      <th></th>\n",
              "      <th>ID</th>\n",
              "      <th>Cycle</th>\n",
              "      <th>SensorMeasure2</th>\n",
              "      <th>SensorMeasure3</th>\n",
              "      <th>SensorMeasure4</th>\n",
              "      <th>SensorMeasure7</th>\n",
              "      <th>SensorMeasure8</th>\n",
              "      <th>SensorMeasure11</th>\n",
              "      <th>SensorMeasure12</th>\n",
              "      <th>SensorMeasure13</th>\n",
              "      <th>SensorMeasure15</th>\n",
              "      <th>SensorMeasure17</th>\n",
              "      <th>SensorMeasure20</th>\n",
              "      <th>SensorMeasure21</th>\n",
              "      <th>RUL</th>\n",
              "    </tr>\n",
              "  </thead>\n",
              "  <tbody>\n",
              "    <tr>\n",
              "      <th>0</th>\n",
              "      <td>1</td>\n",
              "      <td>1</td>\n",
              "      <td>641.82</td>\n",
              "      <td>1589.70</td>\n",
              "      <td>1400.60</td>\n",
              "      <td>554.36</td>\n",
              "      <td>2388.06</td>\n",
              "      <td>47.47</td>\n",
              "      <td>521.66</td>\n",
              "      <td>2388.02</td>\n",
              "      <td>8.4195</td>\n",
              "      <td>392</td>\n",
              "      <td>39.06</td>\n",
              "      <td>23.4190</td>\n",
              "      <td>191</td>\n",
              "    </tr>\n",
              "    <tr>\n",
              "      <th>1</th>\n",
              "      <td>1</td>\n",
              "      <td>2</td>\n",
              "      <td>642.15</td>\n",
              "      <td>1591.82</td>\n",
              "      <td>1403.14</td>\n",
              "      <td>553.75</td>\n",
              "      <td>2388.04</td>\n",
              "      <td>47.49</td>\n",
              "      <td>522.28</td>\n",
              "      <td>2388.07</td>\n",
              "      <td>8.4318</td>\n",
              "      <td>392</td>\n",
              "      <td>39.00</td>\n",
              "      <td>23.4236</td>\n",
              "      <td>190</td>\n",
              "    </tr>\n",
              "    <tr>\n",
              "      <th>2</th>\n",
              "      <td>1</td>\n",
              "      <td>3</td>\n",
              "      <td>642.35</td>\n",
              "      <td>1587.99</td>\n",
              "      <td>1404.20</td>\n",
              "      <td>554.26</td>\n",
              "      <td>2388.08</td>\n",
              "      <td>47.27</td>\n",
              "      <td>522.42</td>\n",
              "      <td>2388.03</td>\n",
              "      <td>8.4178</td>\n",
              "      <td>390</td>\n",
              "      <td>38.95</td>\n",
              "      <td>23.3442</td>\n",
              "      <td>189</td>\n",
              "    </tr>\n",
              "    <tr>\n",
              "      <th>3</th>\n",
              "      <td>1</td>\n",
              "      <td>4</td>\n",
              "      <td>642.35</td>\n",
              "      <td>1582.79</td>\n",
              "      <td>1401.87</td>\n",
              "      <td>554.45</td>\n",
              "      <td>2388.11</td>\n",
              "      <td>47.13</td>\n",
              "      <td>522.86</td>\n",
              "      <td>2388.08</td>\n",
              "      <td>8.3682</td>\n",
              "      <td>392</td>\n",
              "      <td>38.88</td>\n",
              "      <td>23.3739</td>\n",
              "      <td>188</td>\n",
              "    </tr>\n",
              "    <tr>\n",
              "      <th>4</th>\n",
              "      <td>1</td>\n",
              "      <td>5</td>\n",
              "      <td>642.37</td>\n",
              "      <td>1582.85</td>\n",
              "      <td>1406.22</td>\n",
              "      <td>554.00</td>\n",
              "      <td>2388.06</td>\n",
              "      <td>47.28</td>\n",
              "      <td>522.19</td>\n",
              "      <td>2388.04</td>\n",
              "      <td>8.4294</td>\n",
              "      <td>393</td>\n",
              "      <td>38.90</td>\n",
              "      <td>23.4044</td>\n",
              "      <td>187</td>\n",
              "    </tr>\n",
              "  </tbody>\n",
              "</table>\n",
              "</div>\n",
              "      <button class=\"colab-df-convert\" onclick=\"convertToInteractive('df-c87a0d1b-dcdc-44d6-b2d9-6892903bd37e')\"\n",
              "              title=\"Convert this dataframe to an interactive table.\"\n",
              "              style=\"display:none;\">\n",
              "        \n",
              "  <svg xmlns=\"http://www.w3.org/2000/svg\" height=\"24px\"viewBox=\"0 0 24 24\"\n",
              "       width=\"24px\">\n",
              "    <path d=\"M0 0h24v24H0V0z\" fill=\"none\"/>\n",
              "    <path d=\"M18.56 5.44l.94 2.06.94-2.06 2.06-.94-2.06-.94-.94-2.06-.94 2.06-2.06.94zm-11 1L8.5 8.5l.94-2.06 2.06-.94-2.06-.94L8.5 2.5l-.94 2.06-2.06.94zm10 10l.94 2.06.94-2.06 2.06-.94-2.06-.94-.94-2.06-.94 2.06-2.06.94z\"/><path d=\"M17.41 7.96l-1.37-1.37c-.4-.4-.92-.59-1.43-.59-.52 0-1.04.2-1.43.59L10.3 9.45l-7.72 7.72c-.78.78-.78 2.05 0 2.83L4 21.41c.39.39.9.59 1.41.59.51 0 1.02-.2 1.41-.59l7.78-7.78 2.81-2.81c.8-.78.8-2.07 0-2.86zM5.41 20L4 18.59l7.72-7.72 1.47 1.35L5.41 20z\"/>\n",
              "  </svg>\n",
              "      </button>\n",
              "      \n",
              "  <style>\n",
              "    .colab-df-container {\n",
              "      display:flex;\n",
              "      flex-wrap:wrap;\n",
              "      gap: 12px;\n",
              "    }\n",
              "\n",
              "    .colab-df-convert {\n",
              "      background-color: #E8F0FE;\n",
              "      border: none;\n",
              "      border-radius: 50%;\n",
              "      cursor: pointer;\n",
              "      display: none;\n",
              "      fill: #1967D2;\n",
              "      height: 32px;\n",
              "      padding: 0 0 0 0;\n",
              "      width: 32px;\n",
              "    }\n",
              "\n",
              "    .colab-df-convert:hover {\n",
              "      background-color: #E2EBFA;\n",
              "      box-shadow: 0px 1px 2px rgba(60, 64, 67, 0.3), 0px 1px 3px 1px rgba(60, 64, 67, 0.15);\n",
              "      fill: #174EA6;\n",
              "    }\n",
              "\n",
              "    [theme=dark] .colab-df-convert {\n",
              "      background-color: #3B4455;\n",
              "      fill: #D2E3FC;\n",
              "    }\n",
              "\n",
              "    [theme=dark] .colab-df-convert:hover {\n",
              "      background-color: #434B5C;\n",
              "      box-shadow: 0px 1px 3px 1px rgba(0, 0, 0, 0.15);\n",
              "      filter: drop-shadow(0px 1px 2px rgba(0, 0, 0, 0.3));\n",
              "      fill: #FFFFFF;\n",
              "    }\n",
              "  </style>\n",
              "\n",
              "      <script>\n",
              "        const buttonEl =\n",
              "          document.querySelector('#df-c87a0d1b-dcdc-44d6-b2d9-6892903bd37e button.colab-df-convert');\n",
              "        buttonEl.style.display =\n",
              "          google.colab.kernel.accessAllowed ? 'block' : 'none';\n",
              "\n",
              "        async function convertToInteractive(key) {\n",
              "          const element = document.querySelector('#df-c87a0d1b-dcdc-44d6-b2d9-6892903bd37e');\n",
              "          const dataTable =\n",
              "            await google.colab.kernel.invokeFunction('convertToInteractive',\n",
              "                                                     [key], {});\n",
              "          if (!dataTable) return;\n",
              "\n",
              "          const docLinkHtml = 'Like what you see? Visit the ' +\n",
              "            '<a target=\"_blank\" href=https://colab.research.google.com/notebooks/data_table.ipynb>data table notebook</a>'\n",
              "            + ' to learn more about interactive tables.';\n",
              "          element.innerHTML = '';\n",
              "          dataTable['output_type'] = 'display_data';\n",
              "          await google.colab.output.renderOutput(dataTable, element);\n",
              "          const docLink = document.createElement('div');\n",
              "          docLink.innerHTML = docLinkHtml;\n",
              "          element.appendChild(docLink);\n",
              "        }\n",
              "      </script>\n",
              "    </div>\n",
              "  </div>\n",
              "  "
            ]
          },
          "metadata": {},
          "execution_count": 8
        }
      ]
    },
    {
      "cell_type": "markdown",
      "metadata": {
        "id": "2IBnKODrmNst"
      },
      "source": [
        "###**Cleanning Dataset**"
      ],
      "id": "2IBnKODrmNst"
    },
    {
      "cell_type": "markdown",
      "metadata": {
        "id": "ixsFuy44fYxY"
      },
      "source": [
        "**Handling Missing Value**\n"
      ],
      "id": "ixsFuy44fYxY"
    },
    {
      "cell_type": "code",
      "execution_count": 9,
      "metadata": {
        "colab": {
          "base_uri": "https://localhost:8080/"
        },
        "id": "CUBG_n__EAcn",
        "outputId": "95a056d1-b23c-4025-ca7d-f8eaca0eec63"
      },
      "outputs": [
        {
          "output_type": "execute_result",
          "data": {
            "text/plain": [
              "ID                 0\n",
              "Cycle              0\n",
              "SensorMeasure2     0\n",
              "SensorMeasure3     0\n",
              "SensorMeasure4     0\n",
              "SensorMeasure7     0\n",
              "SensorMeasure8     0\n",
              "SensorMeasure11    0\n",
              "SensorMeasure12    0\n",
              "SensorMeasure13    0\n",
              "SensorMeasure15    0\n",
              "SensorMeasure17    0\n",
              "SensorMeasure20    0\n",
              "SensorMeasure21    0\n",
              "RUL                0\n",
              "dtype: int64"
            ]
          },
          "metadata": {},
          "execution_count": 9
        }
      ],
      "source": [
        "#checking for the null values\n",
        "df_train.isnull().sum()"
      ],
      "id": "CUBG_n__EAcn"
    },
    {
      "cell_type": "markdown",
      "id": "ec330363",
      "metadata": {
        "id": "ec330363"
      },
      "source": [
        "##**Data Exploration**"
      ]
    },
    {
      "cell_type": "code",
      "source": [
        "df_train.info()"
      ],
      "metadata": {
        "colab": {
          "base_uri": "https://localhost:8080/"
        },
        "id": "59Befidr9nOg",
        "outputId": "9aa4668f-2acd-49c9-df0b-ef7074fdc3ac"
      },
      "id": "59Befidr9nOg",
      "execution_count": 10,
      "outputs": [
        {
          "output_type": "stream",
          "name": "stdout",
          "text": [
            "<class 'pandas.core.frame.DataFrame'>\n",
            "RangeIndex: 160359 entries, 0 to 160358\n",
            "Data columns (total 15 columns):\n",
            " #   Column           Non-Null Count   Dtype  \n",
            "---  ------           --------------   -----  \n",
            " 0   ID               160359 non-null  int64  \n",
            " 1   Cycle            160359 non-null  int64  \n",
            " 2   SensorMeasure2   160359 non-null  float64\n",
            " 3   SensorMeasure3   160359 non-null  float64\n",
            " 4   SensorMeasure4   160359 non-null  float64\n",
            " 5   SensorMeasure7   160359 non-null  float64\n",
            " 6   SensorMeasure8   160359 non-null  float64\n",
            " 7   SensorMeasure11  160359 non-null  float64\n",
            " 8   SensorMeasure12  160359 non-null  float64\n",
            " 9   SensorMeasure13  160359 non-null  float64\n",
            " 10  SensorMeasure15  160359 non-null  float64\n",
            " 11  SensorMeasure17  160359 non-null  int64  \n",
            " 12  SensorMeasure20  160359 non-null  float64\n",
            " 13  SensorMeasure21  160359 non-null  float64\n",
            " 14  RUL              160359 non-null  int64  \n",
            "dtypes: float64(11), int64(4)\n",
            "memory usage: 18.4 MB\n"
          ]
        }
      ]
    },
    {
      "cell_type": "code",
      "source": [
        "df_train.describe()"
      ],
      "metadata": {
        "colab": {
          "base_uri": "https://localhost:8080/",
          "height": 364
        },
        "id": "06mPJJ5Q9q_7",
        "outputId": "d31ed255-5bdc-4220-d664-d189565e7321"
      },
      "id": "06mPJJ5Q9q_7",
      "execution_count": 11,
      "outputs": [
        {
          "output_type": "execute_result",
          "data": {
            "text/plain": [
              "                  ID          Cycle  SensorMeasure2  SensorMeasure3  \\\n",
              "count  160359.000000  160359.000000   160359.000000   160359.000000   \n",
              "mean      105.553758     123.331338      597.361022     1467.035653   \n",
              "std        72.867325      83.538146       42.478516      118.175261   \n",
              "min         1.000000       1.000000      535.480000     1242.670000   \n",
              "25%        44.000000      57.000000      549.960000     1357.360000   \n",
              "50%        89.000000     114.000000      605.930000     1492.810000   \n",
              "75%       164.000000     173.000000      642.340000     1586.590000   \n",
              "max       260.000000     543.000000      645.110000     1616.910000   \n",
              "\n",
              "       SensorMeasure4  SensorMeasure7  SensorMeasure8  SensorMeasure11  \\\n",
              "count   160359.000000   160359.000000   160359.000000    160359.000000   \n",
              "mean      1260.956434      359.729968     2273.829707        44.212049   \n",
              "std        136.300073      174.133835      142.426613         3.426342   \n",
              "min       1023.770000      136.170000     1914.720000        36.040000   \n",
              "25%       1126.830000      175.710000     2212.120000        42.010000   \n",
              "50%       1271.740000      341.690000     2319.370000        44.930000   \n",
              "75%       1402.200000      553.290000     2388.050000        47.340000   \n",
              "max       1441.490000      570.810000     2388.640000        48.530000   \n",
              "\n",
              "       SensorMeasure12  SensorMeasure13  SensorMeasure15  SensorMeasure17  \\\n",
              "count    160359.000000    160359.000000    160359.000000    160359.000000   \n",
              "mean        338.789821      2349.645243         9.054747       360.698801   \n",
              "std         164.193480       111.167242         0.751581        31.021430   \n",
              "min         128.310000      2027.570000         8.156300       302.000000   \n",
              "25%         164.790000      2387.970000         8.439250       332.000000   \n",
              "50%         321.690000      2388.070000         9.030100       367.000000   \n",
              "75%         521.340000      2388.160000         9.344200       392.000000   \n",
              "max         537.490000      2390.490000        11.066900       400.000000   \n",
              "\n",
              "       SensorMeasure20  SensorMeasure21            RUL  \n",
              "count    160359.000000    160359.000000  160359.000000  \n",
              "mean         25.942709        15.565700     122.331338  \n",
              "std          11.691422         7.015067      83.538146  \n",
              "min          10.160000         6.010500       0.000000  \n",
              "25%          14.330000         8.601300      56.000000  \n",
              "50%          24.920000        14.953500     113.000000  \n",
              "75%          38.820000        23.294600     172.000000  \n",
              "max          39.890000        23.950500     542.000000  "
            ],
            "text/html": [
              "\n",
              "  <div id=\"df-94b8ede5-e39b-4ea6-960b-bb68404358a8\">\n",
              "    <div class=\"colab-df-container\">\n",
              "      <div>\n",
              "<style scoped>\n",
              "    .dataframe tbody tr th:only-of-type {\n",
              "        vertical-align: middle;\n",
              "    }\n",
              "\n",
              "    .dataframe tbody tr th {\n",
              "        vertical-align: top;\n",
              "    }\n",
              "\n",
              "    .dataframe thead th {\n",
              "        text-align: right;\n",
              "    }\n",
              "</style>\n",
              "<table border=\"1\" class=\"dataframe\">\n",
              "  <thead>\n",
              "    <tr style=\"text-align: right;\">\n",
              "      <th></th>\n",
              "      <th>ID</th>\n",
              "      <th>Cycle</th>\n",
              "      <th>SensorMeasure2</th>\n",
              "      <th>SensorMeasure3</th>\n",
              "      <th>SensorMeasure4</th>\n",
              "      <th>SensorMeasure7</th>\n",
              "      <th>SensorMeasure8</th>\n",
              "      <th>SensorMeasure11</th>\n",
              "      <th>SensorMeasure12</th>\n",
              "      <th>SensorMeasure13</th>\n",
              "      <th>SensorMeasure15</th>\n",
              "      <th>SensorMeasure17</th>\n",
              "      <th>SensorMeasure20</th>\n",
              "      <th>SensorMeasure21</th>\n",
              "      <th>RUL</th>\n",
              "    </tr>\n",
              "  </thead>\n",
              "  <tbody>\n",
              "    <tr>\n",
              "      <th>count</th>\n",
              "      <td>160359.000000</td>\n",
              "      <td>160359.000000</td>\n",
              "      <td>160359.000000</td>\n",
              "      <td>160359.000000</td>\n",
              "      <td>160359.000000</td>\n",
              "      <td>160359.000000</td>\n",
              "      <td>160359.000000</td>\n",
              "      <td>160359.000000</td>\n",
              "      <td>160359.000000</td>\n",
              "      <td>160359.000000</td>\n",
              "      <td>160359.000000</td>\n",
              "      <td>160359.000000</td>\n",
              "      <td>160359.000000</td>\n",
              "      <td>160359.000000</td>\n",
              "      <td>160359.000000</td>\n",
              "    </tr>\n",
              "    <tr>\n",
              "      <th>mean</th>\n",
              "      <td>105.553758</td>\n",
              "      <td>123.331338</td>\n",
              "      <td>597.361022</td>\n",
              "      <td>1467.035653</td>\n",
              "      <td>1260.956434</td>\n",
              "      <td>359.729968</td>\n",
              "      <td>2273.829707</td>\n",
              "      <td>44.212049</td>\n",
              "      <td>338.789821</td>\n",
              "      <td>2349.645243</td>\n",
              "      <td>9.054747</td>\n",
              "      <td>360.698801</td>\n",
              "      <td>25.942709</td>\n",
              "      <td>15.565700</td>\n",
              "      <td>122.331338</td>\n",
              "    </tr>\n",
              "    <tr>\n",
              "      <th>std</th>\n",
              "      <td>72.867325</td>\n",
              "      <td>83.538146</td>\n",
              "      <td>42.478516</td>\n",
              "      <td>118.175261</td>\n",
              "      <td>136.300073</td>\n",
              "      <td>174.133835</td>\n",
              "      <td>142.426613</td>\n",
              "      <td>3.426342</td>\n",
              "      <td>164.193480</td>\n",
              "      <td>111.167242</td>\n",
              "      <td>0.751581</td>\n",
              "      <td>31.021430</td>\n",
              "      <td>11.691422</td>\n",
              "      <td>7.015067</td>\n",
              "      <td>83.538146</td>\n",
              "    </tr>\n",
              "    <tr>\n",
              "      <th>min</th>\n",
              "      <td>1.000000</td>\n",
              "      <td>1.000000</td>\n",
              "      <td>535.480000</td>\n",
              "      <td>1242.670000</td>\n",
              "      <td>1023.770000</td>\n",
              "      <td>136.170000</td>\n",
              "      <td>1914.720000</td>\n",
              "      <td>36.040000</td>\n",
              "      <td>128.310000</td>\n",
              "      <td>2027.570000</td>\n",
              "      <td>8.156300</td>\n",
              "      <td>302.000000</td>\n",
              "      <td>10.160000</td>\n",
              "      <td>6.010500</td>\n",
              "      <td>0.000000</td>\n",
              "    </tr>\n",
              "    <tr>\n",
              "      <th>25%</th>\n",
              "      <td>44.000000</td>\n",
              "      <td>57.000000</td>\n",
              "      <td>549.960000</td>\n",
              "      <td>1357.360000</td>\n",
              "      <td>1126.830000</td>\n",
              "      <td>175.710000</td>\n",
              "      <td>2212.120000</td>\n",
              "      <td>42.010000</td>\n",
              "      <td>164.790000</td>\n",
              "      <td>2387.970000</td>\n",
              "      <td>8.439250</td>\n",
              "      <td>332.000000</td>\n",
              "      <td>14.330000</td>\n",
              "      <td>8.601300</td>\n",
              "      <td>56.000000</td>\n",
              "    </tr>\n",
              "    <tr>\n",
              "      <th>50%</th>\n",
              "      <td>89.000000</td>\n",
              "      <td>114.000000</td>\n",
              "      <td>605.930000</td>\n",
              "      <td>1492.810000</td>\n",
              "      <td>1271.740000</td>\n",
              "      <td>341.690000</td>\n",
              "      <td>2319.370000</td>\n",
              "      <td>44.930000</td>\n",
              "      <td>321.690000</td>\n",
              "      <td>2388.070000</td>\n",
              "      <td>9.030100</td>\n",
              "      <td>367.000000</td>\n",
              "      <td>24.920000</td>\n",
              "      <td>14.953500</td>\n",
              "      <td>113.000000</td>\n",
              "    </tr>\n",
              "    <tr>\n",
              "      <th>75%</th>\n",
              "      <td>164.000000</td>\n",
              "      <td>173.000000</td>\n",
              "      <td>642.340000</td>\n",
              "      <td>1586.590000</td>\n",
              "      <td>1402.200000</td>\n",
              "      <td>553.290000</td>\n",
              "      <td>2388.050000</td>\n",
              "      <td>47.340000</td>\n",
              "      <td>521.340000</td>\n",
              "      <td>2388.160000</td>\n",
              "      <td>9.344200</td>\n",
              "      <td>392.000000</td>\n",
              "      <td>38.820000</td>\n",
              "      <td>23.294600</td>\n",
              "      <td>172.000000</td>\n",
              "    </tr>\n",
              "    <tr>\n",
              "      <th>max</th>\n",
              "      <td>260.000000</td>\n",
              "      <td>543.000000</td>\n",
              "      <td>645.110000</td>\n",
              "      <td>1616.910000</td>\n",
              "      <td>1441.490000</td>\n",
              "      <td>570.810000</td>\n",
              "      <td>2388.640000</td>\n",
              "      <td>48.530000</td>\n",
              "      <td>537.490000</td>\n",
              "      <td>2390.490000</td>\n",
              "      <td>11.066900</td>\n",
              "      <td>400.000000</td>\n",
              "      <td>39.890000</td>\n",
              "      <td>23.950500</td>\n",
              "      <td>542.000000</td>\n",
              "    </tr>\n",
              "  </tbody>\n",
              "</table>\n",
              "</div>\n",
              "      <button class=\"colab-df-convert\" onclick=\"convertToInteractive('df-94b8ede5-e39b-4ea6-960b-bb68404358a8')\"\n",
              "              title=\"Convert this dataframe to an interactive table.\"\n",
              "              style=\"display:none;\">\n",
              "        \n",
              "  <svg xmlns=\"http://www.w3.org/2000/svg\" height=\"24px\"viewBox=\"0 0 24 24\"\n",
              "       width=\"24px\">\n",
              "    <path d=\"M0 0h24v24H0V0z\" fill=\"none\"/>\n",
              "    <path d=\"M18.56 5.44l.94 2.06.94-2.06 2.06-.94-2.06-.94-.94-2.06-.94 2.06-2.06.94zm-11 1L8.5 8.5l.94-2.06 2.06-.94-2.06-.94L8.5 2.5l-.94 2.06-2.06.94zm10 10l.94 2.06.94-2.06 2.06-.94-2.06-.94-.94-2.06-.94 2.06-2.06.94z\"/><path d=\"M17.41 7.96l-1.37-1.37c-.4-.4-.92-.59-1.43-.59-.52 0-1.04.2-1.43.59L10.3 9.45l-7.72 7.72c-.78.78-.78 2.05 0 2.83L4 21.41c.39.39.9.59 1.41.59.51 0 1.02-.2 1.41-.59l7.78-7.78 2.81-2.81c.8-.78.8-2.07 0-2.86zM5.41 20L4 18.59l7.72-7.72 1.47 1.35L5.41 20z\"/>\n",
              "  </svg>\n",
              "      </button>\n",
              "      \n",
              "  <style>\n",
              "    .colab-df-container {\n",
              "      display:flex;\n",
              "      flex-wrap:wrap;\n",
              "      gap: 12px;\n",
              "    }\n",
              "\n",
              "    .colab-df-convert {\n",
              "      background-color: #E8F0FE;\n",
              "      border: none;\n",
              "      border-radius: 50%;\n",
              "      cursor: pointer;\n",
              "      display: none;\n",
              "      fill: #1967D2;\n",
              "      height: 32px;\n",
              "      padding: 0 0 0 0;\n",
              "      width: 32px;\n",
              "    }\n",
              "\n",
              "    .colab-df-convert:hover {\n",
              "      background-color: #E2EBFA;\n",
              "      box-shadow: 0px 1px 2px rgba(60, 64, 67, 0.3), 0px 1px 3px 1px rgba(60, 64, 67, 0.15);\n",
              "      fill: #174EA6;\n",
              "    }\n",
              "\n",
              "    [theme=dark] .colab-df-convert {\n",
              "      background-color: #3B4455;\n",
              "      fill: #D2E3FC;\n",
              "    }\n",
              "\n",
              "    [theme=dark] .colab-df-convert:hover {\n",
              "      background-color: #434B5C;\n",
              "      box-shadow: 0px 1px 3px 1px rgba(0, 0, 0, 0.15);\n",
              "      filter: drop-shadow(0px 1px 2px rgba(0, 0, 0, 0.3));\n",
              "      fill: #FFFFFF;\n",
              "    }\n",
              "  </style>\n",
              "\n",
              "      <script>\n",
              "        const buttonEl =\n",
              "          document.querySelector('#df-94b8ede5-e39b-4ea6-960b-bb68404358a8 button.colab-df-convert');\n",
              "        buttonEl.style.display =\n",
              "          google.colab.kernel.accessAllowed ? 'block' : 'none';\n",
              "\n",
              "        async function convertToInteractive(key) {\n",
              "          const element = document.querySelector('#df-94b8ede5-e39b-4ea6-960b-bb68404358a8');\n",
              "          const dataTable =\n",
              "            await google.colab.kernel.invokeFunction('convertToInteractive',\n",
              "                                                     [key], {});\n",
              "          if (!dataTable) return;\n",
              "\n",
              "          const docLinkHtml = 'Like what you see? Visit the ' +\n",
              "            '<a target=\"_blank\" href=https://colab.research.google.com/notebooks/data_table.ipynb>data table notebook</a>'\n",
              "            + ' to learn more about interactive tables.';\n",
              "          element.innerHTML = '';\n",
              "          dataTable['output_type'] = 'display_data';\n",
              "          await google.colab.output.renderOutput(dataTable, element);\n",
              "          const docLink = document.createElement('div');\n",
              "          docLink.innerHTML = docLinkHtml;\n",
              "          element.appendChild(docLink);\n",
              "        }\n",
              "      </script>\n",
              "    </div>\n",
              "  </div>\n",
              "  "
            ]
          },
          "metadata": {},
          "execution_count": 11
        }
      ]
    },
    {
      "cell_type": "markdown",
      "metadata": {
        "id": "fFLcB7Kk9cct"
      },
      "source": [
        "**SHAPE OF DATASET**"
      ],
      "id": "fFLcB7Kk9cct"
    },
    {
      "cell_type": "code",
      "execution_count": 12,
      "metadata": {
        "colab": {
          "base_uri": "https://localhost:8080/"
        },
        "id": "_jK9XpkX9cct",
        "outputId": "8cb5def5-9e52-4df9-f667-f1eb4b8800a1"
      },
      "outputs": [
        {
          "output_type": "stream",
          "name": "stdout",
          "text": [
            "The lenght of dataset is  160359\n"
          ]
        }
      ],
      "source": [
        "leng=len(df_train)\n",
        "print('The lenght of dataset is ',leng)"
      ],
      "id": "_jK9XpkX9cct"
    },
    {
      "cell_type": "code",
      "execution_count": 13,
      "metadata": {
        "colab": {
          "base_uri": "https://localhost:8080/"
        },
        "id": "0rQFC8do9ccu",
        "outputId": "af9fe253-8664-4c10-8b89-670e8f5189d5"
      },
      "outputs": [
        {
          "output_type": "stream",
          "name": "stdout",
          "text": [
            "Number of Rows in Dataset 160359\n",
            "Number of columns in dataset 15\n"
          ]
        }
      ],
      "source": [
        "df_train.shape\n",
        "print('Number of Rows in Dataset',df_train.shape[0])\n",
        "print('Number of columns in dataset',df_train.shape[1])"
      ],
      "id": "0rQFC8do9ccu"
    },
    {
      "cell_type": "markdown",
      "metadata": {
        "id": "rcZymjGubfah"
      },
      "source": [
        "**COLUMN NAMES OF DATASET**"
      ],
      "id": "rcZymjGubfah"
    },
    {
      "cell_type": "code",
      "execution_count": 14,
      "metadata": {
        "colab": {
          "base_uri": "https://localhost:8080/"
        },
        "id": "NjODz3LaaI0h",
        "outputId": "824b874a-2983-448f-a8c1-97840565a6be"
      },
      "outputs": [
        {
          "output_type": "stream",
          "name": "stdout",
          "text": [
            "The Names of the Columns is \n",
            " Index(['ID', 'Cycle', 'SensorMeasure2', 'SensorMeasure3', 'SensorMeasure4',\n",
            "       'SensorMeasure7', 'SensorMeasure8', 'SensorMeasure11',\n",
            "       'SensorMeasure12', 'SensorMeasure13', 'SensorMeasure15',\n",
            "       'SensorMeasure17', 'SensorMeasure20', 'SensorMeasure21', 'RUL'],\n",
            "      dtype='object') \n",
            "\n",
            "Target Column:- RUL\n"
          ]
        }
      ],
      "source": [
        "col_names=df_train.columns\n",
        "print(\"The Names of the Columns is \\n\",col_names,'\\n')\n",
        "\n",
        "#Target column\n",
        "print('Target Column:- RUL')"
      ],
      "id": "NjODz3LaaI0h"
    },
    {
      "cell_type": "markdown",
      "id": "efa5b535",
      "metadata": {
        "id": "efa5b535"
      },
      "source": [
        "## **Data Visualization**"
      ]
    },
    {
      "cell_type": "code",
      "execution_count": 15,
      "id": "acbc41bb",
      "metadata": {
        "colab": {
          "base_uri": "https://localhost:8080/",
          "height": 452
        },
        "id": "acbc41bb",
        "outputId": "71cf7ebe-08e4-455f-b12e-e5c2eb6ddda7"
      },
      "outputs": [
        {
          "output_type": "display_data",
          "data": {
            "text/plain": [
              "<Figure size 640x480 with 1 Axes>"
            ],
            "image/png": "[encoded data removed]"
          },
          "metadata": {}
        }
      ],
      "source": [
        "df_train['RUL'].plot(kind='kde')\n",
        "plt.title('RUL')\n",
        "plt.show()"
      ]
    },
    {
      "cell_type": "code",
      "execution_count": 16,
      "id": "b7289868",
      "metadata": {
        "colab": {
          "base_uri": "https://localhost:8080/",
          "height": 472
        },
        "id": "b7289868",
        "outputId": "9bf1abb9-3884-4a9d-8890-315f97f84c54"
      },
      "outputs": [
        {
          "output_type": "display_data",
          "data": {
            "text/plain": [
              "<Figure size 640x480 with 1 Axes>"
            ],
            "image/png": "[encoded data removed]"
          },
          "metadata": {}
        }
      ],
      "source": [
        "plt.scatter(df_train['SensorMeasure11'],df_train['SensorMeasure12'])\n",
        "plt.xlabel('SensorMeasure11')\n",
        "plt.ylabel('SensorMeasure12')\n",
        "plt.title('Sensor11 vs Sensor12')\n",
        "plt.show()"
      ]
    },
    {
      "cell_type": "code",
      "execution_count": 17,
      "id": "22f2bf53",
      "metadata": {
        "colab": {
          "base_uri": "https://localhost:8080/",
          "height": 472
        },
        "id": "22f2bf53",
        "outputId": "49bfd6fd-d0ed-4f77-a00d-45870af87a01"
      },
      "outputs": [
        {
          "output_type": "display_data",
          "data": {
            "text/plain": [
              "<Figure size 640x480 with 1 Axes>"
            ],
            "image/png": "[encoded data removed]"
          },
          "metadata": {}
        }
      ],
      "source": [
        "plt.scatter(df_train['SensorMeasure20'],df_train['SensorMeasure21'])\n",
        "plt.xlabel('SensorMeasure20')\n",
        "plt.ylabel('SensorMeasure21')\n",
        "plt.title('Sensor20 vs Sensor21')\n",
        "plt.show()"
      ]
    },
    {
      "cell_type": "markdown",
      "id": "86004db6",
      "metadata": {
        "id": "86004db6"
      },
      "source": [
        "**Features seems to be highly correlated, lets plot a correlation map to visualize the corelation between all features**"
      ]
    },
    {
      "cell_type": "code",
      "execution_count": 18,
      "id": "34a165b7",
      "metadata": {
        "colab": {
          "base_uri": "https://localhost:8080/",
          "height": 545
        },
        "id": "34a165b7",
        "outputId": "e16a0c58-6459-4736-8323-6d620f16566d"
      },
      "outputs": [
        {
          "output_type": "display_data",
          "data": {
            "text/plain": [
              "<Figure size 640x480 with 2 Axes>"
            ],
            "image/png": "[encoded data removed]"
          },
          "metadata": {}
        }
      ],
      "source": [
        "sns.heatmap(df_train.corr())\n",
        "plt.show()"
      ]
    },
    {
      "cell_type": "code",
      "execution_count": 19,
      "id": "f8f4799c",
      "metadata": {
        "colab": {
          "base_uri": "https://localhost:8080/",
          "height": 540
        },
        "id": "f8f4799c",
        "outputId": "1b12ebb4-a64a-4873-ea99-4d0f173eaa09"
      },
      "outputs": [
        {
          "output_type": "execute_result",
          "data": {
            "text/plain": [
              "<pandas.io.formats.style.Styler at 0x7f1f37bc1730>"
            ],
            "text/html": [
              "<style type=\"text/css\">\n",
              "#T_ac09d_row0_col0, #T_ac09d_row1_col1, #T_ac09d_row2_col2, #T_ac09d_row3_col3, #T_ac09d_row3_col4, #T_ac09d_row3_col11, #T_ac09d_row4_col3, #T_ac09d_row4_col4, #T_ac09d_row4_col11, #T_ac09d_row5_col5, #T_ac09d_row5_col8, #T_ac09d_row5_col12, #T_ac09d_row5_col13, #T_ac09d_row6_col6, #T_ac09d_row7_col7, #T_ac09d_row8_col5, #T_ac09d_row8_col8, #T_ac09d_row8_col12, #T_ac09d_row8_col13, #T_ac09d_row9_col9, #T_ac09d_row10_col10, #T_ac09d_row11_col3, #T_ac09d_row11_col4, #T_ac09d_row11_col11, #T_ac09d_row12_col5, #T_ac09d_row12_col8, #T_ac09d_row12_col12, #T_ac09d_row12_col13, #T_ac09d_row13_col5, #T_ac09d_row13_col8, #T_ac09d_row13_col12, #T_ac09d_row13_col13, #T_ac09d_row14_col14 {\n",
              "  background-color: #b40426;\n",
              "  color: #f1f1f1;\n",
              "}\n",
              "#T_ac09d_row0_col1, #T_ac09d_row0_col14 {\n",
              "  background-color: #b3cdfb;\n",
              "  color: #000000;\n",
              "}\n",
              "#T_ac09d_row0_col2 {\n",
              "  background-color: #9abbff;\n",
              "  color: #000000;\n",
              "}\n",
              "#T_ac09d_row0_col3, #T_ac09d_row0_col11 {\n",
              "  background-color: #a3c2fe;\n",
              "  color: #000000;\n",
              "}\n",
              "#T_ac09d_row0_col4 {\n",
              "  background-color: #9fbfff;\n",
              "  color: #000000;\n",
              "}\n",
              "#T_ac09d_row0_col5, #T_ac09d_row0_col8 {\n",
              "  background-color: #8db0fe;\n",
              "  color: #000000;\n",
              "}\n",
              "#T_ac09d_row0_col6, #T_ac09d_row5_col14, #T_ac09d_row6_col1, #T_ac09d_row6_col14, #T_ac09d_row8_col14, #T_ac09d_row12_col1, #T_ac09d_row13_col1 {\n",
              "  background-color: #b7cff9;\n",
              "  color: #000000;\n",
              "}\n",
              "#T_ac09d_row0_col7, #T_ac09d_row10_col14 {\n",
              "  background-color: #afcafc;\n",
              "  color: #000000;\n",
              "}\n",
              "#T_ac09d_row0_col9 {\n",
              "  background-color: #c1d4f4;\n",
              "  color: #000000;\n",
              "}\n",
              "#T_ac09d_row0_col10 {\n",
              "  background-color: #f4c5ad;\n",
              "  color: #000000;\n",
              "}\n",
              "#T_ac09d_row0_col12, #T_ac09d_row0_col13 {\n",
              "  background-color: #8caffe;\n",
              "  color: #000000;\n",
              "}\n",
              "#T_ac09d_row1_col0, #T_ac09d_row14_col0 {\n",
              "  background-color: #89acfd;\n",
              "  color: #000000;\n",
              "}\n",
              "#T_ac09d_row1_col2, #T_ac09d_row14_col11 {\n",
              "  background-color: #d3dbe7;\n",
              "  color: #000000;\n",
              "}\n",
              "#T_ac09d_row1_col3, #T_ac09d_row1_col4, #T_ac09d_row1_col11 {\n",
              "  background-color: #dadce0;\n",
              "  color: #000000;\n",
              "}\n",
              "#T_ac09d_row1_col5, #T_ac09d_row1_col8, #T_ac09d_row14_col5, #T_ac09d_row14_col8 {\n",
              "  background-color: #cedaeb;\n",
              "  color: #000000;\n",
              "}\n",
              "#T_ac09d_row1_col6, #T_ac09d_row14_col6 {\n",
              "  background-color: #dcdddd;\n",
              "  color: #000000;\n",
              "}\n",
              "#T_ac09d_row1_col7 {\n",
              "  background-color: #e0dbd8;\n",
              "  color: #000000;\n",
              "}\n",
              "#T_ac09d_row1_col9, #T_ac09d_row14_col2, #T_ac09d_row14_col9 {\n",
              "  background-color: #d2dbe8;\n",
              "  color: #000000;\n",
              "}\n",
              "#T_ac09d_row1_col10 {\n",
              "  background-color: #d9dce1;\n",
              "  color: #000000;\n",
              "}\n",
              "#T_ac09d_row1_col12, #T_ac09d_row1_col13, #T_ac09d_row14_col12, #T_ac09d_row14_col13 {\n",
              "  background-color: #cdd9ec;\n",
              "  color: #000000;\n",
              "}\n",
              "#T_ac09d_row1_col14, #T_ac09d_row5_col0, #T_ac09d_row6_col10, #T_ac09d_row7_col10, #T_ac09d_row8_col0, #T_ac09d_row10_col2, #T_ac09d_row10_col3, #T_ac09d_row10_col4, #T_ac09d_row10_col5, #T_ac09d_row10_col6, #T_ac09d_row10_col7, #T_ac09d_row10_col8, #T_ac09d_row10_col9, #T_ac09d_row10_col11, #T_ac09d_row10_col12, #T_ac09d_row10_col13, #T_ac09d_row12_col0, #T_ac09d_row13_col0, #T_ac09d_row14_col1 {\n",
              "  background-color: #3b4cc0;\n",
              "  color: #f1f1f1;\n",
              "}\n",
              "#T_ac09d_row2_col0, #T_ac09d_row4_col0 {\n",
              "  background-color: #3e51c5;\n",
              "  color: #f1f1f1;\n",
              "}\n",
              "#T_ac09d_row2_col1, #T_ac09d_row5_col1, #T_ac09d_row8_col1, #T_ac09d_row12_col14, #T_ac09d_row13_col14 {\n",
              "  background-color: #b9d0f9;\n",
              "  color: #000000;\n",
              "}\n",
              "#T_ac09d_row2_col3, #T_ac09d_row2_col4, #T_ac09d_row2_col11, #T_ac09d_row3_col2, #T_ac09d_row4_col2, #T_ac09d_row11_col2 {\n",
              "  background-color: #b50927;\n",
              "  color: #f1f1f1;\n",
              "}\n",
              "#T_ac09d_row2_col5, #T_ac09d_row2_col8, #T_ac09d_row5_col2, #T_ac09d_row8_col2, #T_ac09d_row12_col2, #T_ac09d_row13_col2 {\n",
              "  background-color: #b70d28;\n",
              "  color: #f1f1f1;\n",
              "}\n",
              "#T_ac09d_row2_col6 {\n",
              "  background-color: #cd423b;\n",
              "  color: #f1f1f1;\n",
              "}\n",
              "#T_ac09d_row2_col7 {\n",
              "  background-color: #c0282f;\n",
              "  color: #f1f1f1;\n",
              "}\n",
              "#T_ac09d_row2_col9, #T_ac09d_row9_col2 {\n",
              "  background-color: #f6a385;\n",
              "  color: #000000;\n",
              "}\n",
              "#T_ac09d_row2_col10, #T_ac09d_row9_col10 {\n",
              "  background-color: #4f69d9;\n",
              "  color: #f1f1f1;\n",
              "}\n",
              "#T_ac09d_row2_col12, #T_ac09d_row2_col13, #T_ac09d_row3_col7, #T_ac09d_row4_col5, #T_ac09d_row4_col8, #T_ac09d_row5_col4, #T_ac09d_row6_col7, #T_ac09d_row7_col3, #T_ac09d_row7_col6, #T_ac09d_row7_col11, #T_ac09d_row8_col4, #T_ac09d_row11_col7 {\n",
              "  background-color: #b8122a;\n",
              "  color: #f1f1f1;\n",
              "}\n",
              "#T_ac09d_row2_col14, #T_ac09d_row9_col1, #T_ac09d_row9_col14 {\n",
              "  background-color: #b6cefa;\n",
              "  color: #000000;\n",
              "}\n",
              "#T_ac09d_row3_col0 {\n",
              "  background-color: #4055c8;\n",
              "  color: #f1f1f1;\n",
              "}\n",
              "#T_ac09d_row3_col1, #T_ac09d_row11_col1 {\n",
              "  background-color: #bbd1f8;\n",
              "  color: #000000;\n",
              "}\n",
              "#T_ac09d_row3_col5, #T_ac09d_row3_col8, #T_ac09d_row4_col7, #T_ac09d_row5_col3, #T_ac09d_row5_col11, #T_ac09d_row7_col4, #T_ac09d_row8_col3, #T_ac09d_row8_col11, #T_ac09d_row11_col5, #T_ac09d_row11_col8 {\n",
              "  background-color: #bb1b2c;\n",
              "  color: #f1f1f1;\n",
              "}\n",
              "#T_ac09d_row3_col6, #T_ac09d_row6_col3, #T_ac09d_row6_col11, #T_ac09d_row11_col6 {\n",
              "  background-color: #c43032;\n",
              "  color: #f1f1f1;\n",
              "}\n",
              "#T_ac09d_row3_col9, #T_ac09d_row11_col9 {\n",
              "  background-color: #f08b6e;\n",
              "  color: #f1f1f1;\n",
              "}\n",
              "#T_ac09d_row3_col10 {\n",
              "  background-color: #445acc;\n",
              "  color: #f1f1f1;\n",
              "}\n",
              "#T_ac09d_row3_col12, #T_ac09d_row3_col13, #T_ac09d_row11_col12, #T_ac09d_row11_col13, #T_ac09d_row12_col3, #T_ac09d_row12_col11, #T_ac09d_row13_col3, #T_ac09d_row13_col11 {\n",
              "  background-color: #bd1f2d;\n",
              "  color: #f1f1f1;\n",
              "}\n",
              "#T_ac09d_row3_col14, #T_ac09d_row11_col14 {\n",
              "  background-color: #b1cbfc;\n",
              "  color: #000000;\n",
              "}\n",
              "#T_ac09d_row4_col1 {\n",
              "  background-color: #bcd2f7;\n",
              "  color: #000000;\n",
              "}\n",
              "#T_ac09d_row4_col6, #T_ac09d_row5_col7, #T_ac09d_row8_col7 {\n",
              "  background-color: #ca3b37;\n",
              "  color: #f1f1f1;\n",
              "}\n",
              "#T_ac09d_row4_col9 {\n",
              "  background-color: #f4987a;\n",
              "  color: #000000;\n",
              "}\n",
              "#T_ac09d_row4_col10 {\n",
              "  background-color: #485fd1;\n",
              "  color: #f1f1f1;\n",
              "}\n",
              "#T_ac09d_row4_col12, #T_ac09d_row4_col13, #T_ac09d_row12_col4, #T_ac09d_row13_col4 {\n",
              "  background-color: #ba162b;\n",
              "  color: #f1f1f1;\n",
              "}\n",
              "#T_ac09d_row4_col14 {\n",
              "  background-color: #aec9fc;\n",
              "  color: #000000;\n",
              "}\n",
              "#T_ac09d_row5_col6, #T_ac09d_row8_col6 {\n",
              "  background-color: #da5a49;\n",
              "  color: #f1f1f1;\n",
              "}\n",
              "#T_ac09d_row5_col9 {\n",
              "  background-color: #f7bca1;\n",
              "  color: #000000;\n",
              "}\n",
              "#T_ac09d_row5_col10, #T_ac09d_row8_col10 {\n",
              "  background-color: #5875e1;\n",
              "  color: #f1f1f1;\n",
              "}\n",
              "#T_ac09d_row6_col0 {\n",
              "  background-color: #506bda;\n",
              "  color: #f1f1f1;\n",
              "}\n",
              "#T_ac09d_row6_col2, #T_ac09d_row7_col12, #T_ac09d_row7_col13 {\n",
              "  background-color: #cf453c;\n",
              "  color: #f1f1f1;\n",
              "}\n",
              "#T_ac09d_row6_col4, #T_ac09d_row9_col6 {\n",
              "  background-color: #cb3e38;\n",
              "  color: #f1f1f1;\n",
              "}\n",
              "#T_ac09d_row6_col5, #T_ac09d_row6_col8 {\n",
              "  background-color: #de614d;\n",
              "  color: #f1f1f1;\n",
              "}\n",
              "#T_ac09d_row6_col9, #T_ac09d_row7_col5, #T_ac09d_row7_col8, #T_ac09d_row12_col7, #T_ac09d_row13_col7 {\n",
              "  background-color: #cc403a;\n",
              "  color: #f1f1f1;\n",
              "}\n",
              "#T_ac09d_row6_col12, #T_ac09d_row6_col13 {\n",
              "  background-color: #e16751;\n",
              "  color: #f1f1f1;\n",
              "}\n",
              "#T_ac09d_row7_col0 {\n",
              "  background-color: #465ecf;\n",
              "  color: #f1f1f1;\n",
              "}\n",
              "#T_ac09d_row7_col1 {\n",
              "  background-color: #bfd3f6;\n",
              "  color: #000000;\n",
              "}\n",
              "#T_ac09d_row7_col2 {\n",
              "  background-color: #c12b30;\n",
              "  color: #f1f1f1;\n",
              "}\n",
              "#T_ac09d_row7_col9 {\n",
              "  background-color: #e0654f;\n",
              "  color: #f1f1f1;\n",
              "}\n",
              "#T_ac09d_row7_col14 {\n",
              "  background-color: #abc8fd;\n",
              "  color: #000000;\n",
              "}\n",
              "#T_ac09d_row8_col9 {\n",
              "  background-color: #f7ba9f;\n",
              "  color: #000000;\n",
              "}\n",
              "#T_ac09d_row9_col0 {\n",
              "  background-color: #7295f4;\n",
              "  color: #f1f1f1;\n",
              "}\n",
              "#T_ac09d_row9_col3, #T_ac09d_row9_col11 {\n",
              "  background-color: #ef886b;\n",
              "  color: #f1f1f1;\n",
              "}\n",
              "#T_ac09d_row9_col4 {\n",
              "  background-color: #f39778;\n",
              "  color: #000000;\n",
              "}\n",
              "#T_ac09d_row9_col5, #T_ac09d_row9_col8, #T_ac09d_row12_col9, #T_ac09d_row13_col9 {\n",
              "  background-color: #f6bea4;\n",
              "  color: #000000;\n",
              "}\n",
              "#T_ac09d_row9_col7, #T_ac09d_row12_col6, #T_ac09d_row13_col6 {\n",
              "  background-color: #dd5f4b;\n",
              "  color: #f1f1f1;\n",
              "}\n",
              "#T_ac09d_row9_col12, #T_ac09d_row9_col13 {\n",
              "  background-color: #f5c2aa;\n",
              "  color: #000000;\n",
              "}\n",
              "#T_ac09d_row10_col0 {\n",
              "  background-color: #ccd9ed;\n",
              "  color: #000000;\n",
              "}\n",
              "#T_ac09d_row10_col1 {\n",
              "  background-color: #b2ccfb;\n",
              "  color: #000000;\n",
              "}\n",
              "#T_ac09d_row11_col0 {\n",
              "  background-color: #3f53c6;\n",
              "  color: #f1f1f1;\n",
              "}\n",
              "#T_ac09d_row11_col10 {\n",
              "  background-color: #455cce;\n",
              "  color: #f1f1f1;\n",
              "}\n",
              "#T_ac09d_row12_col10, #T_ac09d_row13_col10 {\n",
              "  background-color: #5a78e4;\n",
              "  color: #f1f1f1;\n",
              "}\n",
              "#T_ac09d_row14_col3 {\n",
              "  background-color: #d4dbe6;\n",
              "  color: #000000;\n",
              "}\n",
              "#T_ac09d_row14_col4 {\n",
              "  background-color: #cfdaea;\n",
              "  color: #000000;\n",
              "}\n",
              "#T_ac09d_row14_col7 {\n",
              "  background-color: #d5dbe5;\n",
              "  color: #000000;\n",
              "}\n",
              "#T_ac09d_row14_col10 {\n",
              "  background-color: #d7dce3;\n",
              "  color: #000000;\n",
              "}\n",
              "</style>\n",
              "<table id=\"T_ac09d\" class=\"dataframe\">\n",
              "  <thead>\n",
              "    <tr>\n",
              "      <th class=\"blank level0\" >&nbsp;</th>\n",
              "      <th id=\"T_ac09d_level0_col0\" class=\"col_heading level0 col0\" >ID</th>\n",
              "      <th id=\"T_ac09d_level0_col1\" class=\"col_heading level0 col1\" >Cycle</th>\n",
              "      <th id=\"T_ac09d_level0_col2\" class=\"col_heading level0 col2\" >SensorMeasure2</th>\n",
              "      <th id=\"T_ac09d_level0_col3\" class=\"col_heading level0 col3\" >SensorMeasure3</th>\n",
              "      <th id=\"T_ac09d_level0_col4\" class=\"col_heading level0 col4\" >SensorMeasure4</th>\n",
              "      <th id=\"T_ac09d_level0_col5\" class=\"col_heading level0 col5\" >SensorMeasure7</th>\n",
              "      <th id=\"T_ac09d_level0_col6\" class=\"col_heading level0 col6\" >SensorMeasure8</th>\n",
              "      <th id=\"T_ac09d_level0_col7\" class=\"col_heading level0 col7\" >SensorMeasure11</th>\n",
              "      <th id=\"T_ac09d_level0_col8\" class=\"col_heading level0 col8\" >SensorMeasure12</th>\n",
              "      <th id=\"T_ac09d_level0_col9\" class=\"col_heading level0 col9\" >SensorMeasure13</th>\n",
              "      <th id=\"T_ac09d_level0_col10\" class=\"col_heading level0 col10\" >SensorMeasure15</th>\n",
              "      <th id=\"T_ac09d_level0_col11\" class=\"col_heading level0 col11\" >SensorMeasure17</th>\n",
              "      <th id=\"T_ac09d_level0_col12\" class=\"col_heading level0 col12\" >SensorMeasure20</th>\n",
              "      <th id=\"T_ac09d_level0_col13\" class=\"col_heading level0 col13\" >SensorMeasure21</th>\n",
              "      <th id=\"T_ac09d_level0_col14\" class=\"col_heading level0 col14\" >RUL</th>\n",
              "    </tr>\n",
              "  </thead>\n",
              "  <tbody>\n",
              "    <tr>\n",
              "      <th id=\"T_ac09d_level0_row0\" class=\"row_heading level0 row0\" >ID</th>\n",
              "      <td id=\"T_ac09d_row0_col0\" class=\"data row0 col0\" >1.000000</td>\n",
              "      <td id=\"T_ac09d_row0_col1\" class=\"data row0 col1\" >-0.012765</td>\n",
              "      <td id=\"T_ac09d_row0_col2\" class=\"data row0 col2\" >-0.318260</td>\n",
              "      <td id=\"T_ac09d_row0_col3\" class=\"data row0 col3\" >-0.307855</td>\n",
              "      <td id=\"T_ac09d_row0_col4\" class=\"data row0 col4\" >-0.317691</td>\n",
              "      <td id=\"T_ac09d_row0_col5\" class=\"data row0 col5\" >-0.334741</td>\n",
              "      <td id=\"T_ac09d_row0_col6\" class=\"data row0 col6\" >-0.238454</td>\n",
              "      <td id=\"T_ac09d_row0_col7\" class=\"data row0 col7\" >-0.281624</td>\n",
              "      <td id=\"T_ac09d_row0_col8\" class=\"data row0 col8\" >-0.334766</td>\n",
              "      <td id=\"T_ac09d_row0_col9\" class=\"data row0 col9\" >-0.100701</td>\n",
              "      <td id=\"T_ac09d_row0_col10\" class=\"data row0 col10\" >0.253425</td>\n",
              "      <td id=\"T_ac09d_row0_col11\" class=\"data row0 col11\" >-0.308730</td>\n",
              "      <td id=\"T_ac09d_row0_col12\" class=\"data row0 col12\" >-0.332439</td>\n",
              "      <td id=\"T_ac09d_row0_col13\" class=\"data row0 col13\" >-0.332424</td>\n",
              "      <td id=\"T_ac09d_row0_col14\" class=\"data row0 col14\" >-0.012765</td>\n",
              "    </tr>\n",
              "    <tr>\n",
              "      <th id=\"T_ac09d_level0_row1\" class=\"row_heading level0 row1\" >Cycle</th>\n",
              "      <td id=\"T_ac09d_row1_col0\" class=\"data row1 col0\" >-0.012765</td>\n",
              "      <td id=\"T_ac09d_row1_col1\" class=\"data row1 col1\" >1.000000</td>\n",
              "      <td id=\"T_ac09d_row1_col2\" class=\"data row1 col2\" >0.012651</td>\n",
              "      <td id=\"T_ac09d_row1_col3\" class=\"data row1 col3\" >0.029766</td>\n",
              "      <td id=\"T_ac09d_row1_col4\" class=\"data row1 col4\" >0.036380</td>\n",
              "      <td id=\"T_ac09d_row1_col5\" class=\"data row1 col5\" >0.013459</td>\n",
              "      <td id=\"T_ac09d_row1_col6\" class=\"data row1 col6\" >0.005933</td>\n",
              "      <td id=\"T_ac09d_row1_col7\" class=\"data row1 col7\" >0.043362</td>\n",
              "      <td id=\"T_ac09d_row1_col8\" class=\"data row1 col8\" >0.013595</td>\n",
              "      <td id=\"T_ac09d_row1_col9\" class=\"data row1 col9\" >0.001481</td>\n",
              "      <td id=\"T_ac09d_row1_col10\" class=\"data row1 col10\" >-0.017034</td>\n",
              "      <td id=\"T_ac09d_row1_col11\" class=\"data row1 col11\" >0.029852</td>\n",
              "      <td id=\"T_ac09d_row1_col12\" class=\"data row1 col12\" >0.010540</td>\n",
              "      <td id=\"T_ac09d_row1_col13\" class=\"data row1 col13\" >0.010593</td>\n",
              "      <td id=\"T_ac09d_row1_col14\" class=\"data row1 col14\" >-0.580971</td>\n",
              "    </tr>\n",
              "    <tr>\n",
              "      <th id=\"T_ac09d_level0_row2\" class=\"row_heading level0 row2\" >SensorMeasure2</th>\n",
              "      <td id=\"T_ac09d_row2_col0\" class=\"data row2 col0\" >-0.318260</td>\n",
              "      <td id=\"T_ac09d_row2_col1\" class=\"data row2 col1\" >0.012651</td>\n",
              "      <td id=\"T_ac09d_row2_col2\" class=\"data row2 col2\" >1.000000</td>\n",
              "      <td id=\"T_ac09d_row2_col3\" class=\"data row2 col3\" >0.989141</td>\n",
              "      <td id=\"T_ac09d_row2_col4\" class=\"data row2 col4\" >0.988864</td>\n",
              "      <td id=\"T_ac09d_row2_col5\" class=\"data row2 col5\" >0.982334</td>\n",
              "      <td id=\"T_ac09d_row2_col6\" class=\"data row2 col6\" >0.857322</td>\n",
              "      <td id=\"T_ac09d_row2_col7\" class=\"data row2 col7\" >0.932675</td>\n",
              "      <td id=\"T_ac09d_row2_col8\" class=\"data row2 col8\" >0.982442</td>\n",
              "      <td id=\"T_ac09d_row2_col9\" class=\"data row2 col9\" >0.493222</td>\n",
              "      <td id=\"T_ac09d_row2_col10\" class=\"data row2 col10\" >-0.844254</td>\n",
              "      <td id=\"T_ac09d_row2_col11\" class=\"data row2 col11\" >0.989728</td>\n",
              "      <td id=\"T_ac09d_row2_col12\" class=\"data row2 col12\" >0.979178</td>\n",
              "      <td id=\"T_ac09d_row2_col13\" class=\"data row2 col13\" >0.979172</td>\n",
              "      <td id=\"T_ac09d_row2_col14\" class=\"data row2 col14\" >0.004582</td>\n",
              "    </tr>\n",
              "    <tr>\n",
              "      <th id=\"T_ac09d_level0_row3\" class=\"row_heading level0 row3\" >SensorMeasure3</th>\n",
              "      <td id=\"T_ac09d_row3_col0\" class=\"data row3 col0\" >-0.307855</td>\n",
              "      <td id=\"T_ac09d_row3_col1\" class=\"data row3 col1\" >0.029766</td>\n",
              "      <td id=\"T_ac09d_row3_col2\" class=\"data row3 col2\" >0.989141</td>\n",
              "      <td id=\"T_ac09d_row3_col3\" class=\"data row3 col3\" >1.000000</td>\n",
              "      <td id=\"T_ac09d_row3_col4\" class=\"data row3 col4\" >0.993401</td>\n",
              "      <td id=\"T_ac09d_row3_col5\" class=\"data row3 col5\" >0.958539</td>\n",
              "      <td id=\"T_ac09d_row3_col6\" class=\"data row3 col6\" >0.914962</td>\n",
              "      <td id=\"T_ac09d_row3_col7\" class=\"data row3 col7\" >0.973479</td>\n",
              "      <td id=\"T_ac09d_row3_col8\" class=\"data row3 col8\" >0.958803</td>\n",
              "      <td id=\"T_ac09d_row3_col9\" class=\"data row3 col9\" >0.601383</td>\n",
              "      <td id=\"T_ac09d_row3_col10\" class=\"data row3 col10\" >-0.907534</td>\n",
              "      <td id=\"T_ac09d_row3_col11\" class=\"data row3 col11\" >0.998944</td>\n",
              "      <td id=\"T_ac09d_row3_col12\" class=\"data row3 col12\" >0.952101</td>\n",
              "      <td id=\"T_ac09d_row3_col13\" class=\"data row3 col13\" >0.952087</td>\n",
              "      <td id=\"T_ac09d_row3_col14\" class=\"data row3 col14\" >-0.020455</td>\n",
              "    </tr>\n",
              "    <tr>\n",
              "      <th id=\"T_ac09d_level0_row4\" class=\"row_heading level0 row4\" >SensorMeasure4</th>\n",
              "      <td id=\"T_ac09d_row4_col0\" class=\"data row4 col0\" >-0.317691</td>\n",
              "      <td id=\"T_ac09d_row4_col1\" class=\"data row4 col1\" >0.036380</td>\n",
              "      <td id=\"T_ac09d_row4_col2\" class=\"data row4 col2\" >0.988864</td>\n",
              "      <td id=\"T_ac09d_row4_col3\" class=\"data row4 col3\" >0.993401</td>\n",
              "      <td id=\"T_ac09d_row4_col4\" class=\"data row4 col4\" >1.000000</td>\n",
              "      <td id=\"T_ac09d_row4_col5\" class=\"data row4 col5\" >0.975306</td>\n",
              "      <td id=\"T_ac09d_row4_col6\" class=\"data row4 col6\" >0.877880</td>\n",
              "      <td id=\"T_ac09d_row4_col7\" class=\"data row4 col7\" >0.957909</td>\n",
              "      <td id=\"T_ac09d_row4_col8\" class=\"data row4 col8\" >0.975534</td>\n",
              "      <td id=\"T_ac09d_row4_col9\" class=\"data row4 col9\" >0.539443</td>\n",
              "      <td id=\"T_ac09d_row4_col10\" class=\"data row4 col10\" >-0.886103</td>\n",
              "      <td id=\"T_ac09d_row4_col11\" class=\"data row4 col11\" >0.993885</td>\n",
              "      <td id=\"T_ac09d_row4_col12\" class=\"data row4 col12\" >0.969753</td>\n",
              "      <td id=\"T_ac09d_row4_col13\" class=\"data row4 col13\" >0.969742</td>\n",
              "      <td id=\"T_ac09d_row4_col14\" class=\"data row4 col14\" >-0.032047</td>\n",
              "    </tr>\n",
              "    <tr>\n",
              "      <th id=\"T_ac09d_level0_row5\" class=\"row_heading level0 row5\" >SensorMeasure7</th>\n",
              "      <td id=\"T_ac09d_row5_col0\" class=\"data row5 col0\" >-0.334741</td>\n",
              "      <td id=\"T_ac09d_row5_col1\" class=\"data row5 col1\" >0.013459</td>\n",
              "      <td id=\"T_ac09d_row5_col2\" class=\"data row5 col2\" >0.982334</td>\n",
              "      <td id=\"T_ac09d_row5_col3\" class=\"data row5 col3\" >0.958539</td>\n",
              "      <td id=\"T_ac09d_row5_col4\" class=\"data row5 col4\" >0.975306</td>\n",
              "      <td id=\"T_ac09d_row5_col5\" class=\"data row5 col5\" >1.000000</td>\n",
              "      <td id=\"T_ac09d_row5_col6\" class=\"data row5 col6\" >0.771459</td>\n",
              "      <td id=\"T_ac09d_row5_col7\" class=\"data row5 col7\" >0.878567</td>\n",
              "      <td id=\"T_ac09d_row5_col8\" class=\"data row5 col8\" >0.999995</td>\n",
              "      <td id=\"T_ac09d_row5_col9\" class=\"data row5 col9\" >0.365772</td>\n",
              "      <td id=\"T_ac09d_row5_col10\" class=\"data row5 col10\" >-0.785956</td>\n",
              "      <td id=\"T_ac09d_row5_col11\" class=\"data row5 col11\" >0.959859</td>\n",
              "      <td id=\"T_ac09d_row5_col12\" class=\"data row5 col12\" >0.999511</td>\n",
              "      <td id=\"T_ac09d_row5_col13\" class=\"data row5 col13\" >0.999511</td>\n",
              "      <td id=\"T_ac09d_row5_col14\" class=\"data row5 col14\" >0.010196</td>\n",
              "    </tr>\n",
              "    <tr>\n",
              "      <th id=\"T_ac09d_level0_row6\" class=\"row_heading level0 row6\" >SensorMeasure8</th>\n",
              "      <td id=\"T_ac09d_row6_col0\" class=\"data row6 col0\" >-0.238454</td>\n",
              "      <td id=\"T_ac09d_row6_col1\" class=\"data row6 col1\" >0.005933</td>\n",
              "      <td id=\"T_ac09d_row6_col2\" class=\"data row6 col2\" >0.857322</td>\n",
              "      <td id=\"T_ac09d_row6_col3\" class=\"data row6 col3\" >0.914962</td>\n",
              "      <td id=\"T_ac09d_row6_col4\" class=\"data row6 col4\" >0.877880</td>\n",
              "      <td id=\"T_ac09d_row6_col5\" class=\"data row6 col5\" >0.771459</td>\n",
              "      <td id=\"T_ac09d_row6_col6\" class=\"data row6 col6\" >1.000000</td>\n",
              "      <td id=\"T_ac09d_row6_col7\" class=\"data row6 col7\" >0.973188</td>\n",
              "      <td id=\"T_ac09d_row6_col8\" class=\"data row6 col8\" >0.772068</td>\n",
              "      <td id=\"T_ac09d_row6_col9\" class=\"data row6 col9\" >0.870583</td>\n",
              "      <td id=\"T_ac09d_row6_col10\" class=\"data row6 col10\" >-0.976317</td>\n",
              "      <td id=\"T_ac09d_row6_col11\" class=\"data row6 col11\" >0.913329</td>\n",
              "      <td id=\"T_ac09d_row6_col12\" class=\"data row6 col12\" >0.757415</td>\n",
              "      <td id=\"T_ac09d_row6_col13\" class=\"data row6 col13\" >0.757380</td>\n",
              "      <td id=\"T_ac09d_row6_col14\" class=\"data row6 col14\" >0.009345</td>\n",
              "    </tr>\n",
              "    <tr>\n",
              "      <th id=\"T_ac09d_level0_row7\" class=\"row_heading level0 row7\" >SensorMeasure11</th>\n",
              "      <td id=\"T_ac09d_row7_col0\" class=\"data row7 col0\" >-0.281624</td>\n",
              "      <td id=\"T_ac09d_row7_col1\" class=\"data row7 col1\" >0.043362</td>\n",
              "      <td id=\"T_ac09d_row7_col2\" class=\"data row7 col2\" >0.932675</td>\n",
              "      <td id=\"T_ac09d_row7_col3\" class=\"data row7 col3\" >0.973479</td>\n",
              "      <td id=\"T_ac09d_row7_col4\" class=\"data row7 col4\" >0.957909</td>\n",
              "      <td id=\"T_ac09d_row7_col5\" class=\"data row7 col5\" >0.878567</td>\n",
              "      <td id=\"T_ac09d_row7_col6\" class=\"data row7 col6\" >0.973188</td>\n",
              "      <td id=\"T_ac09d_row7_col7\" class=\"data row7 col7\" >1.000000</td>\n",
              "      <td id=\"T_ac09d_row7_col8\" class=\"data row7 col8\" >0.879072</td>\n",
              "      <td id=\"T_ac09d_row7_col9\" class=\"data row7 col9\" >0.754391</td>\n",
              "      <td id=\"T_ac09d_row7_col10\" class=\"data row7 col10\" >-0.969625</td>\n",
              "      <td id=\"T_ac09d_row7_col11\" class=\"data row7 col11\" >0.972795</td>\n",
              "      <td id=\"T_ac09d_row7_col12\" class=\"data row7 col12\" >0.866667</td>\n",
              "      <td id=\"T_ac09d_row7_col13\" class=\"data row7 col13\" >0.866641</td>\n",
              "      <td id=\"T_ac09d_row7_col14\" class=\"data row7 col14\" >-0.044859</td>\n",
              "    </tr>\n",
              "    <tr>\n",
              "      <th id=\"T_ac09d_level0_row8\" class=\"row_heading level0 row8\" >SensorMeasure12</th>\n",
              "      <td id=\"T_ac09d_row8_col0\" class=\"data row8 col0\" >-0.334766</td>\n",
              "      <td id=\"T_ac09d_row8_col1\" class=\"data row8 col1\" >0.013595</td>\n",
              "      <td id=\"T_ac09d_row8_col2\" class=\"data row8 col2\" >0.982442</td>\n",
              "      <td id=\"T_ac09d_row8_col3\" class=\"data row8 col3\" >0.958803</td>\n",
              "      <td id=\"T_ac09d_row8_col4\" class=\"data row8 col4\" >0.975534</td>\n",
              "      <td id=\"T_ac09d_row8_col5\" class=\"data row8 col5\" >0.999995</td>\n",
              "      <td id=\"T_ac09d_row8_col6\" class=\"data row8 col6\" >0.772068</td>\n",
              "      <td id=\"T_ac09d_row8_col7\" class=\"data row8 col7\" >0.879072</td>\n",
              "      <td id=\"T_ac09d_row8_col8\" class=\"data row8 col8\" >1.000000</td>\n",
              "      <td id=\"T_ac09d_row8_col9\" class=\"data row8 col9\" >0.366703</td>\n",
              "      <td id=\"T_ac09d_row8_col10\" class=\"data row8 col10\" >-0.786598</td>\n",
              "      <td id=\"T_ac09d_row8_col11\" class=\"data row8 col11\" >0.960121</td>\n",
              "      <td id=\"T_ac09d_row8_col12\" class=\"data row8 col12\" >0.999479</td>\n",
              "      <td id=\"T_ac09d_row8_col13\" class=\"data row8 col13\" >0.999479</td>\n",
              "      <td id=\"T_ac09d_row8_col14\" class=\"data row8 col14\" >0.009980</td>\n",
              "    </tr>\n",
              "    <tr>\n",
              "      <th id=\"T_ac09d_level0_row9\" class=\"row_heading level0 row9\" >SensorMeasure13</th>\n",
              "      <td id=\"T_ac09d_row9_col0\" class=\"data row9 col0\" >-0.100701</td>\n",
              "      <td id=\"T_ac09d_row9_col1\" class=\"data row9 col1\" >0.001481</td>\n",
              "      <td id=\"T_ac09d_row9_col2\" class=\"data row9 col2\" >0.493222</td>\n",
              "      <td id=\"T_ac09d_row9_col3\" class=\"data row9 col3\" >0.601383</td>\n",
              "      <td id=\"T_ac09d_row9_col4\" class=\"data row9 col4\" >0.539443</td>\n",
              "      <td id=\"T_ac09d_row9_col5\" class=\"data row9 col5\" >0.365772</td>\n",
              "      <td id=\"T_ac09d_row9_col6\" class=\"data row9 col6\" >0.870583</td>\n",
              "      <td id=\"T_ac09d_row9_col7\" class=\"data row9 col7\" >0.754391</td>\n",
              "      <td id=\"T_ac09d_row9_col8\" class=\"data row9 col8\" >0.366703</td>\n",
              "      <td id=\"T_ac09d_row9_col9\" class=\"data row9 col9\" >1.000000</td>\n",
              "      <td id=\"T_ac09d_row9_col10\" class=\"data row9 col10\" >-0.843657</td>\n",
              "      <td id=\"T_ac09d_row9_col11\" class=\"data row9 col11\" >0.598094</td>\n",
              "      <td id=\"T_ac09d_row9_col12\" class=\"data row9 col12\" >0.344837</td>\n",
              "      <td id=\"T_ac09d_row9_col13\" class=\"data row9 col13\" >0.344784</td>\n",
              "      <td id=\"T_ac09d_row9_col14\" class=\"data row9 col14\" >0.005335</td>\n",
              "    </tr>\n",
              "    <tr>\n",
              "      <th id=\"T_ac09d_level0_row10\" class=\"row_heading level0 row10\" >SensorMeasure15</th>\n",
              "      <td id=\"T_ac09d_row10_col0\" class=\"data row10 col0\" >0.253425</td>\n",
              "      <td id=\"T_ac09d_row10_col1\" class=\"data row10 col1\" >-0.017034</td>\n",
              "      <td id=\"T_ac09d_row10_col2\" class=\"data row10 col2\" >-0.844254</td>\n",
              "      <td id=\"T_ac09d_row10_col3\" class=\"data row10 col3\" >-0.907534</td>\n",
              "      <td id=\"T_ac09d_row10_col4\" class=\"data row10 col4\" >-0.886103</td>\n",
              "      <td id=\"T_ac09d_row10_col5\" class=\"data row10 col5\" >-0.785956</td>\n",
              "      <td id=\"T_ac09d_row10_col6\" class=\"data row10 col6\" >-0.976317</td>\n",
              "      <td id=\"T_ac09d_row10_col7\" class=\"data row10 col7\" >-0.969625</td>\n",
              "      <td id=\"T_ac09d_row10_col8\" class=\"data row10 col8\" >-0.786598</td>\n",
              "      <td id=\"T_ac09d_row10_col9\" class=\"data row10 col9\" >-0.843657</td>\n",
              "      <td id=\"T_ac09d_row10_col10\" class=\"data row10 col10\" >1.000000</td>\n",
              "      <td id=\"T_ac09d_row10_col11\" class=\"data row10 col11\" >-0.906223</td>\n",
              "      <td id=\"T_ac09d_row10_col12\" class=\"data row10 col12\" >-0.771654</td>\n",
              "      <td id=\"T_ac09d_row10_col13\" class=\"data row10 col13\" >-0.771614</td>\n",
              "      <td id=\"T_ac09d_row10_col14\" class=\"data row10 col14\" >-0.028528</td>\n",
              "    </tr>\n",
              "    <tr>\n",
              "      <th id=\"T_ac09d_level0_row11\" class=\"row_heading level0 row11\" >SensorMeasure17</th>\n",
              "      <td id=\"T_ac09d_row11_col0\" class=\"data row11 col0\" >-0.308730</td>\n",
              "      <td id=\"T_ac09d_row11_col1\" class=\"data row11 col1\" >0.029852</td>\n",
              "      <td id=\"T_ac09d_row11_col2\" class=\"data row11 col2\" >0.989728</td>\n",
              "      <td id=\"T_ac09d_row11_col3\" class=\"data row11 col3\" >0.998944</td>\n",
              "      <td id=\"T_ac09d_row11_col4\" class=\"data row11 col4\" >0.993885</td>\n",
              "      <td id=\"T_ac09d_row11_col5\" class=\"data row11 col5\" >0.959859</td>\n",
              "      <td id=\"T_ac09d_row11_col6\" class=\"data row11 col6\" >0.913329</td>\n",
              "      <td id=\"T_ac09d_row11_col7\" class=\"data row11 col7\" >0.972795</td>\n",
              "      <td id=\"T_ac09d_row11_col8\" class=\"data row11 col8\" >0.960121</td>\n",
              "      <td id=\"T_ac09d_row11_col9\" class=\"data row11 col9\" >0.598094</td>\n",
              "      <td id=\"T_ac09d_row11_col10\" class=\"data row11 col10\" >-0.906223</td>\n",
              "      <td id=\"T_ac09d_row11_col11\" class=\"data row11 col11\" >1.000000</td>\n",
              "      <td id=\"T_ac09d_row11_col12\" class=\"data row11 col12\" >0.953470</td>\n",
              "      <td id=\"T_ac09d_row11_col13\" class=\"data row11 col13\" >0.953453</td>\n",
              "      <td id=\"T_ac09d_row11_col14\" class=\"data row11 col14\" >-0.020581</td>\n",
              "    </tr>\n",
              "    <tr>\n",
              "      <th id=\"T_ac09d_level0_row12\" class=\"row_heading level0 row12\" >SensorMeasure20</th>\n",
              "      <td id=\"T_ac09d_row12_col0\" class=\"data row12 col0\" >-0.332439</td>\n",
              "      <td id=\"T_ac09d_row12_col1\" class=\"data row12 col1\" >0.010540</td>\n",
              "      <td id=\"T_ac09d_row12_col2\" class=\"data row12 col2\" >0.979178</td>\n",
              "      <td id=\"T_ac09d_row12_col3\" class=\"data row12 col3\" >0.952101</td>\n",
              "      <td id=\"T_ac09d_row12_col4\" class=\"data row12 col4\" >0.969753</td>\n",
              "      <td id=\"T_ac09d_row12_col5\" class=\"data row12 col5\" >0.999511</td>\n",
              "      <td id=\"T_ac09d_row12_col6\" class=\"data row12 col6\" >0.757415</td>\n",
              "      <td id=\"T_ac09d_row12_col7\" class=\"data row12 col7\" >0.866667</td>\n",
              "      <td id=\"T_ac09d_row12_col8\" class=\"data row12 col8\" >0.999479</td>\n",
              "      <td id=\"T_ac09d_row12_col9\" class=\"data row12 col9\" >0.344837</td>\n",
              "      <td id=\"T_ac09d_row12_col10\" class=\"data row12 col10\" >-0.771654</td>\n",
              "      <td id=\"T_ac09d_row12_col11\" class=\"data row12 col11\" >0.953470</td>\n",
              "      <td id=\"T_ac09d_row12_col12\" class=\"data row12 col12\" >1.000000</td>\n",
              "      <td id=\"T_ac09d_row12_col13\" class=\"data row12 col13\" >0.999927</td>\n",
              "      <td id=\"T_ac09d_row12_col14\" class=\"data row12 col14\" >0.014697</td>\n",
              "    </tr>\n",
              "    <tr>\n",
              "      <th id=\"T_ac09d_level0_row13\" class=\"row_heading level0 row13\" >SensorMeasure21</th>\n",
              "      <td id=\"T_ac09d_row13_col0\" class=\"data row13 col0\" >-0.332424</td>\n",
              "      <td id=\"T_ac09d_row13_col1\" class=\"data row13 col1\" >0.010593</td>\n",
              "      <td id=\"T_ac09d_row13_col2\" class=\"data row13 col2\" >0.979172</td>\n",
              "      <td id=\"T_ac09d_row13_col3\" class=\"data row13 col3\" >0.952087</td>\n",
              "      <td id=\"T_ac09d_row13_col4\" class=\"data row13 col4\" >0.969742</td>\n",
              "      <td id=\"T_ac09d_row13_col5\" class=\"data row13 col5\" >0.999511</td>\n",
              "      <td id=\"T_ac09d_row13_col6\" class=\"data row13 col6\" >0.757380</td>\n",
              "      <td id=\"T_ac09d_row13_col7\" class=\"data row13 col7\" >0.866641</td>\n",
              "      <td id=\"T_ac09d_row13_col8\" class=\"data row13 col8\" >0.999479</td>\n",
              "      <td id=\"T_ac09d_row13_col9\" class=\"data row13 col9\" >0.344784</td>\n",
              "      <td id=\"T_ac09d_row13_col10\" class=\"data row13 col10\" >-0.771614</td>\n",
              "      <td id=\"T_ac09d_row13_col11\" class=\"data row13 col11\" >0.953453</td>\n",
              "      <td id=\"T_ac09d_row13_col12\" class=\"data row13 col12\" >0.999927</td>\n",
              "      <td id=\"T_ac09d_row13_col13\" class=\"data row13 col13\" >1.000000</td>\n",
              "      <td id=\"T_ac09d_row13_col14\" class=\"data row13 col14\" >0.014656</td>\n",
              "    </tr>\n",
              "    <tr>\n",
              "      <th id=\"T_ac09d_level0_row14\" class=\"row_heading level0 row14\" >RUL</th>\n",
              "      <td id=\"T_ac09d_row14_col0\" class=\"data row14 col0\" >-0.012765</td>\n",
              "      <td id=\"T_ac09d_row14_col1\" class=\"data row14 col1\" >-0.580971</td>\n",
              "      <td id=\"T_ac09d_row14_col2\" class=\"data row14 col2\" >0.004582</td>\n",
              "      <td id=\"T_ac09d_row14_col3\" class=\"data row14 col3\" >-0.020455</td>\n",
              "      <td id=\"T_ac09d_row14_col4\" class=\"data row14 col4\" >-0.032047</td>\n",
              "      <td id=\"T_ac09d_row14_col5\" class=\"data row14 col5\" >0.010196</td>\n",
              "      <td id=\"T_ac09d_row14_col6\" class=\"data row14 col6\" >0.009345</td>\n",
              "      <td id=\"T_ac09d_row14_col7\" class=\"data row14 col7\" >-0.044859</td>\n",
              "      <td id=\"T_ac09d_row14_col8\" class=\"data row14 col8\" >0.009980</td>\n",
              "      <td id=\"T_ac09d_row14_col9\" class=\"data row14 col9\" >0.005335</td>\n",
              "      <td id=\"T_ac09d_row14_col10\" class=\"data row14 col10\" >-0.028528</td>\n",
              "      <td id=\"T_ac09d_row14_col11\" class=\"data row14 col11\" >-0.020581</td>\n",
              "      <td id=\"T_ac09d_row14_col12\" class=\"data row14 col12\" >0.014697</td>\n",
              "      <td id=\"T_ac09d_row14_col13\" class=\"data row14 col13\" >0.014656</td>\n",
              "      <td id=\"T_ac09d_row14_col14\" class=\"data row14 col14\" >1.000000</td>\n",
              "    </tr>\n",
              "  </tbody>\n",
              "</table>\n"
            ]
          },
          "metadata": {},
          "execution_count": 19
        }
      ],
      "source": [
        "corr=df_train.corr()\n",
        "corr.style.background_gradient(cmap='coolwarm')"
      ]
    },
    {
      "cell_type": "markdown",
      "id": "07fdb9ff",
      "metadata": {
        "id": "07fdb9ff"
      },
      "source": [
        "##**Preprocessing**\n",
        "\n",
        "The paremeters  used as red to be under 20 days, yellow to be inbetween 20 to 50 days and green to be more than 50 days,\n"
      ]
    },
    {
      "cell_type": "code",
      "execution_count": 20,
      "id": "c5695799",
      "metadata": {
        "id": "c5695799"
      },
      "outputs": [],
      "source": [
        "def labels(x):\n",
        "    if x<20:\n",
        "        return 'Red'\n",
        "    elif x>=20 and x<=50:\n",
        "        return 'Yellow'\n",
        "    elif (x>50):\n",
        "        return 'Green'"
      ]
    },
    {
      "cell_type": "code",
      "execution_count": 21,
      "id": "eeb880b3",
      "metadata": {
        "id": "eeb880b3"
      },
      "outputs": [],
      "source": [
        "df_train['RUL']=df_train['RUL'].map(labels) # applied label conversion to RUL's using map function"
      ]
    },
    {
      "cell_type": "code",
      "execution_count": 22,
      "id": "28e5c1a8",
      "metadata": {
        "colab": {
          "base_uri": "https://localhost:8080/",
          "height": 424
        },
        "id": "28e5c1a8",
        "outputId": "60becfc7-9cda-4057-b07a-7add2c1ffc1e"
      },
      "outputs": [
        {
          "output_type": "execute_result",
          "data": {
            "text/plain": [
              "         ID  Cycle  SensorMeasure2  SensorMeasure3  SensorMeasure4  \\\n",
              "0         1      1          641.82         1589.70         1400.60   \n",
              "1         1      2          642.15         1591.82         1403.14   \n",
              "2         1      3          642.35         1587.99         1404.20   \n",
              "3         1      4          642.35         1582.79         1401.87   \n",
              "4         1      5          642.37         1582.85         1406.22   \n",
              "...     ...    ...             ...             ...             ...   \n",
              "160354  249    251          605.33         1516.36         1315.28   \n",
              "160355  249    252          643.42         1598.92         1426.77   \n",
              "160356  249    253          643.68         1607.72         1430.56   \n",
              "160357  249    254          555.77         1381.29         1148.18   \n",
              "160358  249    255          549.85         1369.75         1147.45   \n",
              "\n",
              "        SensorMeasure7  SensorMeasure8  SensorMeasure11  SensorMeasure12  \\\n",
              "0               554.36         2388.06            47.47           521.66   \n",
              "1               553.75         2388.04            47.49           522.28   \n",
              "2               554.26         2388.08            47.27           522.42   \n",
              "3               554.45         2388.11            47.13           522.86   \n",
              "4               554.00         2388.06            47.28           522.19   \n",
              "...                ...             ...              ...              ...   \n",
              "160354          404.59         2319.66            46.08           380.16   \n",
              "160355          567.59         2388.47            48.04           535.02   \n",
              "160356          569.04         2388.51            48.24           535.41   \n",
              "160357          199.93         2223.78            42.53           187.92   \n",
              "160358          142.47         2212.52            42.60           134.32   \n",
              "\n",
              "        SensorMeasure13  SensorMeasure15  SensorMeasure17  SensorMeasure20  \\\n",
              "0               2388.02           8.4195              392            39.06   \n",
              "1               2388.07           8.4318              392            39.00   \n",
              "2               2388.03           8.4178              390            38.95   \n",
              "3               2388.08           8.3682              392            38.88   \n",
              "4               2388.04           8.4294              393            38.90   \n",
              "...                 ...              ...              ...              ...   \n",
              "160354          2388.73           8.4541              372            29.11   \n",
              "160355          2388.46           8.2221              396            39.38   \n",
              "160356          2388.48           8.2525              395            39.78   \n",
              "160357          2388.83           9.0515              337            15.26   \n",
              "160358          2388.66           9.1207              333            10.66   \n",
              "\n",
              "        SensorMeasure21    RUL  \n",
              "0               23.4190  Green  \n",
              "1               23.4236  Green  \n",
              "2               23.3442  Green  \n",
              "3               23.3739  Green  \n",
              "4               23.4044  Green  \n",
              "...                 ...    ...  \n",
              "160354          17.5234    Red  \n",
              "160355          23.7151    Red  \n",
              "160356          23.8270    Red  \n",
              "160357           9.0774    Red  \n",
              "160358           6.4341    Red  \n",
              "\n",
              "[160359 rows x 15 columns]"
            ],
            "text/html": [
              "\n",
              "  <div id=\"df-9bfb991c-bb78-429d-8438-0aad0be7b906\">\n",
              "    <div class=\"colab-df-container\">\n",
              "      <div>\n",
              "<style scoped>\n",
              "    .dataframe tbody tr th:only-of-type {\n",
              "        vertical-align: middle;\n",
              "    }\n",
              "\n",
              "    .dataframe tbody tr th {\n",
              "        vertical-align: top;\n",
              "    }\n",
              "\n",
              "    .dataframe thead th {\n",
              "        text-align: right;\n",
              "    }\n",
              "</style>\n",
              "<table border=\"1\" class=\"dataframe\">\n",
              "  <thead>\n",
              "    <tr style=\"text-align: right;\">\n",
              "      <th></th>\n",
              "      <th>ID</th>\n",
              "      <th>Cycle</th>\n",
              "      <th>SensorMeasure2</th>\n",
              "      <th>SensorMeasure3</th>\n",
              "      <th>SensorMeasure4</th>\n",
              "      <th>SensorMeasure7</th>\n",
              "      <th>SensorMeasure8</th>\n",
              "      <th>SensorMeasure11</th>\n",
              "      <th>SensorMeasure12</th>\n",
              "      <th>SensorMeasure13</th>\n",
              "      <th>SensorMeasure15</th>\n",
              "      <th>SensorMeasure17</th>\n",
              "      <th>SensorMeasure20</th>\n",
              "      <th>SensorMeasure21</th>\n",
              "      <th>RUL</th>\n",
              "    </tr>\n",
              "  </thead>\n",
              "  <tbody>\n",
              "    <tr>\n",
              "      <th>0</th>\n",
              "      <td>1</td>\n",
              "      <td>1</td>\n",
              "      <td>641.82</td>\n",
              "      <td>1589.70</td>\n",
              "      <td>1400.60</td>\n",
              "      <td>554.36</td>\n",
              "      <td>2388.06</td>\n",
              "      <td>47.47</td>\n",
              "      <td>521.66</td>\n",
              "      <td>2388.02</td>\n",
              "      <td>8.4195</td>\n",
              "      <td>392</td>\n",
              "      <td>39.06</td>\n",
              "      <td>23.4190</td>\n",
              "      <td>Green</td>\n",
              "    </tr>\n",
              "    <tr>\n",
              "      <th>1</th>\n",
              "      <td>1</td>\n",
              "      <td>2</td>\n",
              "      <td>642.15</td>\n",
              "      <td>1591.82</td>\n",
              "      <td>1403.14</td>\n",
              "      <td>553.75</td>\n",
              "      <td>2388.04</td>\n",
              "      <td>47.49</td>\n",
              "      <td>522.28</td>\n",
              "      <td>2388.07</td>\n",
              "      <td>8.4318</td>\n",
              "      <td>392</td>\n",
              "      <td>39.00</td>\n",
              "      <td>23.4236</td>\n",
              "      <td>Green</td>\n",
              "    </tr>\n",
              "    <tr>\n",
              "      <th>2</th>\n",
              "      <td>1</td>\n",
              "      <td>3</td>\n",
              "      <td>642.35</td>\n",
              "      <td>1587.99</td>\n",
              "      <td>1404.20</td>\n",
              "      <td>554.26</td>\n",
              "      <td>2388.08</td>\n",
              "      <td>47.27</td>\n",
              "      <td>522.42</td>\n",
              "      <td>2388.03</td>\n",
              "      <td>8.4178</td>\n",
              "      <td>390</td>\n",
              "      <td>38.95</td>\n",
              "      <td>23.3442</td>\n",
              "      <td>Green</td>\n",
              "    </tr>\n",
              "    <tr>\n",
              "      <th>3</th>\n",
              "      <td>1</td>\n",
              "      <td>4</td>\n",
              "      <td>642.35</td>\n",
              "      <td>1582.79</td>\n",
              "      <td>1401.87</td>\n",
              "      <td>554.45</td>\n",
              "      <td>2388.11</td>\n",
              "      <td>47.13</td>\n",
              "      <td>522.86</td>\n",
              "      <td>2388.08</td>\n",
              "      <td>8.3682</td>\n",
              "      <td>392</td>\n",
              "      <td>38.88</td>\n",
              "      <td>23.3739</td>\n",
              "      <td>Green</td>\n",
              "    </tr>\n",
              "    <tr>\n",
              "      <th>4</th>\n",
              "      <td>1</td>\n",
              "      <td>5</td>\n",
              "      <td>642.37</td>\n",
              "      <td>1582.85</td>\n",
              "      <td>1406.22</td>\n",
              "      <td>554.00</td>\n",
              "      <td>2388.06</td>\n",
              "      <td>47.28</td>\n",
              "      <td>522.19</td>\n",
              "      <td>2388.04</td>\n",
              "      <td>8.4294</td>\n",
              "      <td>393</td>\n",
              "      <td>38.90</td>\n",
              "      <td>23.4044</td>\n",
              "      <td>Green</td>\n",
              "    </tr>\n",
              "    <tr>\n",
              "      <th>...</th>\n",
              "      <td>...</td>\n",
              "      <td>...</td>\n",
              "      <td>...</td>\n",
              "      <td>...</td>\n",
              "      <td>...</td>\n",
              "      <td>...</td>\n",
              "      <td>...</td>\n",
              "      <td>...</td>\n",
              "      <td>...</td>\n",
              "      <td>...</td>\n",
              "      <td>...</td>\n",
              "      <td>...</td>\n",
              "      <td>...</td>\n",
              "      <td>...</td>\n",
              "      <td>...</td>\n",
              "    </tr>\n",
              "    <tr>\n",
              "      <th>160354</th>\n",
              "      <td>249</td>\n",
              "      <td>251</td>\n",
              "      <td>605.33</td>\n",
              "      <td>1516.36</td>\n",
              "      <td>1315.28</td>\n",
              "      <td>404.59</td>\n",
              "      <td>2319.66</td>\n",
              "      <td>46.08</td>\n",
              "      <td>380.16</td>\n",
              "      <td>2388.73</td>\n",
              "      <td>8.4541</td>\n",
              "      <td>372</td>\n",
              "      <td>29.11</td>\n",
              "      <td>17.5234</td>\n",
              "      <td>Red</td>\n",
              "    </tr>\n",
              "    <tr>\n",
              "      <th>160355</th>\n",
              "      <td>249</td>\n",
              "      <td>252</td>\n",
              "      <td>643.42</td>\n",
              "      <td>1598.92</td>\n",
              "      <td>1426.77</td>\n",
              "      <td>567.59</td>\n",
              "      <td>2388.47</td>\n",
              "      <td>48.04</td>\n",
              "      <td>535.02</td>\n",
              "      <td>2388.46</td>\n",
              "      <td>8.2221</td>\n",
              "      <td>396</td>\n",
              "      <td>39.38</td>\n",
              "      <td>23.7151</td>\n",
              "      <td>Red</td>\n",
              "    </tr>\n",
              "    <tr>\n",
              "      <th>160356</th>\n",
              "      <td>249</td>\n",
              "      <td>253</td>\n",
              "      <td>643.68</td>\n",
              "      <td>1607.72</td>\n",
              "      <td>1430.56</td>\n",
              "      <td>569.04</td>\n",
              "      <td>2388.51</td>\n",
              "      <td>48.24</td>\n",
              "      <td>535.41</td>\n",
              "      <td>2388.48</td>\n",
              "      <td>8.2525</td>\n",
              "      <td>395</td>\n",
              "      <td>39.78</td>\n",
              "      <td>23.8270</td>\n",
              "      <td>Red</td>\n",
              "    </tr>\n",
              "    <tr>\n",
              "      <th>160357</th>\n",
              "      <td>249</td>\n",
              "      <td>254</td>\n",
              "      <td>555.77</td>\n",
              "      <td>1381.29</td>\n",
              "      <td>1148.18</td>\n",
              "      <td>199.93</td>\n",
              "      <td>2223.78</td>\n",
              "      <td>42.53</td>\n",
              "      <td>187.92</td>\n",
              "      <td>2388.83</td>\n",
              "      <td>9.0515</td>\n",
              "      <td>337</td>\n",
              "      <td>15.26</td>\n",
              "      <td>9.0774</td>\n",
              "      <td>Red</td>\n",
              "    </tr>\n",
              "    <tr>\n",
              "      <th>160358</th>\n",
              "      <td>249</td>\n",
              "      <td>255</td>\n",
              "      <td>549.85</td>\n",
              "      <td>1369.75</td>\n",
              "      <td>1147.45</td>\n",
              "      <td>142.47</td>\n",
              "      <td>2212.52</td>\n",
              "      <td>42.60</td>\n",
              "      <td>134.32</td>\n",
              "      <td>2388.66</td>\n",
              "      <td>9.1207</td>\n",
              "      <td>333</td>\n",
              "      <td>10.66</td>\n",
              "      <td>6.4341</td>\n",
              "      <td>Red</td>\n",
              "    </tr>\n",
              "  </tbody>\n",
              "</table>\n",
              "<p>160359 rows × 15 columns</p>\n",
              "</div>\n",
              "      <button class=\"colab-df-convert\" onclick=\"convertToInteractive('df-9bfb991c-bb78-429d-8438-0aad0be7b906')\"\n",
              "              title=\"Convert this dataframe to an interactive table.\"\n",
              "              style=\"display:none;\">\n",
              "        \n",
              "  <svg xmlns=\"http://www.w3.org/2000/svg\" height=\"24px\"viewBox=\"0 0 24 24\"\n",
              "       width=\"24px\">\n",
              "    <path d=\"M0 0h24v24H0V0z\" fill=\"none\"/>\n",
              "    <path d=\"M18.56 5.44l.94 2.06.94-2.06 2.06-.94-2.06-.94-.94-2.06-.94 2.06-2.06.94zm-11 1L8.5 8.5l.94-2.06 2.06-.94-2.06-.94L8.5 2.5l-.94 2.06-2.06.94zm10 10l.94 2.06.94-2.06 2.06-.94-2.06-.94-.94-2.06-.94 2.06-2.06.94z\"/><path d=\"M17.41 7.96l-1.37-1.37c-.4-.4-.92-.59-1.43-.59-.52 0-1.04.2-1.43.59L10.3 9.45l-7.72 7.72c-.78.78-.78 2.05 0 2.83L4 21.41c.39.39.9.59 1.41.59.51 0 1.02-.2 1.41-.59l7.78-7.78 2.81-2.81c.8-.78.8-2.07 0-2.86zM5.41 20L4 18.59l7.72-7.72 1.47 1.35L5.41 20z\"/>\n",
              "  </svg>\n",
              "      </button>\n",
              "      \n",
              "  <style>\n",
              "    .colab-df-container {\n",
              "      display:flex;\n",
              "      flex-wrap:wrap;\n",
              "      gap: 12px;\n",
              "    }\n",
              "\n",
              "    .colab-df-convert {\n",
              "      background-color: #E8F0FE;\n",
              "      border: none;\n",
              "      border-radius: 50%;\n",
              "      cursor: pointer;\n",
              "      display: none;\n",
              "      fill: #1967D2;\n",
              "      height: 32px;\n",
              "      padding: 0 0 0 0;\n",
              "      width: 32px;\n",
              "    }\n",
              "\n",
              "    .colab-df-convert:hover {\n",
              "      background-color: #E2EBFA;\n",
              "      box-shadow: 0px 1px 2px rgba(60, 64, 67, 0.3), 0px 1px 3px 1px rgba(60, 64, 67, 0.15);\n",
              "      fill: #174EA6;\n",
              "    }\n",
              "\n",
              "    [theme=dark] .colab-df-convert {\n",
              "      background-color: #3B4455;\n",
              "      fill: #D2E3FC;\n",
              "    }\n",
              "\n",
              "    [theme=dark] .colab-df-convert:hover {\n",
              "      background-color: #434B5C;\n",
              "      box-shadow: 0px 1px 3px 1px rgba(0, 0, 0, 0.15);\n",
              "      filter: drop-shadow(0px 1px 2px rgba(0, 0, 0, 0.3));\n",
              "      fill: #FFFFFF;\n",
              "    }\n",
              "  </style>\n",
              "\n",
              "      <script>\n",
              "        const buttonEl =\n",
              "          document.querySelector('#df-9bfb991c-bb78-429d-8438-0aad0be7b906 button.colab-df-convert');\n",
              "        buttonEl.style.display =\n",
              "          google.colab.kernel.accessAllowed ? 'block' : 'none';\n",
              "\n",
              "        async function convertToInteractive(key) {\n",
              "          const element = document.querySelector('#df-9bfb991c-bb78-429d-8438-0aad0be7b906');\n",
              "          const dataTable =\n",
              "            await google.colab.kernel.invokeFunction('convertToInteractive',\n",
              "                                                     [key], {});\n",
              "          if (!dataTable) return;\n",
              "\n",
              "          const docLinkHtml = 'Like what you see? Visit the ' +\n",
              "            '<a target=\"_blank\" href=https://colab.research.google.com/notebooks/data_table.ipynb>data table notebook</a>'\n",
              "            + ' to learn more about interactive tables.';\n",
              "          element.innerHTML = '';\n",
              "          dataTable['output_type'] = 'display_data';\n",
              "          await google.colab.output.renderOutput(dataTable, element);\n",
              "          const docLink = document.createElement('div');\n",
              "          docLink.innerHTML = docLinkHtml;\n",
              "          element.appendChild(docLink);\n",
              "        }\n",
              "      </script>\n",
              "    </div>\n",
              "  </div>\n",
              "  "
            ]
          },
          "metadata": {},
          "execution_count": 22
        }
      ],
      "source": [
        "df_train"
      ]
    },
    {
      "cell_type": "markdown",
      "source": [
        "**Conversion**"
      ],
      "metadata": {
        "id": "RjEfB5ak-4MW"
      },
      "id": "RjEfB5ak-4MW"
    },
    {
      "cell_type": "code",
      "execution_count": 23,
      "id": "553486b6",
      "metadata": {
        "id": "553486b6"
      },
      "outputs": [],
      "source": [
        "# X,y Conversion\n",
        "X=df_train.drop(columns=['RUL'])\n",
        "y=df_train['RUL']"
      ]
    },
    {
      "cell_type": "code",
      "execution_count": 24,
      "id": "63d109ba",
      "metadata": {
        "colab": {
          "base_uri": "https://localhost:8080/",
          "height": 206
        },
        "id": "63d109ba",
        "outputId": "fee4b6a6-6f42-4eed-82d6-34d7fffbe27e"
      },
      "outputs": [
        {
          "output_type": "execute_result",
          "data": {
            "text/plain": [
              "   ID  Cycle  SensorMeasure2  SensorMeasure3  SensorMeasure4  SensorMeasure7  \\\n",
              "0   1      1          641.82         1589.70         1400.60          554.36   \n",
              "1   1      2          642.15         1591.82         1403.14          553.75   \n",
              "2   1      3          642.35         1587.99         1404.20          554.26   \n",
              "3   1      4          642.35         1582.79         1401.87          554.45   \n",
              "4   1      5          642.37         1582.85         1406.22          554.00   \n",
              "\n",
              "   SensorMeasure8  SensorMeasure11  SensorMeasure12  SensorMeasure13  \\\n",
              "0         2388.06            47.47           521.66          2388.02   \n",
              "1         2388.04            47.49           522.28          2388.07   \n",
              "2         2388.08            47.27           522.42          2388.03   \n",
              "3         2388.11            47.13           522.86          2388.08   \n",
              "4         2388.06            47.28           522.19          2388.04   \n",
              "\n",
              "   SensorMeasure15  SensorMeasure17  SensorMeasure20  SensorMeasure21  \n",
              "0           8.4195              392            39.06          23.4190  \n",
              "1           8.4318              392            39.00          23.4236  \n",
              "2           8.4178              390            38.95          23.3442  \n",
              "3           8.3682              392            38.88          23.3739  \n",
              "4           8.4294              393            38.90          23.4044  "
            ],
            "text/html": [
              "\n",
              "  <div id=\"df-829e2dc7-6fd5-46d2-beb7-7cbb7e0d524f\">\n",
              "    <div class=\"colab-df-container\">\n",
              "      <div>\n",
              "<style scoped>\n",
              "    .dataframe tbody tr th:only-of-type {\n",
              "        vertical-align: middle;\n",
              "    }\n",
              "\n",
              "    .dataframe tbody tr th {\n",
              "        vertical-align: top;\n",
              "    }\n",
              "\n",
              "    .dataframe thead th {\n",
              "        text-align: right;\n",
              "    }\n",
              "</style>\n",
              "<table border=\"1\" class=\"dataframe\">\n",
              "  <thead>\n",
              "    <tr style=\"text-align: right;\">\n",
              "      <th></th>\n",
              "      <th>ID</th>\n",
              "      <th>Cycle</th>\n",
              "      <th>SensorMeasure2</th>\n",
              "      <th>SensorMeasure3</th>\n",
              "      <th>SensorMeasure4</th>\n",
              "      <th>SensorMeasure7</th>\n",
              "      <th>SensorMeasure8</th>\n",
              "      <th>SensorMeasure11</th>\n",
              "      <th>SensorMeasure12</th>\n",
              "      <th>SensorMeasure13</th>\n",
              "      <th>SensorMeasure15</th>\n",
              "      <th>SensorMeasure17</th>\n",
              "      <th>SensorMeasure20</th>\n",
              "      <th>SensorMeasure21</th>\n",
              "    </tr>\n",
              "  </thead>\n",
              "  <tbody>\n",
              "    <tr>\n",
              "      <th>0</th>\n",
              "      <td>1</td>\n",
              "      <td>1</td>\n",
              "      <td>641.82</td>\n",
              "      <td>1589.70</td>\n",
              "      <td>1400.60</td>\n",
              "      <td>554.36</td>\n",
              "      <td>2388.06</td>\n",
              "      <td>47.47</td>\n",
              "      <td>521.66</td>\n",
              "      <td>2388.02</td>\n",
              "      <td>8.4195</td>\n",
              "      <td>392</td>\n",
              "      <td>39.06</td>\n",
              "      <td>23.4190</td>\n",
              "    </tr>\n",
              "    <tr>\n",
              "      <th>1</th>\n",
              "      <td>1</td>\n",
              "      <td>2</td>\n",
              "      <td>642.15</td>\n",
              "      <td>1591.82</td>\n",
              "      <td>1403.14</td>\n",
              "      <td>553.75</td>\n",
              "      <td>2388.04</td>\n",
              "      <td>47.49</td>\n",
              "      <td>522.28</td>\n",
              "      <td>2388.07</td>\n",
              "      <td>8.4318</td>\n",
              "      <td>392</td>\n",
              "      <td>39.00</td>\n",
              "      <td>23.4236</td>\n",
              "    </tr>\n",
              "    <tr>\n",
              "      <th>2</th>\n",
              "      <td>1</td>\n",
              "      <td>3</td>\n",
              "      <td>642.35</td>\n",
              "      <td>1587.99</td>\n",
              "      <td>1404.20</td>\n",
              "      <td>554.26</td>\n",
              "      <td>2388.08</td>\n",
              "      <td>47.27</td>\n",
              "      <td>522.42</td>\n",
              "      <td>2388.03</td>\n",
              "      <td>8.4178</td>\n",
              "      <td>390</td>\n",
              "      <td>38.95</td>\n",
              "      <td>23.3442</td>\n",
              "    </tr>\n",
              "    <tr>\n",
              "      <th>3</th>\n",
              "      <td>1</td>\n",
              "      <td>4</td>\n",
              "      <td>642.35</td>\n",
              "      <td>1582.79</td>\n",
              "      <td>1401.87</td>\n",
              "      <td>554.45</td>\n",
              "      <td>2388.11</td>\n",
              "      <td>47.13</td>\n",
              "      <td>522.86</td>\n",
              "      <td>2388.08</td>\n",
              "      <td>8.3682</td>\n",
              "      <td>392</td>\n",
              "      <td>38.88</td>\n",
              "      <td>23.3739</td>\n",
              "    </tr>\n",
              "    <tr>\n",
              "      <th>4</th>\n",
              "      <td>1</td>\n",
              "      <td>5</td>\n",
              "      <td>642.37</td>\n",
              "      <td>1582.85</td>\n",
              "      <td>1406.22</td>\n",
              "      <td>554.00</td>\n",
              "      <td>2388.06</td>\n",
              "      <td>47.28</td>\n",
              "      <td>522.19</td>\n",
              "      <td>2388.04</td>\n",
              "      <td>8.4294</td>\n",
              "      <td>393</td>\n",
              "      <td>38.90</td>\n",
              "      <td>23.4044</td>\n",
              "    </tr>\n",
              "  </tbody>\n",
              "</table>\n",
              "</div>\n",
              "      <button class=\"colab-df-convert\" onclick=\"convertToInteractive('df-829e2dc7-6fd5-46d2-beb7-7cbb7e0d524f')\"\n",
              "              title=\"Convert this dataframe to an interactive table.\"\n",
              "              style=\"display:none;\">\n",
              "        \n",
              "  <svg xmlns=\"http://www.w3.org/2000/svg\" height=\"24px\"viewBox=\"0 0 24 24\"\n",
              "       width=\"24px\">\n",
              "    <path d=\"M0 0h24v24H0V0z\" fill=\"none\"/>\n",
              "    <path d=\"M18.56 5.44l.94 2.06.94-2.06 2.06-.94-2.06-.94-.94-2.06-.94 2.06-2.06.94zm-11 1L8.5 8.5l.94-2.06 2.06-.94-2.06-.94L8.5 2.5l-.94 2.06-2.06.94zm10 10l.94 2.06.94-2.06 2.06-.94-2.06-.94-.94-2.06-.94 2.06-2.06.94z\"/><path d=\"M17.41 7.96l-1.37-1.37c-.4-.4-.92-.59-1.43-.59-.52 0-1.04.2-1.43.59L10.3 9.45l-7.72 7.72c-.78.78-.78 2.05 0 2.83L4 21.41c.39.39.9.59 1.41.59.51 0 1.02-.2 1.41-.59l7.78-7.78 2.81-2.81c.8-.78.8-2.07 0-2.86zM5.41 20L4 18.59l7.72-7.72 1.47 1.35L5.41 20z\"/>\n",
              "  </svg>\n",
              "      </button>\n",
              "      \n",
              "  <style>\n",
              "    .colab-df-container {\n",
              "      display:flex;\n",
              "      flex-wrap:wrap;\n",
              "      gap: 12px;\n",
              "    }\n",
              "\n",
              "    .colab-df-convert {\n",
              "      background-color: #E8F0FE;\n",
              "      border: none;\n",
              "      border-radius: 50%;\n",
              "      cursor: pointer;\n",
              "      display: none;\n",
              "      fill: #1967D2;\n",
              "      height: 32px;\n",
              "      padding: 0 0 0 0;\n",
              "      width: 32px;\n",
              "    }\n",
              "\n",
              "    .colab-df-convert:hover {\n",
              "      background-color: #E2EBFA;\n",
              "      box-shadow: 0px 1px 2px rgba(60, 64, 67, 0.3), 0px 1px 3px 1px rgba(60, 64, 67, 0.15);\n",
              "      fill: #174EA6;\n",
              "    }\n",
              "\n",
              "    [theme=dark] .colab-df-convert {\n",
              "      background-color: #3B4455;\n",
              "      fill: #D2E3FC;\n",
              "    }\n",
              "\n",
              "    [theme=dark] .colab-df-convert:hover {\n",
              "      background-color: #434B5C;\n",
              "      box-shadow: 0px 1px 3px 1px rgba(0, 0, 0, 0.15);\n",
              "      filter: drop-shadow(0px 1px 2px rgba(0, 0, 0, 0.3));\n",
              "      fill: #FFFFFF;\n",
              "    }\n",
              "  </style>\n",
              "\n",
              "      <script>\n",
              "        const buttonEl =\n",
              "          document.querySelector('#df-829e2dc7-6fd5-46d2-beb7-7cbb7e0d524f button.colab-df-convert');\n",
              "        buttonEl.style.display =\n",
              "          google.colab.kernel.accessAllowed ? 'block' : 'none';\n",
              "\n",
              "        async function convertToInteractive(key) {\n",
              "          const element = document.querySelector('#df-829e2dc7-6fd5-46d2-beb7-7cbb7e0d524f');\n",
              "          const dataTable =\n",
              "            await google.colab.kernel.invokeFunction('convertToInteractive',\n",
              "                                                     [key], {});\n",
              "          if (!dataTable) return;\n",
              "\n",
              "          const docLinkHtml = 'Like what you see? Visit the ' +\n",
              "            '<a target=\"_blank\" href=https://colab.research.google.com/notebooks/data_table.ipynb>data table notebook</a>'\n",
              "            + ' to learn more about interactive tables.';\n",
              "          element.innerHTML = '';\n",
              "          dataTable['output_type'] = 'display_data';\n",
              "          await google.colab.output.renderOutput(dataTable, element);\n",
              "          const docLink = document.createElement('div');\n",
              "          docLink.innerHTML = docLinkHtml;\n",
              "          element.appendChild(docLink);\n",
              "        }\n",
              "      </script>\n",
              "    </div>\n",
              "  </div>\n",
              "  "
            ]
          },
          "metadata": {},
          "execution_count": 24
        }
      ],
      "source": [
        "X.head()"
      ]
    },
    {
      "cell_type": "code",
      "execution_count": 25,
      "id": "01d500f3",
      "metadata": {
        "colab": {
          "base_uri": "https://localhost:8080/"
        },
        "id": "01d500f3",
        "outputId": "67064975-0078-40a4-8c93-b8f2252100aa"
      },
      "outputs": [
        {
          "output_type": "execute_result",
          "data": {
            "text/plain": [
              "0    Green\n",
              "1    Green\n",
              "2    Green\n",
              "3    Green\n",
              "4    Green\n",
              "Name: RUL, dtype: object"
            ]
          },
          "metadata": {},
          "execution_count": 25
        }
      ],
      "source": [
        "y.head()"
      ]
    },
    {
      "cell_type": "code",
      "execution_count": 26,
      "id": "bf2765c1",
      "metadata": {
        "scrolled": true,
        "colab": {
          "base_uri": "https://localhost:8080/",
          "height": 481
        },
        "id": "bf2765c1",
        "outputId": "47702a8d-e5ff-4064-ce67-b29293bbdb15"
      },
      "outputs": [
        {
          "output_type": "display_data",
          "data": {
            "text/plain": [
              "<Figure size 640x480 with 1 Axes>"
            ],
            "image/png": "[encoded data removed]"
          },
          "metadata": {}
        }
      ],
      "source": [
        "y.value_counts().plot(kind='bar')\n",
        "plt.title('Label Distribution')\n",
        "plt.show()"
      ]
    },
    {
      "cell_type": "markdown",
      "id": "109dcd17",
      "metadata": {
        "id": "109dcd17"
      },
      "source": [
        "**Labels are highly imbalanced so sampling is required to remove imbalance**"
      ]
    },
    {
      "cell_type": "markdown",
      "id": "249e4c17",
      "metadata": {
        "id": "249e4c17"
      },
      "source": [
        "##**Sampling**"
      ]
    },
    {
      "cell_type": "code",
      "execution_count": 27,
      "id": "26906c54",
      "metadata": {
        "id": "26906c54"
      },
      "outputs": [],
      "source": [
        "# Balancing the dataset\n",
        "X = X.loc[:,~X.columns.duplicated()]\n",
        "from imblearn.over_sampling import SMOTE\n",
        "oversample = SMOTE()\n",
        "X, y = oversample.fit_resample(X, y)"
      ]
    },
    {
      "cell_type": "markdown",
      "id": "40e8c9fb",
      "metadata": {
        "id": "40e8c9fb"
      },
      "source": [
        "##**Scaling**"
      ]
    },
    {
      "cell_type": "code",
      "execution_count": 28,
      "id": "109dd6be",
      "metadata": {
        "id": "109dd6be"
      },
      "outputs": [],
      "source": [
        "#Standard Scaling the data\n",
        "from sklearn.preprocessing import StandardScaler\n",
        "ss = StandardScaler()\n",
        "X = ss.fit_transform(X)"
      ]
    },
    {
      "cell_type": "markdown",
      "source": [
        "##**Data Spiliting**"
      ],
      "metadata": {
        "id": "syLp3ywe_M4E"
      },
      "id": "syLp3ywe_M4E"
    },
    {
      "cell_type": "code",
      "execution_count": 29,
      "id": "e430865b",
      "metadata": {
        "id": "e430865b"
      },
      "outputs": [],
      "source": [
        "# Spliting the  the train and test data \n",
        "from sklearn.model_selection import train_test_split\n",
        "X_train, X_test, y_train, y_test = train_test_split(X, y, test_size=0.33, random_state=42)"
      ]
    },
    {
      "cell_type": "markdown",
      "source": [
        "#**Function Evaluation**"
      ],
      "metadata": {
        "id": "skGKnWpY_D2k"
      },
      "id": "skGKnWpY_D2k"
    },
    {
      "cell_type": "code",
      "execution_count": 30,
      "id": "796ad07e",
      "metadata": {
        "id": "796ad07e"
      },
      "outputs": [],
      "source": [
        "# function for evaluation metrics precision, recall, f1 etc\n",
        "from sklearn.metrics import roc_auc_score, accuracy_score, precision_score, recall_score, f1_score, classification_report,confusion_matrix\n",
        "import seaborn as sns\n",
        "import matplotlib.pyplot as plt\n",
        "\n",
        "def modelEvaluation(predictions, y_test_set, model_name):\n",
        "    # Print model evaluation to predicted result    \n",
        "    print(\"==========\",model_name,\"==========\")\n",
        "    print (\"\\nAccuracy on validation set: {:.4f}\".format(accuracy_score(y_test_set, predictions)))    \n",
        "    print (\"\\nClassification report : \\n\", classification_report(y_test_set, predictions))\n",
        "    print (\"\\nConfusion Matrix : \\n\", confusion_matrix(y_test_set, predictions))\n",
        "    sns.heatmap(confusion_matrix(y_test_set, predictions),annot=True, fmt='g',cmap='viridis')\n",
        "    plt.tight_layout()\n",
        "    plt.show()\n",
        "    results = [accuracy_score(y_test_set, predictions), precision_score(y_test_set, predictions, average='macro'),\n",
        "              recall_score(y_test_set, predictions, average='macro'),f1_score(y_test_set, predictions, average='macro')]\n",
        "    return results"
      ]
    },
    {
      "cell_type": "code",
      "source": [
        "break"
      ],
      "metadata": {
        "colab": {
          "base_uri": "https://localhost:8080/",
          "height": 131
        },
        "id": "QSPRymD-Ihzz",
        "outputId": "b03e22eb-425f-48f8-e94b-a36d710834bf"
      },
      "id": "QSPRymD-Ihzz",
      "execution_count": 31,
      "outputs": [
        {
          "output_type": "error",
          "ename": "SyntaxError",
          "evalue": "ignored",
          "traceback": [
            "\u001b[0;36m  File \u001b[0;32m\"<ipython-input-31-6aaf1f276005>\"\u001b[0;36m, line \u001b[0;32m1\u001b[0m\n\u001b[0;31m    break\u001b[0m\n\u001b[0m    ^\u001b[0m\n\u001b[0;31mSyntaxError\u001b[0m\u001b[0;31m:\u001b[0m 'break' outside loop\n"
          ]
        }
      ]
    },
    {
      "cell_type": "markdown",
      "id": "867fa288",
      "metadata": {
        "id": "867fa288"
      },
      "source": [
        "## **Modeling**\n",
        "KNN, RF SVM and Neural network for this problem"
      ]
    },
    {
      "cell_type": "markdown",
      "id": "f351206b",
      "metadata": {
        "id": "f351206b"
      },
      "source": [
        "##**Random Forest**"
      ]
    },
    {
      "cell_type": "code",
      "execution_count": 32,
      "id": "24e15305",
      "metadata": {
        "colab": {
          "base_uri": "https://localhost:8080/",
          "height": 834
        },
        "id": "24e15305",
        "outputId": "da84ea18-0a6b-42f1-fcd8-94feec599b3c"
      },
      "outputs": [
        {
          "output_type": "stream",
          "name": "stdout",
          "text": [
            "========== Random Forest Classifier ==========\n",
            "\n",
            "Accuracy on validation set: 0.9414\n",
            "\n",
            "Classification report : \n",
            "               precision    recall  f1-score   support\n",
            "\n",
            "       Green       0.91      0.97      0.94     38256\n",
            "         Red       0.97      0.96      0.97     41505\n",
            "      Yellow       0.94      0.89      0.92     43197\n",
            "\n",
            "    accuracy                           0.94    122958\n",
            "   macro avg       0.94      0.94      0.94    122958\n",
            "weighted avg       0.94      0.94      0.94    122958\n",
            "\n",
            "\n",
            "Confusion Matrix : \n",
            " [[37180     0  1076]\n",
            " [   47 39976  1482]\n",
            " [ 3426  1169 38602]]\n"
          ]
        },
        {
          "output_type": "display_data",
          "data": {
            "text/plain": [
              "<Figure size 640x480 with 2 Axes>"
            ],
            "image/png": "[encoded data removed]"
          },
          "metadata": {}
        }
      ],
      "source": [
        "from sklearn.ensemble import RandomForestClassifier\n",
        "rfc = RandomForestClassifier(max_depth=200)\n",
        "rfc.fit(X_train, y_train),\n",
        "y_pred_rfc = rfc.predict(X_test)\n",
        "results_rfc= modelEvaluation(y_test, y_pred_rfc, \"Random Forest Classifier\")"
      ]
    },
    {
      "cell_type": "markdown",
      "source": [
        "**SVM**"
      ],
      "metadata": {
        "id": "6Rvjl-Kb7lxn"
      },
      "id": "6Rvjl-Kb7lxn"
    },
    {
      "cell_type": "code",
      "source": [
        "from sklearn.svm import SVC\n",
        "svm =SVC(kernel='linear', random_state=1)\n",
        "svm.fit(X_train, y_train),\n",
        "y_pred_svm = svm.predict(X_test)\n",
        "results_svm = modelEvaluation(y_test, y_pred_svm, \"SVM Classifier\")"
      ],
      "metadata": {
        "id": "AWBauOeD7kwb"
      },
      "id": "AWBauOeD7kwb",
      "execution_count": null,
      "outputs": []
    },
    {
      "cell_type": "markdown",
      "id": "0986793c",
      "metadata": {
        "id": "0986793c"
      },
      "source": [
        "##**KNN Classifier**"
      ]
    },
    {
      "cell_type": "code",
      "execution_count": 33,
      "id": "1bd6a306",
      "metadata": {
        "colab": {
          "base_uri": "https://localhost:8080/",
          "height": 834
        },
        "id": "1bd6a306",
        "outputId": "6f22ec1b-6826-486c-d228-b906434d3873"
      },
      "outputs": [
        {
          "output_type": "stream",
          "name": "stdout",
          "text": [
            "========== KNN Classifier ==========\n",
            "\n",
            "Accuracy on validation set: 0.9560\n",
            "\n",
            "Classification report : \n",
            "               precision    recall  f1-score   support\n",
            "\n",
            "       Green       0.89      0.99      0.94     36617\n",
            "         Red       0.99      0.98      0.99     41521\n",
            "      Yellow       0.98      0.90      0.94     44820\n",
            "\n",
            "    accuracy                           0.96    122958\n",
            "   macro avg       0.96      0.96      0.96    122958\n",
            "weighted avg       0.96      0.96      0.96    122958\n",
            "\n",
            "\n",
            "Confusion Matrix : \n",
            " [[36313    25   279]\n",
            " [  215 40830   476]\n",
            " [ 4125   290 40405]]\n"
          ]
        },
        {
          "output_type": "display_data",
          "data": {
            "text/plain": [
              "<Figure size 640x480 with 2 Axes>"
            ],
            "image/png": "[encoded data removed]"
          },
          "metadata": {}
        }
      ],
      "source": [
        "from sklearn.neighbors import KNeighborsClassifier\n",
        "knn = KNeighborsClassifier(3)\n",
        "knn.fit(X_train, y_train),\n",
        "y_pred_knn = knn.predict(X_test)\n",
        "results_knn = modelEvaluation(y_test, y_pred_knn, \"KNN Classifier\")"
      ]
    },
    {
      "cell_type": "markdown",
      "source": [
        "**KNN Hyperparameter tunning***"
      ],
      "metadata": {
        "id": "nFGiTcfI8FQL"
      },
      "id": "nFGiTcfI8FQL"
    },
    {
      "cell_type": "code",
      "source": [
        "from sklearn.neighbors import KNeighborsClassifier\n",
        "from sklearn.model_selection import GridSearchCV\n",
        "\n",
        "# Define the parameter grid\n",
        "param_grid = {'n_neighbors': [3], 'metric': ['manhattan']}\n",
        "\n",
        "# Create a KNN classifier\n",
        "knn = KNeighborsClassifier()\n",
        "\n",
        "# Create a GridSearchCV object\n",
        "grid_search = GridSearchCV(knn, param_grid, cv=5)\n",
        "\n",
        "# Fit the GridSearchCV object to the training data\n",
        "grid_search.fit(X_train, y_train)"
      ],
      "metadata": {
        "colab": {
          "base_uri": "https://localhost:8080/",
          "height": 119
        },
        "id": "8EByAgqO75bi",
        "outputId": "5afdbb9d-5983-4d2f-f070-ce6ca7233097"
      },
      "id": "8EByAgqO75bi",
      "execution_count": 34,
      "outputs": [
        {
          "output_type": "execute_result",
          "data": {
            "text/plain": [
              "GridSearchCV(cv=5, estimator=KNeighborsClassifier(),\n",
              "             param_grid={'metric': ['euclidean', 'manhattan', 'minkowski'],\n",
              "                         'n_neighbors': [3, 5, 7, 9, 11]})"
            ],
            "text/html": [
              "<style>#sk-container-id-1 {color: black;background-color: white;}#sk-container-id-1 pre{padding: 0;}#sk-container-id-1 div.sk-toggleable {background-color: white;}#sk-container-id-1 label.sk-toggleable__label {cursor: pointer;display: block;width: 100%;margin-bottom: 0;padding: 0.3em;box-sizing: border-box;text-align: center;}#sk-container-id-1 label.sk-toggleable__label-arrow:before {content: \"▸\";float: left;margin-right: 0.25em;color: #696969;}#sk-container-id-1 label.sk-toggleable__label-arrow:hover:before {color: black;}#sk-container-id-1 div.sk-estimator:hover label.sk-toggleable__label-arrow:before {color: black;}#sk-container-id-1 div.sk-toggleable__content {max-height: 0;max-width: 0;overflow: hidden;text-align: left;background-color: #f0f8ff;}#sk-container-id-1 div.sk-toggleable__content pre {margin: 0.2em;color: black;border-radius: 0.25em;background-color: #f0f8ff;}#sk-container-id-1 input.sk-toggleable__control:checked~div.sk-toggleable__content {max-height: 200px;max-width: 100%;overflow: auto;}#sk-container-id-1 input.sk-toggleable__control:checked~label.sk-toggleable__label-arrow:before {content: \"▾\";}#sk-container-id-1 div.sk-estimator input.sk-toggleable__control:checked~label.sk-toggleable__label {background-color: #d4ebff;}#sk-container-id-1 div.sk-label input.sk-toggleable__control:checked~label.sk-toggleable__label {background-color: #d4ebff;}#sk-container-id-1 input.sk-hidden--visually {border: 0;clip: rect(1px 1px 1px 1px);clip: rect(1px, 1px, 1px, 1px);height: 1px;margin: -1px;overflow: hidden;padding: 0;position: absolute;width: 1px;}#sk-container-id-1 div.sk-estimator {font-family: monospace;background-color: #f0f8ff;border: 1px dotted black;border-radius: 0.25em;box-sizing: border-box;margin-bottom: 0.5em;}#sk-container-id-1 div.sk-estimator:hover {background-color: #d4ebff;}#sk-container-id-1 div.sk-parallel-item::after {content: \"\";width: 100%;border-bottom: 1px solid gray;flex-grow: 1;}#sk-container-id-1 div.sk-label:hover label.sk-toggleable__label {background-color: #d4ebff;}#sk-container-id-1 div.sk-serial::before {content: \"\";position: absolute;border-left: 1px solid gray;box-sizing: border-box;top: 0;bottom: 0;left: 50%;z-index: 0;}#sk-container-id-1 div.sk-serial {display: flex;flex-direction: column;align-items: center;background-color: white;padding-right: 0.2em;padding-left: 0.2em;position: relative;}#sk-container-id-1 div.sk-item {position: relative;z-index: 1;}#sk-container-id-1 div.sk-parallel {display: flex;align-items: stretch;justify-content: center;background-color: white;position: relative;}#sk-container-id-1 div.sk-item::before, #sk-container-id-1 div.sk-parallel-item::before {content: \"\";position: absolute;border-left: 1px solid gray;box-sizing: border-box;top: 0;bottom: 0;left: 50%;z-index: -1;}#sk-container-id-1 div.sk-parallel-item {display: flex;flex-direction: column;z-index: 1;position: relative;background-color: white;}#sk-container-id-1 div.sk-parallel-item:first-child::after {align-self: flex-end;width: 50%;}#sk-container-id-1 div.sk-parallel-item:last-child::after {align-self: flex-start;width: 50%;}#sk-container-id-1 div.sk-parallel-item:only-child::after {width: 0;}#sk-container-id-1 div.sk-dashed-wrapped {border: 1px dashed gray;margin: 0 0.4em 0.5em 0.4em;box-sizing: border-box;padding-bottom: 0.4em;background-color: white;}#sk-container-id-1 div.sk-label label {font-family: monospace;font-weight: bold;display: inline-block;line-height: 1.2em;}#sk-container-id-1 div.sk-label-container {text-align: center;}#sk-container-id-1 div.sk-container {/* jupyter's `normalize.less` sets `[hidden] { display: none; }` but bootstrap.min.css set `[hidden] { display: none !important; }` so we also need the `!important` here to be able to override the default hidden behavior on the sphinx rendered scikit-learn.org. See: https://github.com/scikit-learn/scikit-learn/issues/21755 */display: inline-block !important;position: relative;}#sk-container-id-1 div.sk-text-repr-fallback {display: none;}</style><div id=\"sk-container-id-1\" class=\"sk-top-container\"><div class=\"sk-text-repr-fallback\"><pre>GridSearchCV(cv=5, estimator=KNeighborsClassifier(),\n",
              "             param_grid={&#x27;metric&#x27;: [&#x27;euclidean&#x27;, &#x27;manhattan&#x27;, &#x27;minkowski&#x27;],\n",
              "                         &#x27;n_neighbors&#x27;: [3, 5, 7, 9, 11]})</pre><b>In a Jupyter environment, please rerun this cell to show the HTML representation or trust the notebook. <br />On GitHub, the HTML representation is unable to render, please try loading this page with nbviewer.org.</b></div><div class=\"sk-container\" hidden><div class=\"sk-item sk-dashed-wrapped\"><div class=\"sk-label-container\"><div class=\"sk-label sk-toggleable\"><input class=\"sk-toggleable__control sk-hidden--visually\" id=\"sk-estimator-id-1\" type=\"checkbox\" ><label for=\"sk-estimator-id-1\" class=\"sk-toggleable__label sk-toggleable__label-arrow\">GridSearchCV</label><div class=\"sk-toggleable__content\"><pre>GridSearchCV(cv=5, estimator=KNeighborsClassifier(),\n",
              "             param_grid={&#x27;metric&#x27;: [&#x27;euclidean&#x27;, &#x27;manhattan&#x27;, &#x27;minkowski&#x27;],\n",
              "                         &#x27;n_neighbors&#x27;: [3, 5, 7, 9, 11]})</pre></div></div></div><div class=\"sk-parallel\"><div class=\"sk-parallel-item\"><div class=\"sk-item\"><div class=\"sk-label-container\"><div class=\"sk-label sk-toggleable\"><input class=\"sk-toggleable__control sk-hidden--visually\" id=\"sk-estimator-id-2\" type=\"checkbox\" ><label for=\"sk-estimator-id-2\" class=\"sk-toggleable__label sk-toggleable__label-arrow\">estimator: KNeighborsClassifier</label><div class=\"sk-toggleable__content\"><pre>KNeighborsClassifier()</pre></div></div></div><div class=\"sk-serial\"><div class=\"sk-item\"><div class=\"sk-estimator sk-toggleable\"><input class=\"sk-toggleable__control sk-hidden--visually\" id=\"sk-estimator-id-3\" type=\"checkbox\" ><label for=\"sk-estimator-id-3\" class=\"sk-toggleable__label sk-toggleable__label-arrow\">KNeighborsClassifier</label><div class=\"sk-toggleable__content\"><pre>KNeighborsClassifier()</pre></div></div></div></div></div></div></div></div></div></div>"
            ]
          },
          "metadata": {},
          "execution_count": 34
        }
      ]
    },
    {
      "cell_type": "code",
      "source": [
        "# Print the best hyperparameters and the corresponding accuracy score\n",
        "print(\"Best hyperparameters:\", grid_search.best_params_)\n",
        "print(\"Best accuracy score:\", grid_search.best_score_)"
      ],
      "metadata": {
        "colab": {
          "base_uri": "https://localhost:8080/"
        },
        "id": "sXdkUEEv8D_f",
        "outputId": "ebba7109-fdbb-4c0d-d16f-1096124d7f81"
      },
      "id": "sXdkUEEv8D_f",
      "execution_count": 35,
      "outputs": [
        {
          "output_type": "stream",
          "name": "stdout",
          "text": [
            "Best hyperparameters: {'metric': 'manhattan', 'n_neighbors': 3}\n",
            "Best accuracy score: 0.9539740916157987\n"
          ]
        }
      ]
    },
    {
      "cell_type": "markdown",
      "id": "e431625b",
      "metadata": {
        "id": "e431625b"
      },
      "source": [
        "## **Neural Network Implementation**"
      ]
    },
    {
      "cell_type": "code",
      "execution_count": null,
      "id": "d350292c",
      "metadata": {
        "id": "d350292c"
      },
      "outputs": [],
      "source": [
        "#import the TenserFlow and keras for neural network implementation\n",
        "import pandas as pd\n",
        "import tensorflow as tf\n",
        "from tensorflow import keras\n",
        "from sklearn.model_selection import train_test_split\n",
        "import numpy as np\n",
        "import matplotlib.pyplot as plt"
      ]
    },
    {
      "cell_type": "code",
      "execution_count": null,
      "id": "a3df3bf8",
      "metadata": {
        "id": "a3df3bf8"
      },
      "outputs": [],
      "source": [
        "#conevreting the labels into one hot encoded labels\n",
        "from sklearn.preprocessing import LabelEncoder\n",
        "le=LabelEncoder()\n",
        "y=le.fit_transform(y)\n",
        "from keras.utils.np_utils import to_categorical   \n",
        "y_one_hot = to_categorical(y, num_classes=3)"
      ]
    },
    {
      "cell_type": "code",
      "execution_count": null,
      "id": "05135e24",
      "metadata": {
        "id": "05135e24"
      },
      "outputs": [],
      "source": [
        "#Train and test data spliting\n",
        "X_train, X_test, y_train, y_test = train_test_split(X, y_one_hot, test_size=0.2, random_state=1)\n",
        "X_train, X_val, y_train, y_val = train_test_split(X_train, y_train, test_size=0.2, random_state=1)"
      ]
    },
    {
      "cell_type": "code",
      "execution_count": null,
      "id": "5106ad06",
      "metadata": {
        "id": "5106ad06"
      },
      "outputs": [],
      "source": [
        "#for arrays\n",
        "y_train"
      ]
    },
    {
      "cell_type": "code",
      "execution_count": null,
      "id": "507c40de",
      "metadata": {
        "id": "507c40de"
      },
      "outputs": [],
      "source": [
        "X_train.shape"
      ]
    },
    {
      "cell_type": "code",
      "execution_count": null,
      "id": "95314fc9",
      "metadata": {
        "id": "95314fc9"
      },
      "outputs": [],
      "source": [
        "#Neural Netwrok Architecture\n",
        "model = keras.Sequential([\n",
        "    keras.layers.Flatten(input_shape=(14,)),\n",
        "    keras.layers.Dense(12, activation=tf.nn.relu),\n",
        "    keras.layers.Dense(12, activation=tf.nn.relu),\n",
        "    keras.layers.Dense(3, activation=tf.nn.softmax),\n",
        "])\n",
        "X_train, X_val, y_train, y_val = train_test_split(X_train, y_train, test_size=0.2, random_state=1)"
      ]
    },
    {
      "cell_type": "code",
      "execution_count": null,
      "id": "e62f6939",
      "metadata": {
        "id": "e62f6939"
      },
      "outputs": [],
      "source": [
        "with tf.device('/GPU:0'):\n",
        "    model.compile(optimizer='adam',\n",
        "              loss='categorical_crossentropy',\n",
        "              metrics=['accuracy'])\n",
        "    history = model.fit(X_train, y_train, epochs=50, batch_size=100, validation_data=(X_val, y_val))"
      ]
    },
    {
      "cell_type": "markdown",
      "id": "7457b079",
      "metadata": {
        "id": "7457b079"
      },
      "source": [
        "## Reversing the one-Hot Encoded labels"
      ]
    },
    {
      "cell_type": "code",
      "execution_count": null,
      "id": "b5609e7f",
      "metadata": {
        "id": "b5609e7f"
      },
      "outputs": [],
      "source": [
        "y_predict =model.predict(X_test)\n",
        "y_predict=np.round(y_predict)\n",
        "y_predict"
      ]
    },
    {
      "cell_type": "code",
      "execution_count": null,
      "id": "2bc4c870",
      "metadata": {
        "id": "2bc4c870"
      },
      "outputs": [],
      "source": [
        "y_test"
      ]
    },
    {
      "cell_type": "code",
      "execution_count": null,
      "id": "60f4e3aa",
      "metadata": {
        "id": "60f4e3aa"
      },
      "outputs": [],
      "source": [
        "#from numpy import argmax\n",
        "predict_label=np.argmax(y_predict,axis=1)\n",
        "test_label=np.argmax(y_test,axis=1)\n",
        "predict_label #Predicted Label"
      ]
    },
    {
      "cell_type": "code",
      "execution_count": null,
      "id": "4275c412",
      "metadata": {
        "id": "4275c412"
      },
      "outputs": [],
      "source": [
        "from sklearn.metrics import accuracy_score\n",
        "from sklearn.metrics import confusion_matrix\n",
        "accuracy_score(predict_label,test_label)"
      ]
    },
    {
      "cell_type": "code",
      "execution_count": null,
      "id": "305a6f44",
      "metadata": {
        "id": "305a6f44"
      },
      "outputs": [],
      "source": [
        "cf_matrix=confusion_matrix(c)"
      ]
    },
    {
      "cell_type": "code",
      "execution_count": null,
      "id": "3a00a0dc",
      "metadata": {
        "id": "3a00a0dc"
      },
      "outputs": [],
      "source": [
        "cf_matrix"
      ]
    },
    {
      "cell_type": "code",
      "execution_count": null,
      "id": "e5db913d",
      "metadata": {
        "id": "e5db913d"
      },
      "outputs": [],
      "source": [
        "from sklearn.metrics import ConfusionMatrixDisplay\n",
        "ConfusionMatrixDisplay.from_predictions(predict_label,test_label)"
      ]
    },
    {
      "cell_type": "markdown",
      "id": "984ef1b2",
      "metadata": {
        "id": "984ef1b2"
      },
      "source": [
        "**"
      ]
    }
  ],
  "metadata": {
    "kernelspec": {
      "display_name": "Python 3 (ipykernel)",
      "language": "python",
      "name": "python3"
    },
    "language_info": {
      "codemirror_mode": {
        "name": "ipython",
        "version": 3
      },
      "file_extension": ".py",
      "mimetype": "text/x-python",
      "name": "python",
      "nbconvert_exporter": "python",
      "pygments_lexer": "ipython3",
      "version": "3.9.0"
    },
    "colab": {
      "provenance": []
    }
  },
  "nbformat": 4,
  "nbformat_minor": 5
}