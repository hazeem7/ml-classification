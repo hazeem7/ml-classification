{
  "nbformat": 4,
  "nbformat_minor": 0,
  "metadata": {
    "colab": {
      "provenance": []
    },
    "kernelspec": {
      "name": "python3",
      "display_name": "Python 3"
    },
    "language_info": {
      "name": "python"
    }
  },
  "cells": [
    {
      "cell_type": "code",
      "execution_count": 1,
      "metadata": {
        "id": "K0vprfGEt8jO"
      },
      "outputs": [],
      "source": [
        "import numpy as np\n",
        "import matplotlib.pyplot as plt\n",
        "import pandas as pd\n",
        "\n",
        "from sklearn.preprocessing import MinMaxScaler\n",
        "from keras.preprocessing.sequence import TimeseriesGenerator\n",
        "from sklearn import metrics\n",
        "\n",
        "import keras\n",
        "from keras.models import Sequential\n",
        "from keras.layers import Dense, Conv2D, Flatten\n",
        "import os\n",
        "os.environ['TF_CPP_MIN_LOG_LEVEL'] = '2'"
      ]
    },
    {
      "cell_type": "code",
      "source": [
        "df=pd.read_csv('/content/Processed_Train_001.csv')\n"
      ],
      "metadata": {
        "id": "BX0cTwguvwNE"
      },
      "execution_count": 2,
      "outputs": []
    },
    {
      "cell_type": "code",
      "source": [
        "df.head()"
      ],
      "metadata": {
        "colab": {
          "base_uri": "https://localhost:8080/",
          "height": 270
        },
        "id": "Jb1gqlXAwCmz",
        "outputId": "e298ae02-ead5-4789-b049-8465baeb19ad"
      },
      "execution_count": 3,
      "outputs": [
        {
          "data": {
            "text/html": [
              "\n",
              "  <div id=\"df-48fcb82c-cfbb-4b68-a9ae-82db66a134b0\">\n",
              "    <div class=\"colab-df-container\">\n",
              "      <div>\n",
              "<style scoped>\n",
              "    .dataframe tbody tr th:only-of-type {\n",
              "        vertical-align: middle;\n",
              "    }\n",
              "\n",
              "    .dataframe tbody tr th {\n",
              "        vertical-align: top;\n",
              "    }\n",
              "\n",
              "    .dataframe thead th {\n",
              "        text-align: right;\n",
              "    }\n",
              "</style>\n",
              "<table border=\"1\" class=\"dataframe\">\n",
              "  <thead>\n",
              "    <tr style=\"text-align: right;\">\n",
              "      <th></th>\n",
              "      <th>ID</th>\n",
              "      <th>Cycle</th>\n",
              "      <th>SensorMeasure2</th>\n",
              "      <th>SensorMeasure3</th>\n",
              "      <th>SensorMeasure4</th>\n",
              "      <th>SensorMeasure7</th>\n",
              "      <th>SensorMeasure8</th>\n",
              "      <th>SensorMeasure11</th>\n",
              "      <th>SensorMeasure12</th>\n",
              "      <th>SensorMeasure13</th>\n",
              "      <th>SensorMeasure15</th>\n",
              "      <th>SensorMeasure17</th>\n",
              "      <th>SensorMeasure20</th>\n",
              "      <th>SensorMeasure21</th>\n",
              "      <th>RUL</th>\n",
              "    </tr>\n",
              "  </thead>\n",
              "  <tbody>\n",
              "    <tr>\n",
              "      <th>0</th>\n",
              "      <td>1</td>\n",
              "      <td>1</td>\n",
              "      <td>641.82</td>\n",
              "      <td>1589.70</td>\n",
              "      <td>1400.60</td>\n",
              "      <td>554.36</td>\n",
              "      <td>2388.06</td>\n",
              "      <td>47.47</td>\n",
              "      <td>521.66</td>\n",
              "      <td>2388.02</td>\n",
              "      <td>8.4195</td>\n",
              "      <td>392</td>\n",
              "      <td>39.06</td>\n",
              "      <td>23.4190</td>\n",
              "      <td>191</td>\n",
              "    </tr>\n",
              "    <tr>\n",
              "      <th>1</th>\n",
              "      <td>1</td>\n",
              "      <td>2</td>\n",
              "      <td>642.15</td>\n",
              "      <td>1591.82</td>\n",
              "      <td>1403.14</td>\n",
              "      <td>553.75</td>\n",
              "      <td>2388.04</td>\n",
              "      <td>47.49</td>\n",
              "      <td>522.28</td>\n",
              "      <td>2388.07</td>\n",
              "      <td>8.4318</td>\n",
              "      <td>392</td>\n",
              "      <td>39.00</td>\n",
              "      <td>23.4236</td>\n",
              "      <td>190</td>\n",
              "    </tr>\n",
              "    <tr>\n",
              "      <th>2</th>\n",
              "      <td>1</td>\n",
              "      <td>3</td>\n",
              "      <td>642.35</td>\n",
              "      <td>1587.99</td>\n",
              "      <td>1404.20</td>\n",
              "      <td>554.26</td>\n",
              "      <td>2388.08</td>\n",
              "      <td>47.27</td>\n",
              "      <td>522.42</td>\n",
              "      <td>2388.03</td>\n",
              "      <td>8.4178</td>\n",
              "      <td>390</td>\n",
              "      <td>38.95</td>\n",
              "      <td>23.3442</td>\n",
              "      <td>189</td>\n",
              "    </tr>\n",
              "    <tr>\n",
              "      <th>3</th>\n",
              "      <td>1</td>\n",
              "      <td>4</td>\n",
              "      <td>642.35</td>\n",
              "      <td>1582.79</td>\n",
              "      <td>1401.87</td>\n",
              "      <td>554.45</td>\n",
              "      <td>2388.11</td>\n",
              "      <td>47.13</td>\n",
              "      <td>522.86</td>\n",
              "      <td>2388.08</td>\n",
              "      <td>8.3682</td>\n",
              "      <td>392</td>\n",
              "      <td>38.88</td>\n",
              "      <td>23.3739</td>\n",
              "      <td>188</td>\n",
              "    </tr>\n",
              "    <tr>\n",
              "      <th>4</th>\n",
              "      <td>1</td>\n",
              "      <td>5</td>\n",
              "      <td>642.37</td>\n",
              "      <td>1582.85</td>\n",
              "      <td>1406.22</td>\n",
              "      <td>554.00</td>\n",
              "      <td>2388.06</td>\n",
              "      <td>47.28</td>\n",
              "      <td>522.19</td>\n",
              "      <td>2388.04</td>\n",
              "      <td>8.4294</td>\n",
              "      <td>393</td>\n",
              "      <td>38.90</td>\n",
              "      <td>23.4044</td>\n",
              "      <td>187</td>\n",
              "    </tr>\n",
              "  </tbody>\n",
              "</table>\n",
              "</div>\n",
              "      <button class=\"colab-df-convert\" onclick=\"convertToInteractive('df-48fcb82c-cfbb-4b68-a9ae-82db66a134b0')\"\n",
              "              title=\"Convert this dataframe to an interactive table.\"\n",
              "              style=\"display:none;\">\n",
              "        \n",
              "  <svg xmlns=\"http://www.w3.org/2000/svg\" height=\"24px\"viewBox=\"0 0 24 24\"\n",
              "       width=\"24px\">\n",
              "    <path d=\"M0 0h24v24H0V0z\" fill=\"none\"/>\n",
              "    <path d=\"M18.56 5.44l.94 2.06.94-2.06 2.06-.94-2.06-.94-.94-2.06-.94 2.06-2.06.94zm-11 1L8.5 8.5l.94-2.06 2.06-.94-2.06-.94L8.5 2.5l-.94 2.06-2.06.94zm10 10l.94 2.06.94-2.06 2.06-.94-2.06-.94-.94-2.06-.94 2.06-2.06.94z\"/><path d=\"M17.41 7.96l-1.37-1.37c-.4-.4-.92-.59-1.43-.59-.52 0-1.04.2-1.43.59L10.3 9.45l-7.72 7.72c-.78.78-.78 2.05 0 2.83L4 21.41c.39.39.9.59 1.41.59.51 0 1.02-.2 1.41-.59l7.78-7.78 2.81-2.81c.8-.78.8-2.07 0-2.86zM5.41 20L4 18.59l7.72-7.72 1.47 1.35L5.41 20z\"/>\n",
              "  </svg>\n",
              "      </button>\n",
              "      \n",
              "  <style>\n",
              "    .colab-df-container {\n",
              "      display:flex;\n",
              "      flex-wrap:wrap;\n",
              "      gap: 12px;\n",
              "    }\n",
              "\n",
              "    .colab-df-convert {\n",
              "      background-color: #E8F0FE;\n",
              "      border: none;\n",
              "      border-radius: 50%;\n",
              "      cursor: pointer;\n",
              "      display: none;\n",
              "      fill: #1967D2;\n",
              "      height: 32px;\n",
              "      padding: 0 0 0 0;\n",
              "      width: 32px;\n",
              "    }\n",
              "\n",
              "    .colab-df-convert:hover {\n",
              "      background-color: #E2EBFA;\n",
              "      box-shadow: 0px 1px 2px rgba(60, 64, 67, 0.3), 0px 1px 3px 1px rgba(60, 64, 67, 0.15);\n",
              "      fill: #174EA6;\n",
              "    }\n",
              "\n",
              "    [theme=dark] .colab-df-convert {\n",
              "      background-color: #3B4455;\n",
              "      fill: #D2E3FC;\n",
              "    }\n",
              "\n",
              "    [theme=dark] .colab-df-convert:hover {\n",
              "      background-color: #434B5C;\n",
              "      box-shadow: 0px 1px 3px 1px rgba(0, 0, 0, 0.15);\n",
              "      filter: drop-shadow(0px 1px 2px rgba(0, 0, 0, 0.3));\n",
              "      fill: #FFFFFF;\n",
              "    }\n",
              "  </style>\n",
              "\n",
              "      <script>\n",
              "        const buttonEl =\n",
              "          document.querySelector('#df-48fcb82c-cfbb-4b68-a9ae-82db66a134b0 button.colab-df-convert');\n",
              "        buttonEl.style.display =\n",
              "          google.colab.kernel.accessAllowed ? 'block' : 'none';\n",
              "\n",
              "        async function convertToInteractive(key) {\n",
              "          const element = document.querySelector('#df-48fcb82c-cfbb-4b68-a9ae-82db66a134b0');\n",
              "          const dataTable =\n",
              "            await google.colab.kernel.invokeFunction('convertToInteractive',\n",
              "                                                     [key], {});\n",
              "          if (!dataTable) return;\n",
              "\n",
              "          const docLinkHtml = 'Like what you see? Visit the ' +\n",
              "            '<a target=\"_blank\" href=https://colab.research.google.com/notebooks/data_table.ipynb>data table notebook</a>'\n",
              "            + ' to learn more about interactive tables.';\n",
              "          element.innerHTML = '';\n",
              "          dataTable['output_type'] = 'display_data';\n",
              "          await google.colab.output.renderOutput(dataTable, element);\n",
              "          const docLink = document.createElement('div');\n",
              "          docLink.innerHTML = docLinkHtml;\n",
              "          element.appendChild(docLink);\n",
              "        }\n",
              "      </script>\n",
              "    </div>\n",
              "  </div>\n",
              "  "
            ],
            "text/plain": [
              "   ID  Cycle  SensorMeasure2  SensorMeasure3  SensorMeasure4  SensorMeasure7  \\\n",
              "0   1      1          641.82         1589.70         1400.60          554.36   \n",
              "1   1      2          642.15         1591.82         1403.14          553.75   \n",
              "2   1      3          642.35         1587.99         1404.20          554.26   \n",
              "3   1      4          642.35         1582.79         1401.87          554.45   \n",
              "4   1      5          642.37         1582.85         1406.22          554.00   \n",
              "\n",
              "   SensorMeasure8  SensorMeasure11  SensorMeasure12  SensorMeasure13  \\\n",
              "0         2388.06            47.47           521.66          2388.02   \n",
              "1         2388.04            47.49           522.28          2388.07   \n",
              "2         2388.08            47.27           522.42          2388.03   \n",
              "3         2388.11            47.13           522.86          2388.08   \n",
              "4         2388.06            47.28           522.19          2388.04   \n",
              "\n",
              "   SensorMeasure15  SensorMeasure17  SensorMeasure20  SensorMeasure21  RUL  \n",
              "0           8.4195              392            39.06          23.4190  191  \n",
              "1           8.4318              392            39.00          23.4236  190  \n",
              "2           8.4178              390            38.95          23.3442  189  \n",
              "3           8.3682              392            38.88          23.3739  188  \n",
              "4           8.4294              393            38.90          23.4044  187  "
            ]
          },
          "execution_count": 3,
          "metadata": {},
          "output_type": "execute_result"
        }
      ]
    },
    {
      "cell_type": "code",
      "source": [
        "df['ID'].value_counts()"
      ],
      "metadata": {
        "colab": {
          "base_uri": "https://localhost:8080/"
        },
        "id": "U8avxBG7wEpI",
        "outputId": "ea854273-32aa-4ab5-a586-4e5a788aea20"
      },
      "execution_count": 4,
      "outputs": [
        {
          "data": {
            "text/plain": [
              "69    362\n",
              "92    341\n",
              "96    336\n",
              "67    313\n",
              "83    293\n",
              "     ... \n",
              "24    147\n",
              "57    137\n",
              "70    137\n",
              "91    135\n",
              "39    128\n",
              "Name: ID, Length: 100, dtype: int64"
            ]
          },
          "execution_count": 4,
          "metadata": {},
          "output_type": "execute_result"
        }
      ]
    },
    {
      "cell_type": "markdown",
      "source": [
        "## Prediction for engine ID 10, for Train(00)"
      ],
      "metadata": {
        "id": "OUca_-qlwYCM"
      }
    },
    {
      "cell_type": "code",
      "source": [
        "# select ID 10\n",
        "df=df.loc[df['ID']==10]"
      ],
      "metadata": {
        "id": "K7662rzdwNUK"
      },
      "execution_count": 5,
      "outputs": []
    },
    {
      "cell_type": "code",
      "source": [
        "df.head()"
      ],
      "metadata": {
        "colab": {
          "base_uri": "https://localhost:8080/",
          "height": 270
        },
        "id": "SGKJHzFNwyru",
        "outputId": "be32e278-06b4-49b9-ad43-d20a55bbc7a7"
      },
      "execution_count": 6,
      "outputs": [
        {
          "data": {
            "text/html": [
              "\n",
              "  <div id=\"df-df858ad8-de26-4368-808a-105de7407196\">\n",
              "    <div class=\"colab-df-container\">\n",
              "      <div>\n",
              "<style scoped>\n",
              "    .dataframe tbody tr th:only-of-type {\n",
              "        vertical-align: middle;\n",
              "    }\n",
              "\n",
              "    .dataframe tbody tr th {\n",
              "        vertical-align: top;\n",
              "    }\n",
              "\n",
              "    .dataframe thead th {\n",
              "        text-align: right;\n",
              "    }\n",
              "</style>\n",
              "<table border=\"1\" class=\"dataframe\">\n",
              "  <thead>\n",
              "    <tr style=\"text-align: right;\">\n",
              "      <th></th>\n",
              "      <th>ID</th>\n",
              "      <th>Cycle</th>\n",
              "      <th>SensorMeasure2</th>\n",
              "      <th>SensorMeasure3</th>\n",
              "      <th>SensorMeasure4</th>\n",
              "      <th>SensorMeasure7</th>\n",
              "      <th>SensorMeasure8</th>\n",
              "      <th>SensorMeasure11</th>\n",
              "      <th>SensorMeasure12</th>\n",
              "      <th>SensorMeasure13</th>\n",
              "      <th>SensorMeasure15</th>\n",
              "      <th>SensorMeasure17</th>\n",
              "      <th>SensorMeasure20</th>\n",
              "      <th>SensorMeasure21</th>\n",
              "      <th>RUL</th>\n",
              "    </tr>\n",
              "  </thead>\n",
              "  <tbody>\n",
              "    <tr>\n",
              "      <th>1914</th>\n",
              "      <td>10</td>\n",
              "      <td>1</td>\n",
              "      <td>641.92</td>\n",
              "      <td>1587.93</td>\n",
              "      <td>1392.20</td>\n",
              "      <td>554.37</td>\n",
              "      <td>2388.00</td>\n",
              "      <td>47.05</td>\n",
              "      <td>522.54</td>\n",
              "      <td>2388.01</td>\n",
              "      <td>8.4039</td>\n",
              "      <td>391</td>\n",
              "      <td>39.04</td>\n",
              "      <td>23.5309</td>\n",
              "      <td>221</td>\n",
              "    </tr>\n",
              "    <tr>\n",
              "      <th>1915</th>\n",
              "      <td>10</td>\n",
              "      <td>2</td>\n",
              "      <td>642.22</td>\n",
              "      <td>1586.81</td>\n",
              "      <td>1392.03</td>\n",
              "      <td>554.76</td>\n",
              "      <td>2388.06</td>\n",
              "      <td>47.20</td>\n",
              "      <td>523.04</td>\n",
              "      <td>2388.04</td>\n",
              "      <td>8.3868</td>\n",
              "      <td>390</td>\n",
              "      <td>39.05</td>\n",
              "      <td>23.3106</td>\n",
              "      <td>220</td>\n",
              "    </tr>\n",
              "    <tr>\n",
              "      <th>1916</th>\n",
              "      <td>10</td>\n",
              "      <td>3</td>\n",
              "      <td>642.16</td>\n",
              "      <td>1581.06</td>\n",
              "      <td>1395.51</td>\n",
              "      <td>554.42</td>\n",
              "      <td>2388.01</td>\n",
              "      <td>47.19</td>\n",
              "      <td>522.22</td>\n",
              "      <td>2387.97</td>\n",
              "      <td>8.4422</td>\n",
              "      <td>392</td>\n",
              "      <td>39.01</td>\n",
              "      <td>23.5053</td>\n",
              "      <td>219</td>\n",
              "    </tr>\n",
              "    <tr>\n",
              "      <th>1917</th>\n",
              "      <td>10</td>\n",
              "      <td>4</td>\n",
              "      <td>642.14</td>\n",
              "      <td>1590.17</td>\n",
              "      <td>1388.15</td>\n",
              "      <td>554.19</td>\n",
              "      <td>2387.99</td>\n",
              "      <td>47.11</td>\n",
              "      <td>522.51</td>\n",
              "      <td>2388.03</td>\n",
              "      <td>8.3928</td>\n",
              "      <td>391</td>\n",
              "      <td>38.83</td>\n",
              "      <td>23.3314</td>\n",
              "      <td>218</td>\n",
              "    </tr>\n",
              "    <tr>\n",
              "      <th>1918</th>\n",
              "      <td>10</td>\n",
              "      <td>5</td>\n",
              "      <td>642.13</td>\n",
              "      <td>1581.09</td>\n",
              "      <td>1396.37</td>\n",
              "      <td>554.26</td>\n",
              "      <td>2387.96</td>\n",
              "      <td>47.20</td>\n",
              "      <td>522.29</td>\n",
              "      <td>2388.01</td>\n",
              "      <td>8.3879</td>\n",
              "      <td>392</td>\n",
              "      <td>39.06</td>\n",
              "      <td>23.4651</td>\n",
              "      <td>217</td>\n",
              "    </tr>\n",
              "  </tbody>\n",
              "</table>\n",
              "</div>\n",
              "      <button class=\"colab-df-convert\" onclick=\"convertToInteractive('df-df858ad8-de26-4368-808a-105de7407196')\"\n",
              "              title=\"Convert this dataframe to an interactive table.\"\n",
              "              style=\"display:none;\">\n",
              "        \n",
              "  <svg xmlns=\"http://www.w3.org/2000/svg\" height=\"24px\"viewBox=\"0 0 24 24\"\n",
              "       width=\"24px\">\n",
              "    <path d=\"M0 0h24v24H0V0z\" fill=\"none\"/>\n",
              "    <path d=\"M18.56 5.44l.94 2.06.94-2.06 2.06-.94-2.06-.94-.94-2.06-.94 2.06-2.06.94zm-11 1L8.5 8.5l.94-2.06 2.06-.94-2.06-.94L8.5 2.5l-.94 2.06-2.06.94zm10 10l.94 2.06.94-2.06 2.06-.94-2.06-.94-.94-2.06-.94 2.06-2.06.94z\"/><path d=\"M17.41 7.96l-1.37-1.37c-.4-.4-.92-.59-1.43-.59-.52 0-1.04.2-1.43.59L10.3 9.45l-7.72 7.72c-.78.78-.78 2.05 0 2.83L4 21.41c.39.39.9.59 1.41.59.51 0 1.02-.2 1.41-.59l7.78-7.78 2.81-2.81c.8-.78.8-2.07 0-2.86zM5.41 20L4 18.59l7.72-7.72 1.47 1.35L5.41 20z\"/>\n",
              "  </svg>\n",
              "      </button>\n",
              "      \n",
              "  <style>\n",
              "    .colab-df-container {\n",
              "      display:flex;\n",
              "      flex-wrap:wrap;\n",
              "      gap: 12px;\n",
              "    }\n",
              "\n",
              "    .colab-df-convert {\n",
              "      background-color: #E8F0FE;\n",
              "      border: none;\n",
              "      border-radius: 50%;\n",
              "      cursor: pointer;\n",
              "      display: none;\n",
              "      fill: #1967D2;\n",
              "      height: 32px;\n",
              "      padding: 0 0 0 0;\n",
              "      width: 32px;\n",
              "    }\n",
              "\n",
              "    .colab-df-convert:hover {\n",
              "      background-color: #E2EBFA;\n",
              "      box-shadow: 0px 1px 2px rgba(60, 64, 67, 0.3), 0px 1px 3px 1px rgba(60, 64, 67, 0.15);\n",
              "      fill: #174EA6;\n",
              "    }\n",
              "\n",
              "    [theme=dark] .colab-df-convert {\n",
              "      background-color: #3B4455;\n",
              "      fill: #D2E3FC;\n",
              "    }\n",
              "\n",
              "    [theme=dark] .colab-df-convert:hover {\n",
              "      background-color: #434B5C;\n",
              "      box-shadow: 0px 1px 3px 1px rgba(0, 0, 0, 0.15);\n",
              "      filter: drop-shadow(0px 1px 2px rgba(0, 0, 0, 0.3));\n",
              "      fill: #FFFFFF;\n",
              "    }\n",
              "  </style>\n",
              "\n",
              "      <script>\n",
              "        const buttonEl =\n",
              "          document.querySelector('#df-df858ad8-de26-4368-808a-105de7407196 button.colab-df-convert');\n",
              "        buttonEl.style.display =\n",
              "          google.colab.kernel.accessAllowed ? 'block' : 'none';\n",
              "\n",
              "        async function convertToInteractive(key) {\n",
              "          const element = document.querySelector('#df-df858ad8-de26-4368-808a-105de7407196');\n",
              "          const dataTable =\n",
              "            await google.colab.kernel.invokeFunction('convertToInteractive',\n",
              "                                                     [key], {});\n",
              "          if (!dataTable) return;\n",
              "\n",
              "          const docLinkHtml = 'Like what you see? Visit the ' +\n",
              "            '<a target=\"_blank\" href=https://colab.research.google.com/notebooks/data_table.ipynb>data table notebook</a>'\n",
              "            + ' to learn more about interactive tables.';\n",
              "          element.innerHTML = '';\n",
              "          dataTable['output_type'] = 'display_data';\n",
              "          await google.colab.output.renderOutput(dataTable, element);\n",
              "          const docLink = document.createElement('div');\n",
              "          docLink.innerHTML = docLinkHtml;\n",
              "          element.appendChild(docLink);\n",
              "        }\n",
              "      </script>\n",
              "    </div>\n",
              "  </div>\n",
              "  "
            ],
            "text/plain": [
              "      ID  Cycle  SensorMeasure2  SensorMeasure3  SensorMeasure4  \\\n",
              "1914  10      1          641.92         1587.93         1392.20   \n",
              "1915  10      2          642.22         1586.81         1392.03   \n",
              "1916  10      3          642.16         1581.06         1395.51   \n",
              "1917  10      4          642.14         1590.17         1388.15   \n",
              "1918  10      5          642.13         1581.09         1396.37   \n",
              "\n",
              "      SensorMeasure7  SensorMeasure8  SensorMeasure11  SensorMeasure12  \\\n",
              "1914          554.37         2388.00            47.05           522.54   \n",
              "1915          554.76         2388.06            47.20           523.04   \n",
              "1916          554.42         2388.01            47.19           522.22   \n",
              "1917          554.19         2387.99            47.11           522.51   \n",
              "1918          554.26         2387.96            47.20           522.29   \n",
              "\n",
              "      SensorMeasure13  SensorMeasure15  SensorMeasure17  SensorMeasure20  \\\n",
              "1914          2388.01           8.4039              391            39.04   \n",
              "1915          2388.04           8.3868              390            39.05   \n",
              "1916          2387.97           8.4422              392            39.01   \n",
              "1917          2388.03           8.3928              391            38.83   \n",
              "1918          2388.01           8.3879              392            39.06   \n",
              "\n",
              "      SensorMeasure21  RUL  \n",
              "1914          23.5309  221  \n",
              "1915          23.3106  220  \n",
              "1916          23.5053  219  \n",
              "1917          23.3314  218  \n",
              "1918          23.4651  217  "
            ]
          },
          "execution_count": 6,
          "metadata": {},
          "output_type": "execute_result"
        }
      ]
    },
    {
      "cell_type": "code",
      "source": [
        "df.shape"
      ],
      "metadata": {
        "colab": {
          "base_uri": "https://localhost:8080/"
        },
        "id": "IUWbBvwTw0uX",
        "outputId": "50b659e3-a064-41b2-cea2-f9b98b72162a"
      },
      "execution_count": 7,
      "outputs": [
        {
          "data": {
            "text/plain": [
              "(222, 15)"
            ]
          },
          "execution_count": 7,
          "metadata": {},
          "output_type": "execute_result"
        }
      ]
    },
    {
      "cell_type": "code",
      "source": [
        "df.isna().sum()"
      ],
      "metadata": {
        "colab": {
          "base_uri": "https://localhost:8080/"
        },
        "id": "VwXOSMImw3XH",
        "outputId": "020d0986-3b4f-4da3-bf0f-b6bbd911cd6b"
      },
      "execution_count": 8,
      "outputs": [
        {
          "data": {
            "text/plain": [
              "ID                 0\n",
              "Cycle              0\n",
              "SensorMeasure2     0\n",
              "SensorMeasure3     0\n",
              "SensorMeasure4     0\n",
              "SensorMeasure7     0\n",
              "SensorMeasure8     0\n",
              "SensorMeasure11    0\n",
              "SensorMeasure12    0\n",
              "SensorMeasure13    0\n",
              "SensorMeasure15    0\n",
              "SensorMeasure17    0\n",
              "SensorMeasure20    0\n",
              "SensorMeasure21    0\n",
              "RUL                0\n",
              "dtype: int64"
            ]
          },
          "execution_count": 8,
          "metadata": {},
          "output_type": "execute_result"
        }
      ]
    },
    {
      "cell_type": "code",
      "source": [
        "df=df.drop(columns=['ID'])"
      ],
      "metadata": {
        "id": "iyvHGpKGw9Xd"
      },
      "execution_count": 9,
      "outputs": []
    },
    {
      "cell_type": "code",
      "source": [
        "df.head()"
      ],
      "metadata": {
        "colab": {
          "base_uri": "https://localhost:8080/",
          "height": 270
        },
        "id": "-0rr2r-LxFmP",
        "outputId": "51b271b5-a6b2-48cb-a8b2-f096c8394e79"
      },
      "execution_count": 10,
      "outputs": [
        {
          "data": {
            "text/html": [
              "\n",
              "  <div id=\"df-0dfd47ef-8021-4c54-ad78-04107aaba660\">\n",
              "    <div class=\"colab-df-container\">\n",
              "      <div>\n",
              "<style scoped>\n",
              "    .dataframe tbody tr th:only-of-type {\n",
              "        vertical-align: middle;\n",
              "    }\n",
              "\n",
              "    .dataframe tbody tr th {\n",
              "        vertical-align: top;\n",
              "    }\n",
              "\n",
              "    .dataframe thead th {\n",
              "        text-align: right;\n",
              "    }\n",
              "</style>\n",
              "<table border=\"1\" class=\"dataframe\">\n",
              "  <thead>\n",
              "    <tr style=\"text-align: right;\">\n",
              "      <th></th>\n",
              "      <th>Cycle</th>\n",
              "      <th>SensorMeasure2</th>\n",
              "      <th>SensorMeasure3</th>\n",
              "      <th>SensorMeasure4</th>\n",
              "      <th>SensorMeasure7</th>\n",
              "      <th>SensorMeasure8</th>\n",
              "      <th>SensorMeasure11</th>\n",
              "      <th>SensorMeasure12</th>\n",
              "      <th>SensorMeasure13</th>\n",
              "      <th>SensorMeasure15</th>\n",
              "      <th>SensorMeasure17</th>\n",
              "      <th>SensorMeasure20</th>\n",
              "      <th>SensorMeasure21</th>\n",
              "      <th>RUL</th>\n",
              "    </tr>\n",
              "  </thead>\n",
              "  <tbody>\n",
              "    <tr>\n",
              "      <th>1914</th>\n",
              "      <td>1</td>\n",
              "      <td>641.92</td>\n",
              "      <td>1587.93</td>\n",
              "      <td>1392.20</td>\n",
              "      <td>554.37</td>\n",
              "      <td>2388.00</td>\n",
              "      <td>47.05</td>\n",
              "      <td>522.54</td>\n",
              "      <td>2388.01</td>\n",
              "      <td>8.4039</td>\n",
              "      <td>391</td>\n",
              "      <td>39.04</td>\n",
              "      <td>23.5309</td>\n",
              "      <td>221</td>\n",
              "    </tr>\n",
              "    <tr>\n",
              "      <th>1915</th>\n",
              "      <td>2</td>\n",
              "      <td>642.22</td>\n",
              "      <td>1586.81</td>\n",
              "      <td>1392.03</td>\n",
              "      <td>554.76</td>\n",
              "      <td>2388.06</td>\n",
              "      <td>47.20</td>\n",
              "      <td>523.04</td>\n",
              "      <td>2388.04</td>\n",
              "      <td>8.3868</td>\n",
              "      <td>390</td>\n",
              "      <td>39.05</td>\n",
              "      <td>23.3106</td>\n",
              "      <td>220</td>\n",
              "    </tr>\n",
              "    <tr>\n",
              "      <th>1916</th>\n",
              "      <td>3</td>\n",
              "      <td>642.16</td>\n",
              "      <td>1581.06</td>\n",
              "      <td>1395.51</td>\n",
              "      <td>554.42</td>\n",
              "      <td>2388.01</td>\n",
              "      <td>47.19</td>\n",
              "      <td>522.22</td>\n",
              "      <td>2387.97</td>\n",
              "      <td>8.4422</td>\n",
              "      <td>392</td>\n",
              "      <td>39.01</td>\n",
              "      <td>23.5053</td>\n",
              "      <td>219</td>\n",
              "    </tr>\n",
              "    <tr>\n",
              "      <th>1917</th>\n",
              "      <td>4</td>\n",
              "      <td>642.14</td>\n",
              "      <td>1590.17</td>\n",
              "      <td>1388.15</td>\n",
              "      <td>554.19</td>\n",
              "      <td>2387.99</td>\n",
              "      <td>47.11</td>\n",
              "      <td>522.51</td>\n",
              "      <td>2388.03</td>\n",
              "      <td>8.3928</td>\n",
              "      <td>391</td>\n",
              "      <td>38.83</td>\n",
              "      <td>23.3314</td>\n",
              "      <td>218</td>\n",
              "    </tr>\n",
              "    <tr>\n",
              "      <th>1918</th>\n",
              "      <td>5</td>\n",
              "      <td>642.13</td>\n",
              "      <td>1581.09</td>\n",
              "      <td>1396.37</td>\n",
              "      <td>554.26</td>\n",
              "      <td>2387.96</td>\n",
              "      <td>47.20</td>\n",
              "      <td>522.29</td>\n",
              "      <td>2388.01</td>\n",
              "      <td>8.3879</td>\n",
              "      <td>392</td>\n",
              "      <td>39.06</td>\n",
              "      <td>23.4651</td>\n",
              "      <td>217</td>\n",
              "    </tr>\n",
              "  </tbody>\n",
              "</table>\n",
              "</div>\n",
              "      <button class=\"colab-df-convert\" onclick=\"convertToInteractive('df-0dfd47ef-8021-4c54-ad78-04107aaba660')\"\n",
              "              title=\"Convert this dataframe to an interactive table.\"\n",
              "              style=\"display:none;\">\n",
              "        \n",
              "  <svg xmlns=\"http://www.w3.org/2000/svg\" height=\"24px\"viewBox=\"0 0 24 24\"\n",
              "       width=\"24px\">\n",
              "    <path d=\"M0 0h24v24H0V0z\" fill=\"none\"/>\n",
              "    <path d=\"M18.56 5.44l.94 2.06.94-2.06 2.06-.94-2.06-.94-.94-2.06-.94 2.06-2.06.94zm-11 1L8.5 8.5l.94-2.06 2.06-.94-2.06-.94L8.5 2.5l-.94 2.06-2.06.94zm10 10l.94 2.06.94-2.06 2.06-.94-2.06-.94-.94-2.06-.94 2.06-2.06.94z\"/><path d=\"M17.41 7.96l-1.37-1.37c-.4-.4-.92-.59-1.43-.59-.52 0-1.04.2-1.43.59L10.3 9.45l-7.72 7.72c-.78.78-.78 2.05 0 2.83L4 21.41c.39.39.9.59 1.41.59.51 0 1.02-.2 1.41-.59l7.78-7.78 2.81-2.81c.8-.78.8-2.07 0-2.86zM5.41 20L4 18.59l7.72-7.72 1.47 1.35L5.41 20z\"/>\n",
              "  </svg>\n",
              "      </button>\n",
              "      \n",
              "  <style>\n",
              "    .colab-df-container {\n",
              "      display:flex;\n",
              "      flex-wrap:wrap;\n",
              "      gap: 12px;\n",
              "    }\n",
              "\n",
              "    .colab-df-convert {\n",
              "      background-color: #E8F0FE;\n",
              "      border: none;\n",
              "      border-radius: 50%;\n",
              "      cursor: pointer;\n",
              "      display: none;\n",
              "      fill: #1967D2;\n",
              "      height: 32px;\n",
              "      padding: 0 0 0 0;\n",
              "      width: 32px;\n",
              "    }\n",
              "\n",
              "    .colab-df-convert:hover {\n",
              "      background-color: #E2EBFA;\n",
              "      box-shadow: 0px 1px 2px rgba(60, 64, 67, 0.3), 0px 1px 3px 1px rgba(60, 64, 67, 0.15);\n",
              "      fill: #174EA6;\n",
              "    }\n",
              "\n",
              "    [theme=dark] .colab-df-convert {\n",
              "      background-color: #3B4455;\n",
              "      fill: #D2E3FC;\n",
              "    }\n",
              "\n",
              "    [theme=dark] .colab-df-convert:hover {\n",
              "      background-color: #434B5C;\n",
              "      box-shadow: 0px 1px 3px 1px rgba(0, 0, 0, 0.15);\n",
              "      filter: drop-shadow(0px 1px 2px rgba(0, 0, 0, 0.3));\n",
              "      fill: #FFFFFF;\n",
              "    }\n",
              "  </style>\n",
              "\n",
              "      <script>\n",
              "        const buttonEl =\n",
              "          document.querySelector('#df-0dfd47ef-8021-4c54-ad78-04107aaba660 button.colab-df-convert');\n",
              "        buttonEl.style.display =\n",
              "          google.colab.kernel.accessAllowed ? 'block' : 'none';\n",
              "\n",
              "        async function convertToInteractive(key) {\n",
              "          const element = document.querySelector('#df-0dfd47ef-8021-4c54-ad78-04107aaba660');\n",
              "          const dataTable =\n",
              "            await google.colab.kernel.invokeFunction('convertToInteractive',\n",
              "                                                     [key], {});\n",
              "          if (!dataTable) return;\n",
              "\n",
              "          const docLinkHtml = 'Like what you see? Visit the ' +\n",
              "            '<a target=\"_blank\" href=https://colab.research.google.com/notebooks/data_table.ipynb>data table notebook</a>'\n",
              "            + ' to learn more about interactive tables.';\n",
              "          element.innerHTML = '';\n",
              "          dataTable['output_type'] = 'display_data';\n",
              "          await google.colab.output.renderOutput(dataTable, element);\n",
              "          const docLink = document.createElement('div');\n",
              "          docLink.innerHTML = docLinkHtml;\n",
              "          element.appendChild(docLink);\n",
              "        }\n",
              "      </script>\n",
              "    </div>\n",
              "  </div>\n",
              "  "
            ],
            "text/plain": [
              "      Cycle  SensorMeasure2  SensorMeasure3  SensorMeasure4  SensorMeasure7  \\\n",
              "1914      1          641.92         1587.93         1392.20          554.37   \n",
              "1915      2          642.22         1586.81         1392.03          554.76   \n",
              "1916      3          642.16         1581.06         1395.51          554.42   \n",
              "1917      4          642.14         1590.17         1388.15          554.19   \n",
              "1918      5          642.13         1581.09         1396.37          554.26   \n",
              "\n",
              "      SensorMeasure8  SensorMeasure11  SensorMeasure12  SensorMeasure13  \\\n",
              "1914         2388.00            47.05           522.54          2388.01   \n",
              "1915         2388.06            47.20           523.04          2388.04   \n",
              "1916         2388.01            47.19           522.22          2387.97   \n",
              "1917         2387.99            47.11           522.51          2388.03   \n",
              "1918         2387.96            47.20           522.29          2388.01   \n",
              "\n",
              "      SensorMeasure15  SensorMeasure17  SensorMeasure20  SensorMeasure21  RUL  \n",
              "1914           8.4039              391            39.04          23.5309  221  \n",
              "1915           8.3868              390            39.05          23.3106  220  \n",
              "1916           8.4422              392            39.01          23.5053  219  \n",
              "1917           8.3928              391            38.83          23.3314  218  \n",
              "1918           8.3879              392            39.06          23.4651  217  "
            ]
          },
          "execution_count": 10,
          "metadata": {},
          "output_type": "execute_result"
        }
      ]
    },
    {
      "cell_type": "markdown",
      "source": [
        "## Some Visualz"
      ],
      "metadata": {
        "id": "gGX4Vp6nxIi4"
      }
    },
    {
      "cell_type": "code",
      "source": [
        "plt.scatter(df['Cycle'],df['RUL'])\n",
        "plt.xlabel('Num of Cycle')\n",
        "plt.ylabel('RUL')\n",
        "plt.show()"
      ],
      "metadata": {
        "colab": {
          "base_uri": "https://localhost:8080/",
          "height": 449
        },
        "id": "j2PTvKJUxG5L",
        "outputId": "ca79cbf0-909c-4db5-8fb5-016e5b52e9b3"
      },
      "execution_count": 11,
      "outputs": [
        {
          "data": {
            "image/png": "[encoded data removed]",
            "text/plain": [
              "<Figure size 640x480 with 1 Axes>"
            ]
          },
          "metadata": {},
          "output_type": "display_data"
        }
      ]
    },
    {
      "cell_type": "markdown",
      "source": [
        "** Here we can observe that With each cycle RUL of an engine is descreasing"
      ],
      "metadata": {
        "id": "vN4wovsfxiYZ"
      }
    },
    {
      "cell_type": "code",
      "source": [
        "df.columns"
      ],
      "metadata": {
        "colab": {
          "base_uri": "https://localhost:8080/"
        },
        "id": "OlmmcWyVxxWZ",
        "outputId": "63c4853d-4252-44a3-f0c5-aaf75b180b09"
      },
      "execution_count": 12,
      "outputs": [
        {
          "data": {
            "text/plain": [
              "Index(['Cycle', 'SensorMeasure2', 'SensorMeasure3', 'SensorMeasure4',\n",
              "       'SensorMeasure7', 'SensorMeasure8', 'SensorMeasure11',\n",
              "       'SensorMeasure12', 'SensorMeasure13', 'SensorMeasure15',\n",
              "       'SensorMeasure17', 'SensorMeasure20', 'SensorMeasure21', 'RUL'],\n",
              "      dtype='object')"
            ]
          },
          "execution_count": 12,
          "metadata": {},
          "output_type": "execute_result"
        }
      ]
    },
    {
      "cell_type": "code",
      "source": [
        "plt.scatter(df['SensorMeasure2'],df['RUL'])\n",
        "plt.xlabel('SensorMeasure2')\n",
        "plt.ylabel('RUL')\n",
        "plt.show()"
      ],
      "metadata": {
        "colab": {
          "base_uri": "https://localhost:8080/",
          "height": 449
        },
        "id": "-oiMUeaxxT30",
        "outputId": "2714ac7f-62b4-4070-ff56-8bb31f927b1c"
      },
      "execution_count": 13,
      "outputs": [
        {
          "data": {
            "image/png": "[encoded data removed]",
            "text/plain": [
              "<Figure size 640x480 with 1 Axes>"
            ]
          },
          "metadata": {},
          "output_type": "display_data"
        }
      ]
    },
    {
      "cell_type": "markdown",
      "source": [
        "## Sensor measure also has similar results"
      ],
      "metadata": {
        "id": "6dpisCHZx9j9"
      }
    },
    {
      "cell_type": "code",
      "source": [
        "import matplotlib.pyplot as plt\n",
        "\n",
        "\n",
        "# Compute the correlation coefficients\n",
        "correlations = df.corr()['RUL']\n",
        "\n",
        "# Create a bar plot of the correlations\n",
        "correlations.plot(kind='bar')\n",
        "plt.title('Correlations with {}'.format('RUL'))\n",
        "plt.xlabel('Features')\n",
        "plt.ylabel('Correlation coefficient')\n",
        "plt.show()\n"
      ],
      "metadata": {
        "colab": {
          "base_uri": "https://localhost:8080/",
          "height": 582
        },
        "id": "CEkFu8-mx3CM",
        "outputId": "171851cd-d15d-4841-a1ab-60460fd49689"
      },
      "execution_count": 14,
      "outputs": [
        {
          "data": {
            "image/png": "[encoded data removed]",
            "text/plain": [
              "<Figure size 640x480 with 1 Axes>"
            ]
          },
          "metadata": {},
          "output_type": "display_data"
        }
      ]
    },
    {
      "cell_type": "markdown",
      "source": [
        "** Most of the features are highly negatively correlated, few are highly positive, "
      ],
      "metadata": {
        "id": "mlNGafUWyukM"
      }
    },
    {
      "cell_type": "code",
      "source": [
        "df.corr()"
      ],
      "metadata": {
        "colab": {
          "base_uri": "https://localhost:8080/",
          "height": 552
        },
        "id": "tgVOPnSeyEad",
        "outputId": "08d52c77-d2fb-4515-d6d4-2279660837ad"
      },
      "execution_count": 15,
      "outputs": [
        {
          "data": {
            "text/html": [
              "\n",
              "  <div id=\"df-4ed18e98-874b-4985-9095-a89c518e446e\">\n",
              "    <div class=\"colab-df-container\">\n",
              "      <div>\n",
              "<style scoped>\n",
              "    .dataframe tbody tr th:only-of-type {\n",
              "        vertical-align: middle;\n",
              "    }\n",
              "\n",
              "    .dataframe tbody tr th {\n",
              "        vertical-align: top;\n",
              "    }\n",
              "\n",
              "    .dataframe thead th {\n",
              "        text-align: right;\n",
              "    }\n",
              "</style>\n",
              "<table border=\"1\" class=\"dataframe\">\n",
              "  <thead>\n",
              "    <tr style=\"text-align: right;\">\n",
              "      <th></th>\n",
              "      <th>Cycle</th>\n",
              "      <th>SensorMeasure2</th>\n",
              "      <th>SensorMeasure3</th>\n",
              "      <th>SensorMeasure4</th>\n",
              "      <th>SensorMeasure7</th>\n",
              "      <th>SensorMeasure8</th>\n",
              "      <th>SensorMeasure11</th>\n",
              "      <th>SensorMeasure12</th>\n",
              "      <th>SensorMeasure13</th>\n",
              "      <th>SensorMeasure15</th>\n",
              "      <th>SensorMeasure17</th>\n",
              "      <th>SensorMeasure20</th>\n",
              "      <th>SensorMeasure21</th>\n",
              "      <th>RUL</th>\n",
              "    </tr>\n",
              "  </thead>\n",
              "  <tbody>\n",
              "    <tr>\n",
              "      <th>Cycle</th>\n",
              "      <td>1.000000</td>\n",
              "      <td>0.757438</td>\n",
              "      <td>0.637896</td>\n",
              "      <td>0.834873</td>\n",
              "      <td>-0.821509</td>\n",
              "      <td>0.772269</td>\n",
              "      <td>0.870092</td>\n",
              "      <td>-0.854521</td>\n",
              "      <td>0.792360</td>\n",
              "      <td>0.758773</td>\n",
              "      <td>0.736812</td>\n",
              "      <td>-0.749719</td>\n",
              "      <td>-0.783346</td>\n",
              "      <td>-1.000000</td>\n",
              "    </tr>\n",
              "    <tr>\n",
              "      <th>SensorMeasure2</th>\n",
              "      <td>0.757438</td>\n",
              "      <td>1.000000</td>\n",
              "      <td>0.627494</td>\n",
              "      <td>0.765553</td>\n",
              "      <td>-0.763405</td>\n",
              "      <td>0.711491</td>\n",
              "      <td>0.803543</td>\n",
              "      <td>-0.791846</td>\n",
              "      <td>0.710653</td>\n",
              "      <td>0.736103</td>\n",
              "      <td>0.663840</td>\n",
              "      <td>-0.728517</td>\n",
              "      <td>-0.696017</td>\n",
              "      <td>-0.757438</td>\n",
              "    </tr>\n",
              "    <tr>\n",
              "      <th>SensorMeasure3</th>\n",
              "      <td>0.637896</td>\n",
              "      <td>0.627494</td>\n",
              "      <td>1.000000</td>\n",
              "      <td>0.668007</td>\n",
              "      <td>-0.628358</td>\n",
              "      <td>0.637839</td>\n",
              "      <td>0.686137</td>\n",
              "      <td>-0.667203</td>\n",
              "      <td>0.638600</td>\n",
              "      <td>0.668238</td>\n",
              "      <td>0.616880</td>\n",
              "      <td>-0.646284</td>\n",
              "      <td>-0.646993</td>\n",
              "      <td>-0.637896</td>\n",
              "    </tr>\n",
              "    <tr>\n",
              "      <th>SensorMeasure4</th>\n",
              "      <td>0.834873</td>\n",
              "      <td>0.765553</td>\n",
              "      <td>0.668007</td>\n",
              "      <td>1.000000</td>\n",
              "      <td>-0.781753</td>\n",
              "      <td>0.783570</td>\n",
              "      <td>0.841183</td>\n",
              "      <td>-0.864855</td>\n",
              "      <td>0.751364</td>\n",
              "      <td>0.794717</td>\n",
              "      <td>0.740354</td>\n",
              "      <td>-0.750084</td>\n",
              "      <td>-0.736035</td>\n",
              "      <td>-0.834873</td>\n",
              "    </tr>\n",
              "    <tr>\n",
              "      <th>SensorMeasure7</th>\n",
              "      <td>-0.821509</td>\n",
              "      <td>-0.763405</td>\n",
              "      <td>-0.628358</td>\n",
              "      <td>-0.781753</td>\n",
              "      <td>1.000000</td>\n",
              "      <td>-0.747126</td>\n",
              "      <td>-0.822974</td>\n",
              "      <td>0.827751</td>\n",
              "      <td>-0.740887</td>\n",
              "      <td>-0.730214</td>\n",
              "      <td>-0.707453</td>\n",
              "      <td>0.771805</td>\n",
              "      <td>0.738429</td>\n",
              "      <td>0.821509</td>\n",
              "    </tr>\n",
              "    <tr>\n",
              "      <th>SensorMeasure8</th>\n",
              "      <td>0.772269</td>\n",
              "      <td>0.711491</td>\n",
              "      <td>0.637839</td>\n",
              "      <td>0.783570</td>\n",
              "      <td>-0.747126</td>\n",
              "      <td>1.000000</td>\n",
              "      <td>0.793985</td>\n",
              "      <td>-0.787644</td>\n",
              "      <td>0.707693</td>\n",
              "      <td>0.744764</td>\n",
              "      <td>0.657102</td>\n",
              "      <td>-0.728973</td>\n",
              "      <td>-0.690911</td>\n",
              "      <td>-0.772269</td>\n",
              "    </tr>\n",
              "    <tr>\n",
              "      <th>SensorMeasure11</th>\n",
              "      <td>0.870092</td>\n",
              "      <td>0.803543</td>\n",
              "      <td>0.686137</td>\n",
              "      <td>0.841183</td>\n",
              "      <td>-0.822974</td>\n",
              "      <td>0.793985</td>\n",
              "      <td>1.000000</td>\n",
              "      <td>-0.863712</td>\n",
              "      <td>0.804676</td>\n",
              "      <td>0.784369</td>\n",
              "      <td>0.744918</td>\n",
              "      <td>-0.792117</td>\n",
              "      <td>-0.766274</td>\n",
              "      <td>-0.870092</td>\n",
              "    </tr>\n",
              "    <tr>\n",
              "      <th>SensorMeasure12</th>\n",
              "      <td>-0.854521</td>\n",
              "      <td>-0.791846</td>\n",
              "      <td>-0.667203</td>\n",
              "      <td>-0.864855</td>\n",
              "      <td>0.827751</td>\n",
              "      <td>-0.787644</td>\n",
              "      <td>-0.863712</td>\n",
              "      <td>1.000000</td>\n",
              "      <td>-0.776495</td>\n",
              "      <td>-0.783730</td>\n",
              "      <td>-0.761335</td>\n",
              "      <td>0.788879</td>\n",
              "      <td>0.759066</td>\n",
              "      <td>0.854521</td>\n",
              "    </tr>\n",
              "    <tr>\n",
              "      <th>SensorMeasure13</th>\n",
              "      <td>0.792360</td>\n",
              "      <td>0.710653</td>\n",
              "      <td>0.638600</td>\n",
              "      <td>0.751364</td>\n",
              "      <td>-0.740887</td>\n",
              "      <td>0.707693</td>\n",
              "      <td>0.804676</td>\n",
              "      <td>-0.776495</td>\n",
              "      <td>1.000000</td>\n",
              "      <td>0.758592</td>\n",
              "      <td>0.674062</td>\n",
              "      <td>-0.672773</td>\n",
              "      <td>-0.712276</td>\n",
              "      <td>-0.792360</td>\n",
              "    </tr>\n",
              "    <tr>\n",
              "      <th>SensorMeasure15</th>\n",
              "      <td>0.758773</td>\n",
              "      <td>0.736103</td>\n",
              "      <td>0.668238</td>\n",
              "      <td>0.794717</td>\n",
              "      <td>-0.730214</td>\n",
              "      <td>0.744764</td>\n",
              "      <td>0.784369</td>\n",
              "      <td>-0.783730</td>\n",
              "      <td>0.758592</td>\n",
              "      <td>1.000000</td>\n",
              "      <td>0.684160</td>\n",
              "      <td>-0.711454</td>\n",
              "      <td>-0.704096</td>\n",
              "      <td>-0.758773</td>\n",
              "    </tr>\n",
              "    <tr>\n",
              "      <th>SensorMeasure17</th>\n",
              "      <td>0.736812</td>\n",
              "      <td>0.663840</td>\n",
              "      <td>0.616880</td>\n",
              "      <td>0.740354</td>\n",
              "      <td>-0.707453</td>\n",
              "      <td>0.657102</td>\n",
              "      <td>0.744918</td>\n",
              "      <td>-0.761335</td>\n",
              "      <td>0.674062</td>\n",
              "      <td>0.684160</td>\n",
              "      <td>1.000000</td>\n",
              "      <td>-0.700751</td>\n",
              "      <td>-0.679314</td>\n",
              "      <td>-0.736812</td>\n",
              "    </tr>\n",
              "    <tr>\n",
              "      <th>SensorMeasure20</th>\n",
              "      <td>-0.749719</td>\n",
              "      <td>-0.728517</td>\n",
              "      <td>-0.646284</td>\n",
              "      <td>-0.750084</td>\n",
              "      <td>0.771805</td>\n",
              "      <td>-0.728973</td>\n",
              "      <td>-0.792117</td>\n",
              "      <td>0.788879</td>\n",
              "      <td>-0.672773</td>\n",
              "      <td>-0.711454</td>\n",
              "      <td>-0.700751</td>\n",
              "      <td>1.000000</td>\n",
              "      <td>0.716750</td>\n",
              "      <td>0.749719</td>\n",
              "    </tr>\n",
              "    <tr>\n",
              "      <th>SensorMeasure21</th>\n",
              "      <td>-0.783346</td>\n",
              "      <td>-0.696017</td>\n",
              "      <td>-0.646993</td>\n",
              "      <td>-0.736035</td>\n",
              "      <td>0.738429</td>\n",
              "      <td>-0.690911</td>\n",
              "      <td>-0.766274</td>\n",
              "      <td>0.759066</td>\n",
              "      <td>-0.712276</td>\n",
              "      <td>-0.704096</td>\n",
              "      <td>-0.679314</td>\n",
              "      <td>0.716750</td>\n",
              "      <td>1.000000</td>\n",
              "      <td>0.783346</td>\n",
              "    </tr>\n",
              "    <tr>\n",
              "      <th>RUL</th>\n",
              "      <td>-1.000000</td>\n",
              "      <td>-0.757438</td>\n",
              "      <td>-0.637896</td>\n",
              "      <td>-0.834873</td>\n",
              "      <td>0.821509</td>\n",
              "      <td>-0.772269</td>\n",
              "      <td>-0.870092</td>\n",
              "      <td>0.854521</td>\n",
              "      <td>-0.792360</td>\n",
              "      <td>-0.758773</td>\n",
              "      <td>-0.736812</td>\n",
              "      <td>0.749719</td>\n",
              "      <td>0.783346</td>\n",
              "      <td>1.000000</td>\n",
              "    </tr>\n",
              "  </tbody>\n",
              "</table>\n",
              "</div>\n",
              "      <button class=\"colab-df-convert\" onclick=\"convertToInteractive('df-4ed18e98-874b-4985-9095-a89c518e446e')\"\n",
              "              title=\"Convert this dataframe to an interactive table.\"\n",
              "              style=\"display:none;\">\n",
              "        \n",
              "  <svg xmlns=\"http://www.w3.org/2000/svg\" height=\"24px\"viewBox=\"0 0 24 24\"\n",
              "       width=\"24px\">\n",
              "    <path d=\"M0 0h24v24H0V0z\" fill=\"none\"/>\n",
              "    <path d=\"M18.56 5.44l.94 2.06.94-2.06 2.06-.94-2.06-.94-.94-2.06-.94 2.06-2.06.94zm-11 1L8.5 8.5l.94-2.06 2.06-.94-2.06-.94L8.5 2.5l-.94 2.06-2.06.94zm10 10l.94 2.06.94-2.06 2.06-.94-2.06-.94-.94-2.06-.94 2.06-2.06.94z\"/><path d=\"M17.41 7.96l-1.37-1.37c-.4-.4-.92-.59-1.43-.59-.52 0-1.04.2-1.43.59L10.3 9.45l-7.72 7.72c-.78.78-.78 2.05 0 2.83L4 21.41c.39.39.9.59 1.41.59.51 0 1.02-.2 1.41-.59l7.78-7.78 2.81-2.81c.8-.78.8-2.07 0-2.86zM5.41 20L4 18.59l7.72-7.72 1.47 1.35L5.41 20z\"/>\n",
              "  </svg>\n",
              "      </button>\n",
              "      \n",
              "  <style>\n",
              "    .colab-df-container {\n",
              "      display:flex;\n",
              "      flex-wrap:wrap;\n",
              "      gap: 12px;\n",
              "    }\n",
              "\n",
              "    .colab-df-convert {\n",
              "      background-color: #E8F0FE;\n",
              "      border: none;\n",
              "      border-radius: 50%;\n",
              "      cursor: pointer;\n",
              "      display: none;\n",
              "      fill: #1967D2;\n",
              "      height: 32px;\n",
              "      padding: 0 0 0 0;\n",
              "      width: 32px;\n",
              "    }\n",
              "\n",
              "    .colab-df-convert:hover {\n",
              "      background-color: #E2EBFA;\n",
              "      box-shadow: 0px 1px 2px rgba(60, 64, 67, 0.3), 0px 1px 3px 1px rgba(60, 64, 67, 0.15);\n",
              "      fill: #174EA6;\n",
              "    }\n",
              "\n",
              "    [theme=dark] .colab-df-convert {\n",
              "      background-color: #3B4455;\n",
              "      fill: #D2E3FC;\n",
              "    }\n",
              "\n",
              "    [theme=dark] .colab-df-convert:hover {\n",
              "      background-color: #434B5C;\n",
              "      box-shadow: 0px 1px 3px 1px rgba(0, 0, 0, 0.15);\n",
              "      filter: drop-shadow(0px 1px 2px rgba(0, 0, 0, 0.3));\n",
              "      fill: #FFFFFF;\n",
              "    }\n",
              "  </style>\n",
              "\n",
              "      <script>\n",
              "        const buttonEl =\n",
              "          document.querySelector('#df-4ed18e98-874b-4985-9095-a89c518e446e button.colab-df-convert');\n",
              "        buttonEl.style.display =\n",
              "          google.colab.kernel.accessAllowed ? 'block' : 'none';\n",
              "\n",
              "        async function convertToInteractive(key) {\n",
              "          const element = document.querySelector('#df-4ed18e98-874b-4985-9095-a89c518e446e');\n",
              "          const dataTable =\n",
              "            await google.colab.kernel.invokeFunction('convertToInteractive',\n",
              "                                                     [key], {});\n",
              "          if (!dataTable) return;\n",
              "\n",
              "          const docLinkHtml = 'Like what you see? Visit the ' +\n",
              "            '<a target=\"_blank\" href=https://colab.research.google.com/notebooks/data_table.ipynb>data table notebook</a>'\n",
              "            + ' to learn more about interactive tables.';\n",
              "          element.innerHTML = '';\n",
              "          dataTable['output_type'] = 'display_data';\n",
              "          await google.colab.output.renderOutput(dataTable, element);\n",
              "          const docLink = document.createElement('div');\n",
              "          docLink.innerHTML = docLinkHtml;\n",
              "          element.appendChild(docLink);\n",
              "        }\n",
              "      </script>\n",
              "    </div>\n",
              "  </div>\n",
              "  "
            ],
            "text/plain": [
              "                    Cycle  SensorMeasure2  SensorMeasure3  SensorMeasure4  \\\n",
              "Cycle            1.000000        0.757438        0.637896        0.834873   \n",
              "SensorMeasure2   0.757438        1.000000        0.627494        0.765553   \n",
              "SensorMeasure3   0.637896        0.627494        1.000000        0.668007   \n",
              "SensorMeasure4   0.834873        0.765553        0.668007        1.000000   \n",
              "SensorMeasure7  -0.821509       -0.763405       -0.628358       -0.781753   \n",
              "SensorMeasure8   0.772269        0.711491        0.637839        0.783570   \n",
              "SensorMeasure11  0.870092        0.803543        0.686137        0.841183   \n",
              "SensorMeasure12 -0.854521       -0.791846       -0.667203       -0.864855   \n",
              "SensorMeasure13  0.792360        0.710653        0.638600        0.751364   \n",
              "SensorMeasure15  0.758773        0.736103        0.668238        0.794717   \n",
              "SensorMeasure17  0.736812        0.663840        0.616880        0.740354   \n",
              "SensorMeasure20 -0.749719       -0.728517       -0.646284       -0.750084   \n",
              "SensorMeasure21 -0.783346       -0.696017       -0.646993       -0.736035   \n",
              "RUL             -1.000000       -0.757438       -0.637896       -0.834873   \n",
              "\n",
              "                 SensorMeasure7  SensorMeasure8  SensorMeasure11  \\\n",
              "Cycle                 -0.821509        0.772269         0.870092   \n",
              "SensorMeasure2        -0.763405        0.711491         0.803543   \n",
              "SensorMeasure3        -0.628358        0.637839         0.686137   \n",
              "SensorMeasure4        -0.781753        0.783570         0.841183   \n",
              "SensorMeasure7         1.000000       -0.747126        -0.822974   \n",
              "SensorMeasure8        -0.747126        1.000000         0.793985   \n",
              "SensorMeasure11       -0.822974        0.793985         1.000000   \n",
              "SensorMeasure12        0.827751       -0.787644        -0.863712   \n",
              "SensorMeasure13       -0.740887        0.707693         0.804676   \n",
              "SensorMeasure15       -0.730214        0.744764         0.784369   \n",
              "SensorMeasure17       -0.707453        0.657102         0.744918   \n",
              "SensorMeasure20        0.771805       -0.728973        -0.792117   \n",
              "SensorMeasure21        0.738429       -0.690911        -0.766274   \n",
              "RUL                    0.821509       -0.772269        -0.870092   \n",
              "\n",
              "                 SensorMeasure12  SensorMeasure13  SensorMeasure15  \\\n",
              "Cycle                  -0.854521         0.792360         0.758773   \n",
              "SensorMeasure2         -0.791846         0.710653         0.736103   \n",
              "SensorMeasure3         -0.667203         0.638600         0.668238   \n",
              "SensorMeasure4         -0.864855         0.751364         0.794717   \n",
              "SensorMeasure7          0.827751        -0.740887        -0.730214   \n",
              "SensorMeasure8         -0.787644         0.707693         0.744764   \n",
              "SensorMeasure11        -0.863712         0.804676         0.784369   \n",
              "SensorMeasure12         1.000000        -0.776495        -0.783730   \n",
              "SensorMeasure13        -0.776495         1.000000         0.758592   \n",
              "SensorMeasure15        -0.783730         0.758592         1.000000   \n",
              "SensorMeasure17        -0.761335         0.674062         0.684160   \n",
              "SensorMeasure20         0.788879        -0.672773        -0.711454   \n",
              "SensorMeasure21         0.759066        -0.712276        -0.704096   \n",
              "RUL                     0.854521        -0.792360        -0.758773   \n",
              "\n",
              "                 SensorMeasure17  SensorMeasure20  SensorMeasure21       RUL  \n",
              "Cycle                   0.736812        -0.749719        -0.783346 -1.000000  \n",
              "SensorMeasure2          0.663840        -0.728517        -0.696017 -0.757438  \n",
              "SensorMeasure3          0.616880        -0.646284        -0.646993 -0.637896  \n",
              "SensorMeasure4          0.740354        -0.750084        -0.736035 -0.834873  \n",
              "SensorMeasure7         -0.707453         0.771805         0.738429  0.821509  \n",
              "SensorMeasure8          0.657102        -0.728973        -0.690911 -0.772269  \n",
              "SensorMeasure11         0.744918        -0.792117        -0.766274 -0.870092  \n",
              "SensorMeasure12        -0.761335         0.788879         0.759066  0.854521  \n",
              "SensorMeasure13         0.674062        -0.672773        -0.712276 -0.792360  \n",
              "SensorMeasure15         0.684160        -0.711454        -0.704096 -0.758773  \n",
              "SensorMeasure17         1.000000        -0.700751        -0.679314 -0.736812  \n",
              "SensorMeasure20        -0.700751         1.000000         0.716750  0.749719  \n",
              "SensorMeasure21        -0.679314         0.716750         1.000000  0.783346  \n",
              "RUL                    -0.736812         0.749719         0.783346  1.000000  "
            ]
          },
          "execution_count": 15,
          "metadata": {},
          "output_type": "execute_result"
        }
      ]
    },
    {
      "cell_type": "markdown",
      "source": [
        "## taRGET INPUT SPLIT"
      ],
      "metadata": {
        "id": "gJin4LeMzAjL"
      }
    },
    {
      "cell_type": "code",
      "source": [
        "X=df.drop(columns=['RUL'])\n",
        "y=df['RUL']"
      ],
      "metadata": {
        "id": "1tP9hYdDy7YD"
      },
      "execution_count": 16,
      "outputs": []
    },
    {
      "cell_type": "code",
      "source": [],
      "metadata": {
        "id": "oJNzvj-xz0nL"
      },
      "execution_count": 16,
      "outputs": []
    },
    {
      "cell_type": "markdown",
      "source": [],
      "metadata": {
        "id": "MkL_aHQ9rnA-"
      }
    },
    {
      "cell_type": "markdown",
      "source": [
        "**Data Splitting**\n",
        "\n",
        "Split the data into two datas \n",
        "\n",
        "1.   Train data\n",
        "2.   Test data\n",
        "\n"
      ],
      "metadata": {
        "id": "a40CoGsdApAD"
      }
    },
    {
      "cell_type": "code",
      "source": [
        "# Spliting the  the train and test data \n",
        "from sklearn.model_selection import train_test_split\n",
        "X_train, X_test, y_train, y_test = train_test_split(X, y, test_size=0.33, random_state=42)"
      ],
      "metadata": {
        "id": "tofvU85SGqAQ"
      },
      "execution_count": 17,
      "outputs": []
    },
    {
      "cell_type": "markdown",
      "source": [
        "**Linear Regressor**\n",
        "\n",
        "Linear regression uses the relationship between the data-points to draw a straight line through all them. This line can be used to predict future values. In Machine Learning, predicting the future is very important.\n"
      ],
      "metadata": {
        "id": "8o0Duognya_A"
      }
    },
    {
      "cell_type": "code",
      "execution_count": 19,
      "metadata": {
        "id": "2722b94e",
        "colab": {
          "base_uri": "https://localhost:8080/"
        },
        "outputId": "b0376eaf-98d7-443b-abe8-b8bc39c70d9b"
      },
      "outputs": [
        {
          "output_type": "stream",
          "name": "stdout",
          "text": [
            "R2 score :\n",
            " 100.0\n",
            "The  Root Mean squared error on the testing data\n",
            " 9.598548387595505e-14\n",
            "The Mean Absolute Error on the testing data\n",
            " 7.988804812870316e-14\n"
          ]
        }
      ],
      "source": [
        "#import Linear regresion from the sklearn  lib\n",
        "from sklearn.linear_model import LinearRegression\n",
        "from sklearn.metrics import mean_squared_error\n",
        "from sklearn.metrics import mean_absolute_error,r2_score\n",
        "model=LinearRegression()\n",
        "model.fit(X_train,y_train)\n",
        "y_test_pred_lr=model.predict(X_test)\n",
        "mse=mean_squared_error(y_test,y_test_pred_lr)\n",
        "rmse=np.sqrt(mse)\n",
        "rmse=np.sqrt(mse)\n",
        "r2_lr = r2_score(y_test, y_test_pred_lr)*100\n",
        "print(f\"R2 score :\\n {r2_lr}\")\n",
        "print('The  Root Mean squared error on the testing data\\n',rmse)\n",
        "print('The Mean Absolute Error on the testing data\\n',mean_absolute_error(y_test,y_test_pred_lr))"
      ]
    },
    {
      "cell_type": "markdown",
      "source": [
        "**plot for linear regressor**"
      ],
      "metadata": {
        "id": "KVeF-MknajQQ"
      }
    },
    {
      "cell_type": "code",
      "source": [
        "plt.plot(X_test['Cycle'],y_test,color='g',label='Actual')  \n",
        "plt.scatter(X_test['Cycle'], y_test_pred_lr,color='b',label='Predicted')\n",
        "plt.xlabel('Num of Cycle')\n",
        "plt.ylabel('RUL')\n",
        "plt.legend()\n",
        "plt.show()"
      ],
      "metadata": {
        "id": "YHiPfSStspIc",
        "outputId": "a822354e-e786-481b-f355-ab3380a368fc",
        "colab": {
          "base_uri": "https://localhost:8080/",
          "height": 449
        }
      },
      "execution_count": 27,
      "outputs": [
        {
          "output_type": "display_data",
          "data": {
            "text/plain": [
              "<Figure size 640x480 with 1 Axes>"
            ],
            "image/png": "[encoded data removed]"
          },
          "metadata": {}
        }
      ]
    },
    {
      "cell_type": "code",
      "source": [],
      "metadata": {
        "id": "SmoCSQb_sfpw"
      },
      "execution_count": null,
      "outputs": []
    },
    {
      "cell_type": "markdown",
      "source": [
        "##**Regression Model Implementation**"
      ],
      "metadata": {
        "id": "AeA80FVUyGlx"
      }
    },
    {
      "cell_type": "markdown",
      "source": [
        "**Random Forest Regressor**\n",
        "\n",
        "Random Forests can also be used for regression tasks. A Random Forest's nonlinear nature can give it a leg up over linear algorithms, making it a great option. "
      ],
      "metadata": {
        "id": "Ts-StVGJyplZ"
      }
    },
    {
      "cell_type": "code",
      "execution_count": 28,
      "metadata": {
        "id": "025adf99",
        "colab": {
          "base_uri": "https://localhost:8080/"
        },
        "outputId": "15cebf3e-8b5f-44d1-9018-df84ce1261b2"
      },
      "outputs": [
        {
          "output_type": "stream",
          "name": "stdout",
          "text": [
            "R2 score :\n",
            " 99.89212556066748\n",
            "The  Root Mean squared error on the testing data\n",
            " 1.920286788829041\n",
            "The Mean Absolute Error on the testing data\n",
            " 1.532837837837838\n"
          ]
        }
      ],
      "source": [
        "#import RFR from the sk learn Lib\n",
        "from sklearn.ensemble import RandomForestRegressor\n",
        "from sklearn.metrics import mean_squared_error\n",
        "from sklearn.metrics import mean_absolute_error\n",
        "from sklearn.metrics import r2_score\n",
        "model=RandomForestRegressor()\n",
        "model.fit(X_train,y_train)\n",
        "y_test_pred_rfr=model.predict(X_test)\n",
        "mse=mean_squared_error(y_test,y_test_pred_rfr)\n",
        "rmse=np.sqrt(mse)\n",
        "r2_rfr = r2_score(y_test, y_test_pred_rfr)*100\n",
        "print(f\"R2 score :\\n {r2_rfr}\")\n",
        "print('The  Root Mean squared error on the testing data\\n',rmse)\n",
        "print('The Mean Absolute Error on the testing data\\n',mean_absolute_error(y_test,y_test_pred_rfr))"
      ]
    },
    {
      "cell_type": "markdown",
      "source": [
        "**plot random forest Regressor**"
      ],
      "metadata": {
        "id": "RmPyzWz-Zilz"
      }
    },
    {
      "cell_type": "code",
      "source": [
        "# assume y_test and y_pred_rfr are the true and predicted values, respectively\n",
        "plt.scatter(y_test, y_test_pred_rfr)\n",
        "plt.xlabel('Actual values')\n",
        "plt.ylabel('Predicted values')\n",
        "plt.show()"
      ],
      "metadata": {
        "colab": {
          "base_uri": "https://localhost:8080/",
          "height": 449
        },
        "id": "4xsmx7NCTqYb",
        "outputId": "b7421122-26d2-44ab-cad7-b0ec902ad357"
      },
      "execution_count": 29,
      "outputs": [
        {
          "output_type": "display_data",
          "data": {
            "text/plain": [
              "<Figure size 640x480 with 1 Axes>"
            ],
            "image/png": "[encoded data removed]"
          },
          "metadata": {}
        }
      ]
    },
    {
      "cell_type": "code",
      "source": [
        "plt.plot(X_test['Cycle'],y_test,color='g',label='Actual')  \n",
        "plt.scatter(X_test['Cycle'], y_test_pred_rfr,color='b',label='Predicted')\n",
        "plt.xlabel('Num of Cycle')\n",
        "plt.ylabel('RUL')\n",
        "plt.legend()\n",
        "plt.show()"
      ],
      "metadata": {
        "id": "SJDpjiWXuqYY",
        "outputId": "e0c0c6f8-e6e7-43e7-d78e-38bc9acbb84f",
        "colab": {
          "base_uri": "https://localhost:8080/",
          "height": 449
        }
      },
      "execution_count": 31,
      "outputs": [
        {
          "output_type": "display_data",
          "data": {
            "text/plain": [
              "<Figure size 640x480 with 1 Axes>"
            ],
            "image/png": "[encoded data removed]"
          },
          "metadata": {}
        }
      ]
    },
    {
      "cell_type": "code",
      "source": [],
      "metadata": {
        "id": "DEc0PRbXulUw"
      },
      "execution_count": 29,
      "outputs": []
    }
  ]
}